{
 "cells": [
  {
   "attachments": {},
   "cell_type": "markdown",
   "metadata": {},
   "source": [
    "### HW2:"
   ]
  },
  {
   "cell_type": "code",
   "execution_count": 1,
   "metadata": {},
   "outputs": [],
   "source": [
    "import chardet as chardet\n",
    "import pandas as pd\n"
   ]
  },
  {
   "cell_type": "code",
   "execution_count": 3,
   "metadata": {},
   "outputs": [
    {
     "data": {
      "text/plain": [
       "{'encoding': 'UTF-8-SIG', 'confidence': 1.0, 'language': ''}"
      ]
     },
     "execution_count": 3,
     "metadata": {},
     "output_type": "execute_result"
    }
   ],
   "source": [
    "with open(\"aducate.csv\", 'rb') as rawdata:\n",
    "    result = chardet.detect(rawdata.read(100000))\n",
    "result "
   ]
  },
  {
   "cell_type": "code",
   "execution_count": 4,
   "metadata": {},
   "outputs": [],
   "source": [
    "# pandas 讀檔\n",
    "file = pd.read_csv('aducate.csv', encoding= 'utf-8')"
   ]
  },
  {
   "cell_type": "code",
   "execution_count": 62,
   "metadata": {},
   "outputs": [
    {
     "name": "stdout",
     "output_type": "stream",
     "text": [
      "1100\n"
     ]
    }
   ],
   "source": [
    "# 總資料數：\n",
    "print(len(file))"
   ]
  },
  {
   "cell_type": "code",
   "execution_count": 5,
   "metadata": {},
   "outputs": [
    {
     "name": "stdout",
     "output_type": "stream",
     "text": [
      "共有： 5 件受款來自臺北市政府教育局\n",
      "共有： 14 件受款來自臺北市政府教育局\n",
      "共有： 19 件受款來自臺中市政府教育局\n",
      "共有： 20 件受款來自桃園市政府\n",
      "共有： 16 件受款來自台南市政府教育局\n",
      "共有： 20 件受款來自高雄市政府教育局\n"
     ]
    }
   ],
   "source": [
    "# Q1~Q6 ： 共有幾件款項 分別來自 台北市 新北市 台中市 桃園市 台南市 高雄市 ：\n",
    "\n",
    "filtered_file_taipei = file.loc[file['受款單位'] == '臺北市政府教育局']\n",
    "filtered_file_newtaipei = file.loc[file['受款單位'] == '新北市政府教育局']\n",
    "filtered_file_taichung = file.loc[file['受款單位'] == '臺中市政府教育局']\n",
    "filtered_file_taoyuan = file.loc[file['受款單位'] == '桃園市政府']\n",
    "filtered_file_kaohsiung = file.loc[file['受款單位'] == '高雄市政府教育局']\n",
    "filtered_file_tainan = file.loc[file['受款單位'] == '臺南市政府教育局']\n",
    "\n",
    "print('共有：', len(filtered_file_taipei),'件受款來自臺北市政府教育局')\n",
    "print('共有：', len(filtered_file_newtaipei),'件受款來自臺北市政府教育局')\n",
    "print('共有：', len(filtered_file_taichung),'件受款來自臺中市政府教育局')\n",
    "print('共有：', len(filtered_file_taoyuan),'件受款來自桃園市政府')\n",
    "print('共有：', len(filtered_file_tainan),'件受款來自台南市政府教育局')\n",
    "print('共有：', len(filtered_file_kaohsiung),'件受款來自高雄市政府教育局')\n",
    "\n"
   ]
  },
  {
   "cell_type": "code",
   "execution_count": 85,
   "metadata": {},
   "outputs": [
    {
     "name": "stdout",
     "output_type": "stream",
     "text": [
      "共有： 810 件科目為國民及學前教育行政及督導\n",
      "共有： 290 件科目為國立高級中等學校教學與訓輔輔助\n"
     ]
    }
   ],
   "source": [
    "# Q7: 有幾件科目為'國民及學前教育行政及督導'\n",
    "# Q8: 有幾件科目為'國立高級中等學校教學與訓輔輔助'\n",
    "\n",
    "filtered_file_sub1 = file.loc[file['科目名稱'] == '國民及學前教育行政及督導']\n",
    "filtered_file_sub2 = file.loc[file['科目名稱'] == '國立高級中等學校教學與訓輔輔助']\n",
    "\n",
    "print('共有：', len(filtered_file_sub1),'件科目為國民及學前教育行政及督導')\n",
    "print('共有：', len(filtered_file_sub2),'件科目為國立高級中等學校教學與訓輔輔助')"
   ]
  },
  {
   "cell_type": "code",
   "execution_count": 6,
   "metadata": {},
   "outputs": [
    {
     "name": "stdout",
     "output_type": "stream",
     "text": [
      "金額超過十億： 4 筆\n",
      "金額介於十億至一億： 25 筆\n",
      "金額低於一億： 1071 筆\n"
     ]
    }
   ],
   "source": [
    "# Q9：超過十億的金額有幾筆\n",
    "# Q10：金額介於十億至一億有幾筆\n",
    "# Q11: 金額低於一億有幾筆\n",
    "\n",
    "amount = [0,0,0]\n",
    "for index, row in file.iterrows():\n",
    "    money = int(row[4].replace(',',''))\n",
    "    if money >= 1000000000 :\n",
    "        amount[0] += 1\n",
    "    elif money >= 100000000 :\n",
    "        amount[1] += 1\n",
    "    else:\n",
    "        amount[2] += 1 \n",
    "        \n",
    "print('金額超過十億：',amount[0], '筆')\n",
    "print('金額介於十億至一億：',amount[1], '筆')\n",
    "print('金額低於一億：',amount[2], '筆')\n",
    "        \n"
   ]
  },
  {
   "attachments": {},
   "cell_type": "markdown",
   "metadata": {},
   "source": [
    "### 畫圖"
   ]
  },
  {
   "cell_type": "code",
   "execution_count": 12,
   "metadata": {},
   "outputs": [
    {
     "data": {
      "application/vnd.plotly.v1+json": {
       "config": {
        "plotlyServerURL": "https://plot.ly"
       },
       "data": [
        {
         "alignmentgroup": "True",
         "hovertemplate": "受款單位=臺北市政府教育局<br>執行日期=%{x}<br>金額 =%{y}<extra></extra>",
         "legendgroup": "臺北市政府教育局",
         "marker": {
          "color": "#636efa",
          "pattern": {
           "shape": ""
          }
         },
         "name": "臺北市政府教育局",
         "offsetgroup": "臺北市政府教育局",
         "orientation": "v",
         "showlegend": true,
         "textposition": "auto",
         "type": "bar",
         "x": [
          "112/01/09",
          "112/01/10",
          "112/01/12",
          "112/01/16",
          "112/01/16"
         ],
         "xaxis": "x",
         "y": [
          "316,295,952",
          "451,000",
          "1,050,000",
          "1,557,800",
          "23,800,000"
         ],
         "yaxis": "y"
        },
        {
         "alignmentgroup": "True",
         "hovertemplate": "受款單位=臺中市政府教育局<br>執行日期=%{x}<br>金額 =%{y}<extra></extra>",
         "legendgroup": "臺中市政府教育局",
         "marker": {
          "color": "#EF553B",
          "pattern": {
           "shape": ""
          }
         },
         "name": "臺中市政府教育局",
         "offsetgroup": "臺中市政府教育局",
         "orientation": "v",
         "showlegend": true,
         "textposition": "auto",
         "type": "bar",
         "x": [
          "112/01/10",
          "112/01/10",
          "112/01/10",
          "112/01/10",
          "112/01/10",
          "112/01/12",
          "112/01/16",
          "112/01/16",
          "112/01/16",
          "112/01/16",
          "112/01/16",
          "112/01/16",
          "112/01/17",
          "112/01/17",
          "112/01/17",
          "112/01/17",
          "112/01/17",
          "112/01/19",
          "112/01/19"
         ],
         "xaxis": "x",
         "y": [
          "997,101",
          "28,841,000",
          "86,649",
          "3,882",
          "159,131,382",
          "587,537",
          "2,190,680",
          "126,360",
          "1,235,086",
          "928,524",
          "106,777,600",
          "2,417,712",
          "257,985",
          "144,660",
          "4,262,369",
          "273,697",
          "1,302,612,000",
          "43,404,036",
          "8,985,216"
         ],
         "yaxis": "y"
        },
        {
         "alignmentgroup": "True",
         "hovertemplate": "受款單位=高雄市政府教育局<br>執行日期=%{x}<br>金額 =%{y}<extra></extra>",
         "legendgroup": "高雄市政府教育局",
         "marker": {
          "color": "#00cc96",
          "pattern": {
           "shape": ""
          }
         },
         "name": "高雄市政府教育局",
         "offsetgroup": "高雄市政府教育局",
         "orientation": "v",
         "showlegend": true,
         "textposition": "auto",
         "type": "bar",
         "x": [
          "112/01/10",
          "112/01/10",
          "112/01/12",
          "112/01/13",
          "112/01/13",
          "112/01/13",
          "112/01/16",
          "112/01/16",
          "112/01/16",
          "112/01/16",
          "112/01/17",
          "112/01/17",
          "112/01/18",
          "112/01/18",
          "112/01/18",
          "112/01/19",
          "112/01/19",
          "112/01/19",
          "112/01/19",
          "112/01/19"
         ],
         "xaxis": "x",
         "y": [
          "29,172,000",
          "320,977,308",
          "37,120,309",
          "1,146,202",
          "5,544,000",
          "6,048,223",
          "329,280",
          "9,136,900",
          "3,525,000",
          "102,010,172",
          "393,600",
          "398,605",
          "274,489",
          "370,000",
          "1,234,329,000",
          "1,346,900",
          "102,000",
          "4,303,654",
          "302,544",
          "2,459,400"
         ],
         "yaxis": "y"
        },
        {
         "alignmentgroup": "True",
         "hovertemplate": "受款單位=桃園市政府<br>執行日期=%{x}<br>金額 =%{y}<extra></extra>",
         "legendgroup": "桃園市政府",
         "marker": {
          "color": "#ab63fa",
          "pattern": {
           "shape": ""
          }
         },
         "name": "桃園市政府",
         "offsetgroup": "桃園市政府",
         "orientation": "v",
         "showlegend": true,
         "textposition": "auto",
         "type": "bar",
         "x": [
          "111/12/26",
          "112/01/10",
          "112/01/10",
          "112/01/10",
          "112/01/10",
          "112/01/12",
          "112/01/13",
          "112/01/13",
          "112/01/13",
          "112/01/16",
          "112/01/16",
          "112/01/17",
          "112/01/17",
          "112/01/17",
          "112/01/18",
          "112/01/18",
          "112/01/18",
          "112/01/18",
          "112/01/18",
          "112/01/19"
         ],
         "xaxis": "x",
         "y": [
          "1,019,320",
          "3,558",
          "3,801",
          "484,500",
          "209,634,954",
          "473,000",
          "9,000,000",
          "22,814,000",
          "916,789",
          "370,283",
          "1,070,728",
          "1,259,298,000",
          "2,555,525",
          "324,000,000",
          "84,726",
          "294,120",
          "572,250",
          "8,198,346",
          "3,274,200",
          "350,000"
         ],
         "yaxis": "y"
        },
        {
         "alignmentgroup": "True",
         "hovertemplate": "受款單位=臺南市政府教育局<br>執行日期=%{x}<br>金額 =%{y}<extra></extra>",
         "legendgroup": "臺南市政府教育局",
         "marker": {
          "color": "#FFA15A",
          "pattern": {
           "shape": ""
          }
         },
         "name": "臺南市政府教育局",
         "offsetgroup": "臺南市政府教育局",
         "orientation": "v",
         "showlegend": true,
         "textposition": "auto",
         "type": "bar",
         "x": [
          "112/01/12",
          "112/01/12",
          "112/01/12",
          "112/01/13",
          "112/01/13",
          "112/01/13",
          "112/01/13",
          "112/01/16",
          "112/01/16",
          "112/01/16",
          "112/01/16",
          "112/01/16",
          "112/01/17",
          "112/01/17",
          "112/01/17",
          "112/01/17"
         ],
         "xaxis": "x",
         "y": [
          "821,001,000",
          "693,428",
          "18,326,000",
          "473,000",
          "58,755",
          "64,672,000",
          "658,018",
          "73,710,633",
          "1,623,120",
          "1,349,500",
          "1,038,000",
          "40,500",
          "1,848,000",
          "173,624",
          "10,277,293",
          "184,800"
         ],
         "yaxis": "y"
        },
        {
         "alignmentgroup": "True",
         "hovertemplate": "受款單位=新北市政府教育局<br>執行日期=%{x}<br>金額 =%{y}<extra></extra>",
         "legendgroup": "新北市政府教育局",
         "marker": {
          "color": "#19d3f3",
          "pattern": {
           "shape": ""
          }
         },
         "name": "新北市政府教育局",
         "offsetgroup": "新北市政府教育局",
         "orientation": "v",
         "showlegend": true,
         "textposition": "auto",
         "type": "bar",
         "x": [
          "112/01/12",
          "112/01/12",
          "112/01/12",
          "112/01/16",
          "112/01/16",
          "112/01/18",
          "112/01/18",
          "112/01/18",
          "112/01/18",
          "112/01/19",
          "112/01/19",
          "112/01/19",
          "112/01/19",
          "112/01/19"
         ],
         "xaxis": "x",
         "y": [
          "166,535,832",
          "676,853",
          "45,479,000",
          "1,350,000",
          "122,858,184",
          "351,720",
          "233,421",
          "9,886,310",
          "1,549,995,000",
          "15,750,000",
          "4,808,335",
          "231,009",
          "274,400",
          "174,500"
         ],
         "yaxis": "y"
        },
        {
         "alignmentgroup": "True",
         "hovertemplate": "受款單位=新竹縣政府<br>執行日期=%{x}<br>金額 =%{y}<extra></extra>",
         "legendgroup": "新竹縣政府",
         "marker": {
          "color": "#FF6692",
          "pattern": {
           "shape": ""
          }
         },
         "name": "新竹縣政府",
         "offsetgroup": "新竹縣政府",
         "orientation": "v",
         "showlegend": true,
         "textposition": "auto",
         "type": "bar",
         "x": [
          "112/01/03",
          "112/01/07",
          "112/01/09",
          "112/01/12",
          "112/01/13",
          "112/01/16",
          "112/01/16",
          "112/01/16"
         ],
         "xaxis": "x",
         "y": [
          "367,740,000",
          "473,000",
          "33,242,910",
          "350,000",
          "280,052",
          "1,771,000",
          "1,014,000",
          "517,000"
         ],
         "yaxis": "y"
        },
        {
         "alignmentgroup": "True",
         "hovertemplate": "受款單位=基隆市政府<br>執行日期=%{x}<br>金額 =%{y}<extra></extra>",
         "legendgroup": "基隆市政府",
         "marker": {
          "color": "#B6E880",
          "pattern": {
           "shape": ""
          }
         },
         "name": "基隆市政府",
         "offsetgroup": "基隆市政府",
         "orientation": "v",
         "showlegend": true,
         "textposition": "auto",
         "type": "bar",
         "x": [
          "112/01/05",
          "112/01/07",
          "111/12/26",
          "112/01/10",
          "112/01/10",
          "112/01/11",
          "112/01/12",
          "112/01/12",
          "112/01/12",
          "112/01/13",
          "112/01/13",
          "112/01/13",
          "112/01/13",
          "112/01/17",
          "112/01/19"
         ],
         "xaxis": "x",
         "y": [
          "2,180,997",
          "106,380,000",
          "115,720",
          "473,000",
          "44,588,688",
          "4,049,500",
          "2,281,936",
          "142,739",
          "13,590,914",
          "240,000",
          "715,835",
          "2,244,000",
          "407,323",
          "2,937,437",
          "105,600"
         ],
         "yaxis": "y"
        },
        {
         "alignmentgroup": "True",
         "hovertemplate": "受款單位=嘉義縣政府<br>執行日期=%{x}<br>金額 =%{y}<extra></extra>",
         "legendgroup": "嘉義縣政府",
         "marker": {
          "color": "#FF97FF",
          "pattern": {
           "shape": ""
          }
         },
         "name": "嘉義縣政府",
         "offsetgroup": "嘉義縣政府",
         "orientation": "v",
         "showlegend": true,
         "textposition": "auto",
         "type": "bar",
         "x": [
          "112/01/06",
          "112/01/13",
          "112/01/13",
          "112/01/16",
          "112/01/16",
          "112/01/17",
          "112/01/18",
          "112/01/19",
          "112/01/19",
          "112/01/19",
          "112/01/19",
          "112/01/19"
         ],
         "xaxis": "x",
         "y": [
          "152,307,000",
          "19,127,244",
          "247,778",
          "1,248,000",
          "44,000",
          "8,415,000",
          "16,821",
          "1,895,940",
          "24,000",
          "145,960",
          "12,249,041",
          "100,800"
         ],
         "yaxis": "y"
        },
        {
         "alignmentgroup": "True",
         "hovertemplate": "受款單位=南投縣政府<br>執行日期=%{x}<br>金額 =%{y}<extra></extra>",
         "legendgroup": "南投縣政府",
         "marker": {
          "color": "#FECB52",
          "pattern": {
           "shape": ""
          }
         },
         "name": "南投縣政府",
         "offsetgroup": "南投縣政府",
         "orientation": "v",
         "showlegend": true,
         "textposition": "auto",
         "type": "bar",
         "x": [
          "112/01/06",
          "112/01/09",
          "112/01/12",
          "112/01/12",
          "112/01/12",
          "112/01/12",
          "112/01/13",
          "112/01/16",
          "112/01/16",
          "112/01/16",
          "112/01/17",
          "112/01/17",
          "112/01/17",
          "112/01/17",
          "112/01/18",
          "112/01/18",
          "112/01/19"
         ],
         "xaxis": "x",
         "y": [
          "193,230,000",
          "21,349,536",
          "685,300",
          "195,800",
          "750,273",
          "11,348,000",
          "105,813",
          "6,687,378",
          "19,706,323",
          "13,500",
          "19,823,513",
          "1,212,342",
          "352,786",
          "10,080,000",
          "732,980",
          "128,820,000",
          "310,500"
         ],
         "yaxis": "y"
        },
        {
         "alignmentgroup": "True",
         "hovertemplate": "受款單位=屏東縣政府<br>執行日期=%{x}<br>金額 =%{y}<extra></extra>",
         "legendgroup": "屏東縣政府",
         "marker": {
          "color": "#636efa",
          "pattern": {
           "shape": ""
          }
         },
         "name": "屏東縣政府",
         "offsetgroup": "屏東縣政府",
         "orientation": "v",
         "showlegend": true,
         "textposition": "auto",
         "type": "bar",
         "x": [
          "112/01/06",
          "112/01/09",
          "112/01/10",
          "112/01/10",
          "112/01/13",
          "112/01/16",
          "112/01/16",
          "112/01/16",
          "112/01/17",
          "112/01/18",
          "112/01/18",
          "112/01/19",
          "112/01/19"
         ],
         "xaxis": "x",
         "y": [
          "298,692,000",
          "74,405,088",
          "811,023",
          "10,710,000",
          "495,000",
          "2,422,000",
          "1,058,000",
          "2,400,776",
          "540,000",
          "99,087",
          "199,128,000",
          "111,949",
          "211,280"
         ],
         "yaxis": "y"
        },
        {
         "alignmentgroup": "True",
         "hovertemplate": "受款單位=雲林縣政府<br>執行日期=%{x}<br>金額 =%{y}<extra></extra>",
         "legendgroup": "雲林縣政府",
         "marker": {
          "color": "#EF553B",
          "pattern": {
           "shape": ""
          }
         },
         "name": "雲林縣政府",
         "offsetgroup": "雲林縣政府",
         "orientation": "v",
         "showlegend": true,
         "textposition": "auto",
         "type": "bar",
         "x": [
          "112/01/06",
          "112/01/09",
          "112/01/10",
          "112/01/10",
          "112/01/16",
          "112/01/16",
          "112/01/16",
          "112/01/16",
          "112/01/17",
          "112/01/17",
          "112/01/19",
          "112/01/19"
         ],
         "xaxis": "x",
         "y": [
          "268,953,000",
          "22,445,028",
          "915,860",
          "11,093,000",
          "179,302,000",
          "495,000",
          "567,300",
          "234,000",
          "1,149,209",
          "19,571,200",
          "1,382,681",
          "144,000"
         ],
         "yaxis": "y"
        },
        {
         "alignmentgroup": "True",
         "hovertemplate": "受款單位=苗栗縣政府<br>執行日期=%{x}<br>金額 =%{y}<extra></extra>",
         "legendgroup": "苗栗縣政府",
         "marker": {
          "color": "#00cc96",
          "pattern": {
           "shape": ""
          }
         },
         "name": "苗栗縣政府",
         "offsetgroup": "苗栗縣政府",
         "orientation": "v",
         "showlegend": true,
         "textposition": "auto",
         "type": "bar",
         "x": [
          "112/01/06",
          "112/01/09",
          "112/01/09",
          "112/01/10",
          "112/01/10",
          "112/01/12",
          "112/01/17",
          "112/01/17",
          "112/01/17",
          "112/01/18",
          "112/01/19",
          "112/01/19"
         ],
         "xaxis": "x",
         "y": [
          "495,000",
          "75,693,180",
          "231,462,000",
          "919,080",
          "54,500",
          "9,180,000",
          "468,216",
          "25,769,376",
          "1,890,000",
          "117,576",
          "3,411,142",
          "17,439,388"
         ],
         "yaxis": "y"
        },
        {
         "alignmentgroup": "True",
         "hovertemplate": "受款單位=臺東縣政府<br>執行日期=%{x}<br>金額 =%{y}<extra></extra>",
         "legendgroup": "臺東縣政府",
         "marker": {
          "color": "#ab63fa",
          "pattern": {
           "shape": ""
          }
         },
         "name": "臺東縣政府",
         "offsetgroup": "臺東縣政府",
         "orientation": "v",
         "showlegend": true,
         "textposition": "auto",
         "type": "bar",
         "x": [
          "112/01/07",
          "112/01/10",
          "112/01/10",
          "112/01/11",
          "112/01/12",
          "112/01/13",
          "112/01/13",
          "112/01/16",
          "112/01/17",
          "112/01/18",
          "112/01/19"
         ],
         "xaxis": "x",
         "y": [
          "7,144",
          "75,000,000",
          "11,269,662",
          "774,360",
          "8,415,000",
          "221,760",
          "10,080,000",
          "1,371,436",
          "33,642",
          "598,690",
          "90,000"
         ],
         "yaxis": "y"
        },
        {
         "alignmentgroup": "True",
         "hovertemplate": "受款單位=花蓮縣政府<br>執行日期=%{x}<br>金額 =%{y}<extra></extra>",
         "legendgroup": "花蓮縣政府",
         "marker": {
          "color": "#FFA15A",
          "pattern": {
           "shape": ""
          }
         },
         "name": "花蓮縣政府",
         "offsetgroup": "花蓮縣政府",
         "orientation": "v",
         "showlegend": true,
         "textposition": "auto",
         "type": "bar",
         "x": [
          "112/01/09",
          "112/01/16",
          "112/01/19",
          "112/01/19"
         ],
         "xaxis": "x",
         "y": [
          "117,570,000",
          "4,095,000",
          "1,008,041",
          "819,000"
         ],
         "yaxis": "y"
        },
        {
         "alignmentgroup": "True",
         "hovertemplate": "受款單位=彰化縣政府<br>執行日期=%{x}<br>金額 =%{y}<extra></extra>",
         "legendgroup": "彰化縣政府",
         "marker": {
          "color": "#19d3f3",
          "pattern": {
           "shape": ""
          }
         },
         "name": "彰化縣政府",
         "offsetgroup": "彰化縣政府",
         "orientation": "v",
         "showlegend": true,
         "textposition": "auto",
         "type": "bar",
         "x": [
          "112/01/09",
          "112/01/10",
          "112/01/10",
          "112/01/10",
          "112/01/10",
          "112/01/17",
          "112/01/17",
          "112/01/18",
          "112/01/18",
          "112/01/18",
          "112/01/19",
          "112/01/19"
         ],
         "xaxis": "x",
         "y": [
          "688,464,000",
          "1,068,123",
          "14,752,000",
          "484,000",
          "51,000",
          "266,016",
          "38,202,982",
          "2,698,396",
          "1,635,480",
          "747,356",
          "96,397,128",
          "6,541,500"
         ],
         "yaxis": "y"
        },
        {
         "alignmentgroup": "True",
         "hovertemplate": "受款單位=嘉義市政府<br>執行日期=%{x}<br>金額 =%{y}<extra></extra>",
         "legendgroup": "嘉義市政府",
         "marker": {
          "color": "#FF6692",
          "pattern": {
           "shape": ""
          }
         },
         "name": "嘉義市政府",
         "offsetgroup": "嘉義市政府",
         "orientation": "v",
         "showlegend": true,
         "textposition": "auto",
         "type": "bar",
         "x": [
          "112/01/10",
          "112/01/11",
          "112/01/13",
          "112/01/13",
          "112/01/17",
          "112/01/19",
          "112/01/19",
          "112/01/19"
         ],
         "xaxis": "x",
         "y": [
          "2,648,000",
          "122,529,000",
          "18,971,796",
          "264,000",
          "99,804",
          "45,650",
          "322,140",
          "4,829,123"
         ],
         "yaxis": "y"
        },
        {
         "alignmentgroup": "True",
         "hovertemplate": "受款單位=宜蘭縣政府<br>執行日期=%{x}<br>金額 =%{y}<extra></extra>",
         "legendgroup": "宜蘭縣政府",
         "marker": {
          "color": "#B6E880",
          "pattern": {
           "shape": ""
          }
         },
         "name": "宜蘭縣政府",
         "offsetgroup": "宜蘭縣政府",
         "orientation": "v",
         "showlegend": true,
         "textposition": "auto",
         "type": "bar",
         "x": [
          "112/01/10",
          "112/01/10",
          "112/01/10",
          "112/01/12",
          "112/01/13",
          "112/01/16",
          "112/01/16",
          "112/01/16",
          "112/01/16",
          "112/01/19"
         ],
         "xaxis": "x",
         "y": [
          "4,161,000",
          "179,019,000",
          "5,295,500",
          "636,600",
          "484,000",
          "33,515,192",
          "2,732,260",
          "174,512",
          "724,130",
          "1,167,858"
         ],
         "yaxis": "y"
        },
        {
         "alignmentgroup": "True",
         "hovertemplate": "受款單位=新竹縣政府教育局地方教育發展基金專戶<br>執行日期=%{x}<br>金額 =%{y}<extra></extra>",
         "legendgroup": "新竹縣政府教育局地方教育發展基金專戶",
         "marker": {
          "color": "#FF97FF",
          "pattern": {
           "shape": ""
          }
         },
         "name": "新竹縣政府教育局地方教育發展基金專戶",
         "offsetgroup": "新竹縣政府教育局地方教育發展基金專戶",
         "orientation": "v",
         "showlegend": true,
         "textposition": "auto",
         "type": "bar",
         "x": [
          "112/01/10"
         ],
         "xaxis": "x",
         "y": [
          "12,000"
         ],
         "yaxis": "y"
        },
        {
         "alignmentgroup": "True",
         "hovertemplate": "受款單位=新竹市政府<br>執行日期=%{x}<br>金額 =%{y}<extra></extra>",
         "legendgroup": "新竹市政府",
         "marker": {
          "color": "#FECB52",
          "pattern": {
           "shape": ""
          }
         },
         "name": "新竹市政府",
         "offsetgroup": "新竹市政府",
         "orientation": "v",
         "showlegend": true,
         "textposition": "auto",
         "type": "bar",
         "x": [
          "112/01/10",
          "112/01/12",
          "112/01/12",
          "112/01/13",
          "112/01/16",
          "112/01/17",
          "112/01/17",
          "112/01/17"
         ],
         "xaxis": "x",
         "y": [
          "280,632,000",
          "586,608",
          "5,984,000",
          "473,000",
          "805,350",
          "145,798",
          "3,390,765",
          "55,187,544"
         ],
         "yaxis": "y"
        },
        {
         "alignmentgroup": "True",
         "hovertemplate": "受款單位=澎湖縣政府<br>執行日期=%{x}<br>金額 =%{y}<extra></extra>",
         "legendgroup": "澎湖縣政府",
         "marker": {
          "color": "#636efa",
          "pattern": {
           "shape": ""
          }
         },
         "name": "澎湖縣政府",
         "offsetgroup": "澎湖縣政府",
         "orientation": "v",
         "showlegend": true,
         "textposition": "auto",
         "type": "bar",
         "x": [
          "112/01/12",
          "112/01/12",
          "112/01/13",
          "112/01/13",
          "112/01/13",
          "112/01/17",
          "112/01/17",
          "112/01/17",
          "112/01/18"
         ],
         "xaxis": "x",
         "y": [
          "2,117,552",
          "100,440",
          "585,000",
          "41,037,000",
          "495,000",
          "3,902,000",
          "104,832",
          "5,328,000",
          "83,592"
         ],
         "yaxis": "y"
        },
        {
         "alignmentgroup": "True",
         "hovertemplate": "受款單位=連江縣政府<br>執行日期=%{x}<br>金額 =%{y}<extra></extra>",
         "legendgroup": "連江縣政府",
         "marker": {
          "color": "#EF553B",
          "pattern": {
           "shape": ""
          }
         },
         "name": "連江縣政府",
         "offsetgroup": "連江縣政府",
         "orientation": "v",
         "showlegend": true,
         "textposition": "auto",
         "type": "bar",
         "x": [
          "112/01/12",
          "112/01/12",
          "112/01/17",
          "112/01/17",
          "112/01/17",
          "112/01/19",
          "112/01/19",
          "112/01/19",
          "112/01/19"
         ],
         "xaxis": "x",
         "y": [
          "495,000",
          "2,295,000",
          "84,105",
          "381,367",
          "81,000",
          "1,890,475",
          "208,397",
          "18,000",
          "986,738"
         ],
         "yaxis": "y"
        },
        {
         "alignmentgroup": "True",
         "hovertemplate": "受款單位=金門縣政府<br>執行日期=%{x}<br>金額 =%{y}<extra></extra>",
         "legendgroup": "金門縣政府",
         "marker": {
          "color": "#00cc96",
          "pattern": {
           "shape": ""
          }
         },
         "name": "金門縣政府",
         "offsetgroup": "金門縣政府",
         "orientation": "v",
         "showlegend": true,
         "textposition": "auto",
         "type": "bar",
         "x": [
          "112/01/13",
          "112/01/19",
          "112/01/19",
          "112/01/19"
         ],
         "xaxis": "x",
         "y": [
          "28,050,000",
          "2,170,663",
          "195,360",
          "378,000"
         ],
         "yaxis": "y"
        },
        {
         "alignmentgroup": "True",
         "hovertemplate": "受款單位=國防部空軍司令部<br>執行日期=%{x}<br>金額 =%{y}<extra></extra>",
         "legendgroup": "國防部空軍司令部",
         "marker": {
          "color": "#ab63fa",
          "pattern": {
           "shape": ""
          }
         },
         "name": "國防部空軍司令部",
         "offsetgroup": "國防部空軍司令部",
         "orientation": "v",
         "showlegend": true,
         "textposition": "auto",
         "type": "bar",
         "x": [
          "112/01/11",
          "112/01/11"
         ],
         "xaxis": "x",
         "y": [
          "1,493,914",
          "19,829,700"
         ],
         "yaxis": "y"
        },
        {
         "alignmentgroup": "True",
         "hovertemplate": "受款單位=法務部矯正署臺東監獄<br>執行日期=%{x}<br>金額 =%{y}<extra></extra>",
         "legendgroup": "法務部矯正署臺東監獄",
         "marker": {
          "color": "#FFA15A",
          "pattern": {
           "shape": ""
          }
         },
         "name": "法務部矯正署臺東監獄",
         "offsetgroup": "法務部矯正署臺東監獄",
         "orientation": "v",
         "showlegend": true,
         "textposition": "auto",
         "type": "bar",
         "x": [
          "112/01/13",
          "112/01/13"
         ],
         "xaxis": "x",
         "y": [
          "300,000",
          "3,013,156"
         ],
         "yaxis": "y"
        },
        {
         "alignmentgroup": "True",
         "hovertemplate": "受款單位=國家教育研究院<br>執行日期=%{x}<br>金額 =%{y}<extra></extra>",
         "legendgroup": "國家教育研究院",
         "marker": {
          "color": "#19d3f3",
          "pattern": {
           "shape": ""
          }
         },
         "name": "國家教育研究院",
         "offsetgroup": "國家教育研究院",
         "orientation": "v",
         "showlegend": true,
         "textposition": "auto",
         "type": "bar",
         "x": [
          "112/01/13"
         ],
         "xaxis": "x",
         "y": [
          "5,405,400"
         ],
         "yaxis": "y"
        },
        {
         "alignmentgroup": "True",
         "hovertemplate": "受款單位=內政部營建署<br>執行日期=%{x}<br>金額 =%{y}<extra></extra>",
         "legendgroup": "內政部營建署",
         "marker": {
          "color": "#FF6692",
          "pattern": {
           "shape": ""
          }
         },
         "name": "內政部營建署",
         "offsetgroup": "內政部營建署",
         "orientation": "v",
         "showlegend": true,
         "textposition": "auto",
         "type": "bar",
         "x": [
          "112/01/16",
          "112/01/16",
          "112/01/19"
         ],
         "xaxis": "x",
         "y": [
          "50,000",
          "858,915",
          "80,000"
         ],
         "yaxis": "y"
        },
        {
         "alignmentgroup": "True",
         "hovertemplate": "受款單位=國立後壁高級中學<br>執行日期=%{x}<br>金額 =%{y}<extra></extra>",
         "legendgroup": "國立後壁高級中學",
         "marker": {
          "color": "#B6E880",
          "pattern": {
           "shape": ""
          }
         },
         "name": "國立後壁高級中學",
         "offsetgroup": "國立後壁高級中學",
         "orientation": "v",
         "showlegend": true,
         "textposition": "auto",
         "type": "bar",
         "x": [
          "112/01/05",
          "112/01/05",
          "112/01/16",
          "112/01/19",
          "112/01/19",
          "112/01/01",
          "112/01/03"
         ],
         "xaxis": "x",
         "y": [
          "1,530,000",
          "271,215",
          "2,500,000",
          "2,900,000",
          "12,000",
          "9,375,000",
          "23,545,000"
         ],
         "yaxis": "y"
        },
        {
         "alignmentgroup": "True",
         "hovertemplate": "受款單位=國立新竹高級工業職業學校<br>執行日期=%{x}<br>金額 =%{y}<extra></extra>",
         "legendgroup": "國立新竹高級工業職業學校",
         "marker": {
          "color": "#FF97FF",
          "pattern": {
           "shape": ""
          }
         },
         "name": "國立新竹高級工業職業學校",
         "offsetgroup": "國立新竹高級工業職業學校",
         "orientation": "v",
         "showlegend": true,
         "textposition": "auto",
         "type": "bar",
         "x": [
          "112/01/05",
          "112/01/10",
          "112/01/16",
          "112/01/17",
          "112/01/01",
          "112/01/03"
         ],
         "xaxis": "x",
         "y": [
          "337,365",
          "13,500",
          "2,000,000",
          "405,243",
          "12,288,000",
          "35,588,000"
         ],
         "yaxis": "y"
        },
        {
         "alignmentgroup": "True",
         "hovertemplate": "受款單位=國立苗栗高級商業職業學校<br>執行日期=%{x}<br>金額 =%{y}<extra></extra>",
         "legendgroup": "國立苗栗高級商業職業學校",
         "marker": {
          "color": "#FECB52",
          "pattern": {
           "shape": ""
          }
         },
         "name": "國立苗栗高級商業職業學校",
         "offsetgroup": "國立苗栗高級商業職業學校",
         "orientation": "v",
         "showlegend": true,
         "textposition": "auto",
         "type": "bar",
         "x": [
          "112/01/05",
          "112/01/10",
          "112/01/10",
          "112/01/12",
          "112/01/17",
          "112/01/01",
          "112/01/03"
         ],
         "xaxis": "x",
         "y": [
          "115,101",
          "738,000",
          "12,000",
          "276,000",
          "405,243",
          "7,750,000",
          "21,574,000"
         ],
         "yaxis": "y"
        },
        {
         "alignmentgroup": "True",
         "hovertemplate": "受款單位=國立員林崇實高級工業職業學校<br>執行日期=%{x}<br>金額 =%{y}<extra></extra>",
         "legendgroup": "國立員林崇實高級工業職業學校",
         "marker": {
          "color": "#636efa",
          "pattern": {
           "shape": ""
          }
         },
         "name": "國立員林崇實高級工業職業學校",
         "offsetgroup": "國立員林崇實高級工業職業學校",
         "orientation": "v",
         "showlegend": true,
         "textposition": "auto",
         "type": "bar",
         "x": [
          "112/01/05",
          "112/01/10",
          "112/01/10",
          "112/01/17",
          "112/01/01",
          "112/01/03"
         ],
         "xaxis": "x",
         "y": [
          "91,728",
          "12,000",
          "12,000",
          "4,000,000",
          "10,400,000",
          "28,653,000"
         ],
         "yaxis": "y"
        },
        {
         "alignmentgroup": "True",
         "hovertemplate": "受款單位=國立員林高級家事商業職業學校<br>執行日期=%{x}<br>金額 =%{y}<extra></extra>",
         "legendgroup": "國立員林高級家事商業職業學校",
         "marker": {
          "color": "#EF553B",
          "pattern": {
           "shape": ""
          }
         },
         "name": "國立員林高級家事商業職業學校",
         "offsetgroup": "國立員林高級家事商業職業學校",
         "orientation": "v",
         "showlegend": true,
         "textposition": "auto",
         "type": "bar",
         "x": [
          "112/01/05",
          "112/01/10",
          "112/01/10",
          "112/01/01",
          "112/01/03"
         ],
         "xaxis": "x",
         "y": [
          "190,512",
          "12,000",
          "12,000",
          "9,636,000",
          "27,748,000"
         ],
         "yaxis": "y"
        },
        {
         "alignmentgroup": "True",
         "hovertemplate": "受款單位=國立彰化師範大學附屬高級工業職業學校<br>執行日期=%{x}<br>金額 =%{y}<extra></extra>",
         "legendgroup": "國立彰化師範大學附屬高級工業職業學校",
         "marker": {
          "color": "#00cc96",
          "pattern": {
           "shape": ""
          }
         },
         "name": "國立彰化師範大學附屬高級工業職業學校",
         "offsetgroup": "國立彰化師範大學附屬高級工業職業學校",
         "orientation": "v",
         "showlegend": true,
         "textposition": "auto",
         "type": "bar",
         "x": [
          "112/01/05",
          "112/01/10",
          "112/01/10",
          "112/01/10",
          "112/01/01",
          "112/01/03"
         ],
         "xaxis": "x",
         "y": [
          "222,264",
          "30,000",
          "12,000",
          "12,000",
          "20,275,000",
          "47,101,000"
         ],
         "yaxis": "y"
        },
        {
         "alignmentgroup": "True",
         "hovertemplate": "受款單位=國立南投高級中學<br>執行日期=%{x}<br>金額 =%{y}<extra></extra>",
         "legendgroup": "國立南投高級中學",
         "marker": {
          "color": "#ab63fa",
          "pattern": {
           "shape": ""
          }
         },
         "name": "國立南投高級中學",
         "offsetgroup": "國立南投高級中學",
         "orientation": "v",
         "showlegend": true,
         "textposition": "auto",
         "type": "bar",
         "x": [
          "112/01/05",
          "112/01/05",
          "112/01/10",
          "112/01/10",
          "112/01/12",
          "112/01/17",
          "112/01/01",
          "112/01/03"
         ],
         "xaxis": "x",
         "y": [
          "462,168",
          "755,000",
          "565,300",
          "13,500",
          "320,000",
          "100,000",
          "12,000,000",
          "28,532,000"
         ],
         "yaxis": "y"
        },
        {
         "alignmentgroup": "True",
         "hovertemplate": "受款單位=國立台南家齊高級中學<br>執行日期=%{x}<br>金額 =%{y}<extra></extra>",
         "legendgroup": "國立台南家齊高級中學",
         "marker": {
          "color": "#FFA15A",
          "pattern": {
           "shape": ""
          }
         },
         "name": "國立台南家齊高級中學",
         "offsetgroup": "國立台南家齊高級中學",
         "orientation": "v",
         "showlegend": true,
         "textposition": "auto",
         "type": "bar",
         "x": [
          "112/01/05",
          "112/01/10",
          "112/01/13",
          "112/01/01",
          "112/01/03"
         ],
         "xaxis": "x",
         "y": [
          "346,767",
          "14,000",
          "936,000",
          "12,000,000",
          "31,300,000"
         ],
         "yaxis": "y"
        },
        {
         "alignmentgroup": "True",
         "hovertemplate": "受款單位=國立臺南大學附屬高級中學<br>執行日期=%{x}<br>金額 =%{y}<extra></extra>",
         "legendgroup": "國立臺南大學附屬高級中學",
         "marker": {
          "color": "#19d3f3",
          "pattern": {
           "shape": ""
          }
         },
         "name": "國立臺南大學附屬高級中學",
         "offsetgroup": "國立臺南大學附屬高級中學",
         "orientation": "v",
         "showlegend": true,
         "textposition": "auto",
         "type": "bar",
         "x": [
          "112/01/05",
          "112/01/10",
          "112/01/01",
          "112/01/03"
         ],
         "xaxis": "x",
         "y": [
          "278,822",
          "12,000",
          "11,459,000",
          "31,355,000"
         ],
         "yaxis": "y"
        },
        {
         "alignmentgroup": "True",
         "hovertemplate": "受款單位=國立鳳山高級商工職業學校<br>執行日期=%{x}<br>金額 =%{y}<extra></extra>",
         "legendgroup": "國立鳳山高級商工職業學校",
         "marker": {
          "color": "#FF6692",
          "pattern": {
           "shape": ""
          }
         },
         "name": "國立鳳山高級商工職業學校",
         "offsetgroup": "國立鳳山高級商工職業學校",
         "orientation": "v",
         "showlegend": true,
         "textposition": "auto",
         "type": "bar",
         "x": [
          "112/01/05",
          "112/01/10",
          "112/01/10",
          "112/01/12",
          "112/01/12",
          "112/01/16",
          "112/01/17",
          "112/01/01",
          "112/01/03"
         ],
         "xaxis": "x",
         "y": [
          "229,320",
          "13,500",
          "12,000",
          "641,522",
          "863,508",
          "600,000",
          "405,243",
          "19,000,000",
          "48,755,000"
         ],
         "yaxis": "y"
        },
        {
         "alignmentgroup": "True",
         "hovertemplate": "受款單位=國立宜蘭高級中學<br>執行日期=%{x}<br>金額 =%{y}<extra></extra>",
         "legendgroup": "國立宜蘭高級中學",
         "marker": {
          "color": "#B6E880",
          "pattern": {
           "shape": ""
          }
         },
         "name": "國立宜蘭高級中學",
         "offsetgroup": "國立宜蘭高級中學",
         "orientation": "v",
         "showlegend": true,
         "textposition": "auto",
         "type": "bar",
         "x": [
          "112/01/05",
          "112/01/10",
          "112/01/12",
          "112/01/12",
          "112/01/13",
          "112/01/13",
          "112/01/19",
          "112/01/01",
          "112/01/03"
         ],
         "xaxis": "x",
         "y": [
          "389,907",
          "625,000",
          "290,000",
          "677,000",
          "741,776",
          "641,522",
          "12,000",
          "9,741,000",
          "28,617,000"
         ],
         "yaxis": "y"
        },
        {
         "alignmentgroup": "True",
         "hovertemplate": "受款單位=國立宜蘭高級商業職業學校<br>執行日期=%{x}<br>金額 =%{y}<extra></extra>",
         "legendgroup": "國立宜蘭高級商業職業學校",
         "marker": {
          "color": "#FF97FF",
          "pattern": {
           "shape": ""
          }
         },
         "name": "國立宜蘭高級商業職業學校",
         "offsetgroup": "國立宜蘭高級商業職業學校",
         "orientation": "v",
         "showlegend": true,
         "textposition": "auto",
         "type": "bar",
         "x": [
          "112/01/05",
          "112/01/10",
          "112/01/12",
          "112/01/01",
          "112/01/03"
         ],
         "xaxis": "x",
         "y": [
          "293,706",
          "14,000",
          "800,000",
          "11,400,000",
          "33,016,000"
         ],
         "yaxis": "y"
        },
        {
         "alignmentgroup": "True",
         "hovertemplate": "受款單位=國立羅東高級工業職業學校<br>執行日期=%{x}<br>金額 =%{y}<extra></extra>",
         "legendgroup": "國立羅東高級工業職業學校",
         "marker": {
          "color": "#FECB52",
          "pattern": {
           "shape": ""
          }
         },
         "name": "國立羅東高級工業職業學校",
         "offsetgroup": "國立羅東高級工業職業學校",
         "orientation": "v",
         "showlegend": true,
         "textposition": "auto",
         "type": "bar",
         "x": [
          "112/01/05",
          "112/01/10",
          "112/01/12",
          "112/01/17",
          "112/01/01",
          "112/01/03"
         ],
         "xaxis": "x",
         "y": [
          "190,512",
          "28,000",
          "750,000",
          "405,243",
          "12,105,000",
          "33,335,000"
         ],
         "yaxis": "y"
        },
        {
         "alignmentgroup": "True",
         "hovertemplate": "受款單位=國立羅東高級商業職業學校<br>執行日期=%{x}<br>金額 =%{y}<extra></extra>",
         "legendgroup": "國立羅東高級商業職業學校",
         "marker": {
          "color": "#636efa",
          "pattern": {
           "shape": ""
          }
         },
         "name": "國立羅東高級商業職業學校",
         "offsetgroup": "國立羅東高級商業職業學校",
         "orientation": "v",
         "showlegend": true,
         "textposition": "auto",
         "type": "bar",
         "x": [
          "112/01/05",
          "112/01/10",
          "112/01/17",
          "112/01/17",
          "112/01/17",
          "112/01/01",
          "112/01/03"
         ],
         "xaxis": "x",
         "y": [
          "257,985",
          "28,000",
          "3,000,000",
          "2,000,000",
          "405,243",
          "10,000,000",
          "28,200,000"
         ],
         "yaxis": "y"
        },
        {
         "alignmentgroup": "True",
         "hovertemplate": "受款單位=國立台東高級商業職業學校<br>執行日期=%{x}<br>金額 =%{y}<extra></extra>",
         "legendgroup": "國立台東高級商業職業學校",
         "marker": {
          "color": "#EF553B",
          "pattern": {
           "shape": ""
          }
         },
         "name": "國立台東高級商業職業學校",
         "offsetgroup": "國立台東高級商業職業學校",
         "orientation": "v",
         "showlegend": true,
         "textposition": "auto",
         "type": "bar",
         "x": [
          "112/01/05",
          "112/01/10",
          "112/01/01",
          "112/01/03"
         ],
         "xaxis": "x",
         "y": [
          "265,923",
          "28,000",
          "9,200,000",
          "25,000,000"
         ],
         "yaxis": "y"
        },
        {
         "alignmentgroup": "True",
         "hovertemplate": "受款單位=國立北港高級中學<br>執行日期=%{x}<br>金額 =%{y}<extra></extra>",
         "legendgroup": "國立北港高級中學",
         "marker": {
          "color": "#00cc96",
          "pattern": {
           "shape": ""
          }
         },
         "name": "國立北港高級中學",
         "offsetgroup": "國立北港高級中學",
         "orientation": "v",
         "showlegend": true,
         "textposition": "auto",
         "type": "bar",
         "x": [
          "112/01/05",
          "112/01/10",
          "112/01/13",
          "112/01/01",
          "112/01/03"
         ],
         "xaxis": "x",
         "y": [
          "238,140",
          "14,000",
          "827,000",
          "10,100,000",
          "21,500,000"
         ],
         "yaxis": "y"
        },
        {
         "alignmentgroup": "True",
         "hovertemplate": "受款單位=國立嘉義高級家事職業學校<br>執行日期=%{x}<br>金額 =%{y}<extra></extra>",
         "legendgroup": "國立嘉義高級家事職業學校",
         "marker": {
          "color": "#ab63fa",
          "pattern": {
           "shape": ""
          }
         },
         "name": "國立嘉義高級家事職業學校",
         "offsetgroup": "國立嘉義高級家事職業學校",
         "orientation": "v",
         "showlegend": true,
         "textposition": "auto",
         "type": "bar",
         "x": [
          "112/01/05",
          "112/01/10",
          "112/01/13",
          "112/01/01",
          "112/01/03"
         ],
         "xaxis": "x",
         "y": [
          "210,357",
          "13,500",
          "600,000",
          "9,200,000",
          "23,200,000"
         ],
         "yaxis": "y"
        },
        {
         "alignmentgroup": "True",
         "hovertemplate": "受款單位=國立新化高級中學<br>執行日期=%{x}<br>金額 =%{y}<extra></extra>",
         "legendgroup": "國立新化高級中學",
         "marker": {
          "color": "#FFA15A",
          "pattern": {
           "shape": ""
          }
         },
         "name": "國立新化高級中學",
         "offsetgroup": "國立新化高級中學",
         "orientation": "v",
         "showlegend": true,
         "textposition": "auto",
         "type": "bar",
         "x": [
          "112/01/05",
          "112/01/10",
          "112/01/10",
          "112/01/17",
          "112/01/01",
          "112/01/03"
         ],
         "xaxis": "x",
         "y": [
          "402,664",
          "892,000",
          "14,000",
          "424,506",
          "8,030,000",
          "22,331,000"
         ],
         "yaxis": "y"
        },
        {
         "alignmentgroup": "True",
         "hovertemplate": "受款單位=國立台南女子高級中學<br>執行日期=%{x}<br>金額 =%{y}<extra></extra>",
         "legendgroup": "國立台南女子高級中學",
         "marker": {
          "color": "#19d3f3",
          "pattern": {
           "shape": ""
          }
         },
         "name": "國立台南女子高級中學",
         "offsetgroup": "國立台南女子高級中學",
         "orientation": "v",
         "showlegend": true,
         "textposition": "auto",
         "type": "bar",
         "x": [
          "112/01/05",
          "112/01/05",
          "112/01/17",
          "112/01/01",
          "112/01/03"
         ],
         "xaxis": "x",
         "y": [
          "577,725",
          "1,021,000",
          "2,000,000",
          "12,918,000",
          "37,902,000"
         ],
         "yaxis": "y"
        },
        {
         "alignmentgroup": "True",
         "hovertemplate": "受款單位=國立新豐高級中學<br>執行日期=%{x}<br>金額 =%{y}<extra></extra>",
         "legendgroup": "國立新豐高級中學",
         "marker": {
          "color": "#FF6692",
          "pattern": {
           "shape": ""
          }
         },
         "name": "國立新豐高級中學",
         "offsetgroup": "國立新豐高級中學",
         "orientation": "v",
         "showlegend": true,
         "textposition": "auto",
         "type": "bar",
         "x": [
          "112/01/05",
          "112/01/10",
          "112/01/13",
          "112/01/01",
          "112/01/03"
         ],
         "xaxis": "x",
         "y": [
          "345,586",
          "13,500",
          "700,000",
          "8,480,000",
          "22,978,000"
         ],
         "yaxis": "y"
        },
        {
         "alignmentgroup": "True",
         "hovertemplate": "受款單位=國立成功商業水產職業學校<br>執行日期=%{x}<br>金額 =%{y}<extra></extra>",
         "legendgroup": "國立成功商業水產職業學校",
         "marker": {
          "color": "#B6E880",
          "pattern": {
           "shape": ""
          }
         },
         "name": "國立成功商業水產職業學校",
         "offsetgroup": "國立成功商業水產職業學校",
         "orientation": "v",
         "showlegend": true,
         "textposition": "auto",
         "type": "bar",
         "x": [
          "112/01/05",
          "112/01/10",
          "112/01/01",
          "112/01/03"
         ],
         "xaxis": "x",
         "y": [
          "31,752",
          "14,000",
          "4,500,000",
          "12,000,000"
         ],
         "yaxis": "y"
        },
        {
         "alignmentgroup": "True",
         "hovertemplate": "受款單位=國立馬公高級中學<br>執行日期=%{x}<br>金額 =%{y}<extra></extra>",
         "legendgroup": "國立馬公高級中學",
         "marker": {
          "color": "#FF97FF",
          "pattern": {
           "shape": ""
          }
         },
         "name": "國立馬公高級中學",
         "offsetgroup": "國立馬公高級中學",
         "orientation": "v",
         "showlegend": true,
         "textposition": "auto",
         "type": "bar",
         "x": [
          "112/01/05",
          "112/01/10",
          "112/01/12",
          "112/01/12",
          "112/01/13",
          "112/01/01",
          "112/01/03"
         ],
         "xaxis": "x",
         "y": [
          "391,608",
          "12,000",
          "154,000",
          "489,000",
          "889,000",
          "11,389,000",
          "31,461,000"
         ],
         "yaxis": "y"
        },
        {
         "alignmentgroup": "True",
         "hovertemplate": "受款單位=國立基隆高級中學<br>執行日期=%{x}<br>金額 =%{y}<extra></extra>",
         "legendgroup": "國立基隆高級中學",
         "marker": {
          "color": "#FECB52",
          "pattern": {
           "shape": ""
          }
         },
         "name": "國立基隆高級中學",
         "offsetgroup": "國立基隆高級中學",
         "orientation": "v",
         "showlegend": true,
         "textposition": "auto",
         "type": "bar",
         "x": [
          "112/01/05",
          "112/01/10",
          "112/01/12",
          "112/01/13",
          "112/01/13",
          "112/01/19",
          "112/01/01",
          "112/01/03"
         ],
         "xaxis": "x",
         "y": [
          "1,172,000",
          "772,998",
          "548,536",
          "1,050,000",
          "627,984",
          "3,000,000",
          "7,700,000",
          "21,344,000"
         ],
         "yaxis": "y"
        },
        {
         "alignmentgroup": "True",
         "hovertemplate": "受款單位=國立台南第二高級中學<br>執行日期=%{x}<br>金額 =%{y}<extra></extra>",
         "legendgroup": "國立台南第二高級中學",
         "marker": {
          "color": "#636efa",
          "pattern": {
           "shape": ""
          }
         },
         "name": "國立台南第二高級中學",
         "offsetgroup": "國立台南第二高級中學",
         "orientation": "v",
         "showlegend": true,
         "textposition": "auto",
         "type": "bar",
         "x": [
          "112/01/05",
          "112/01/10",
          "112/01/12",
          "112/01/13",
          "112/01/17",
          "112/01/01",
          "112/01/03"
         ],
         "xaxis": "x",
         "y": [
          "609,000",
          "14,000",
          "1,050,000",
          "887,213",
          "405,243",
          "11,764,000",
          "31,766,000"
         ],
         "yaxis": "y"
        },
        {
         "alignmentgroup": "True",
         "hovertemplate": "受款單位=國立竹北高級中學<br>執行日期=%{x}<br>金額 =%{y}<extra></extra>",
         "legendgroup": "國立竹北高級中學",
         "marker": {
          "color": "#EF553B",
          "pattern": {
           "shape": ""
          }
         },
         "name": "國立竹北高級中學",
         "offsetgroup": "國立竹北高級中學",
         "orientation": "v",
         "showlegend": true,
         "textposition": "auto",
         "type": "bar",
         "x": [
          "112/01/05",
          "112/01/13",
          "112/01/01",
          "112/01/03"
         ],
         "xaxis": "x",
         "y": [
          "625,000",
          "436,590",
          "16,000,000",
          "38,000,000"
         ],
         "yaxis": "y"
        },
        {
         "alignmentgroup": "True",
         "hovertemplate": "受款單位=國立竹東高級中學<br>執行日期=%{x}<br>金額 =%{y}<extra></extra>",
         "legendgroup": "國立竹東高級中學",
         "marker": {
          "color": "#00cc96",
          "pattern": {
           "shape": ""
          }
         },
         "name": "國立竹東高級中學",
         "offsetgroup": "國立竹東高級中學",
         "orientation": "v",
         "showlegend": true,
         "textposition": "auto",
         "type": "bar",
         "x": [
          "112/01/05",
          "112/01/10",
          "112/01/12",
          "112/01/12",
          "112/01/13",
          "112/01/01",
          "112/01/03"
         ],
         "xaxis": "x",
         "y": [
          "659,000",
          "13,500",
          "278,000",
          "559,964",
          "456,057",
          "11,500,000",
          "26,530,000"
         ],
         "yaxis": "y"
        },
        {
         "alignmentgroup": "True",
         "hovertemplate": "受款單位=國立台東女子高級中學<br>執行日期=%{x}<br>金額 =%{y}<extra></extra>",
         "legendgroup": "國立台東女子高級中學",
         "marker": {
          "color": "#ab63fa",
          "pattern": {
           "shape": ""
          }
         },
         "name": "國立台東女子高級中學",
         "offsetgroup": "國立台東女子高級中學",
         "orientation": "v",
         "showlegend": true,
         "textposition": "auto",
         "type": "bar",
         "x": [
          "112/01/05",
          "112/01/10",
          "112/01/10",
          "112/01/12",
          "112/01/01",
          "112/01/03"
         ],
         "xaxis": "x",
         "y": [
          "540,000",
          "572,000",
          "14,000",
          "258,000",
          "7,800,000",
          "17,175,000"
         ],
         "yaxis": "y"
        },
        {
         "alignmentgroup": "True",
         "hovertemplate": "受款單位=國立台東高級中學<br>執行日期=%{x}<br>金額 =%{y}<extra></extra>",
         "legendgroup": "國立台東高級中學",
         "marker": {
          "color": "#FFA15A",
          "pattern": {
           "shape": ""
          }
         },
         "name": "國立台東高級中學",
         "offsetgroup": "國立台東高級中學",
         "orientation": "v",
         "showlegend": true,
         "textposition": "auto",
         "type": "bar",
         "x": [
          "112/01/05",
          "112/01/10",
          "112/01/13",
          "112/01/13",
          "112/01/17",
          "112/01/01",
          "112/01/03"
         ],
         "xaxis": "x",
         "y": [
          "757,000",
          "12,000",
          "616,120",
          "365,148",
          "863,508",
          "7,888,000",
          "23,175,000"
         ],
         "yaxis": "y"
        },
        {
         "alignmentgroup": "True",
         "hovertemplate": "受款單位=國立竹南高級中學<br>執行日期=%{x}<br>金額 =%{y}<extra></extra>",
         "legendgroup": "國立竹南高級中學",
         "marker": {
          "color": "#19d3f3",
          "pattern": {
           "shape": ""
          }
         },
         "name": "國立竹南高級中學",
         "offsetgroup": "國立竹南高級中學",
         "orientation": "v",
         "showlegend": true,
         "textposition": "auto",
         "type": "bar",
         "x": [
          "112/01/05",
          "112/01/10",
          "112/01/13",
          "112/01/01",
          "112/01/03"
         ],
         "xaxis": "x",
         "y": [
          "800,000",
          "14,000",
          "303,534",
          "11,171,000",
          "25,329,000"
         ],
         "yaxis": "y"
        },
        {
         "alignmentgroup": "True",
         "hovertemplate": "受款單位=國立暨南大學附屬高級中學<br>執行日期=%{x}<br>金額 =%{y}<extra></extra>",
         "legendgroup": "國立暨南大學附屬高級中學",
         "marker": {
          "color": "#FF6692",
          "pattern": {
           "shape": ""
          }
         },
         "name": "國立暨南大學附屬高級中學",
         "offsetgroup": "國立暨南大學附屬高級中學",
         "orientation": "v",
         "showlegend": true,
         "textposition": "auto",
         "type": "bar",
         "x": [
          "112/01/05",
          "112/01/10",
          "112/01/10",
          "112/01/17",
          "112/01/19",
          "112/01/01",
          "112/01/03"
         ],
         "xaxis": "x",
         "y": [
          "875,000",
          "13,500",
          "13,500",
          "405,243",
          "238,140",
          "9,800,000",
          "22,528,000"
         ],
         "yaxis": "y"
        },
        {
         "alignmentgroup": "True",
         "hovertemplate": "受款單位=國立基隆女子高級中學<br>執行日期=%{x}<br>金額 =%{y}<extra></extra>",
         "legendgroup": "國立基隆女子高級中學",
         "marker": {
          "color": "#B6E880",
          "pattern": {
           "shape": ""
          }
         },
         "name": "國立基隆女子高級中學",
         "offsetgroup": "國立基隆女子高級中學",
         "orientation": "v",
         "showlegend": true,
         "textposition": "auto",
         "type": "bar",
         "x": [
          "112/01/05",
          "112/01/10",
          "112/01/13",
          "112/01/17",
          "112/01/01",
          "112/01/03"
         ],
         "xaxis": "x",
         "y": [
          "866,000",
          "14,000",
          "160,524",
          "4,000,000",
          "10,000,000",
          "25,860,000"
         ],
         "yaxis": "y"
        },
        {
         "alignmentgroup": "True",
         "hovertemplate": "受款單位=國立苗栗高級中學<br>執行日期=%{x}<br>金額 =%{y}<extra></extra>",
         "legendgroup": "國立苗栗高級中學",
         "marker": {
          "color": "#FF97FF",
          "pattern": {
           "shape": ""
          }
         },
         "name": "國立苗栗高級中學",
         "offsetgroup": "國立苗栗高級中學",
         "orientation": "v",
         "showlegend": true,
         "textposition": "auto",
         "type": "bar",
         "x": [
          "112/01/05",
          "112/01/10",
          "112/01/01",
          "112/01/03"
         ],
         "xaxis": "x",
         "y": [
          "898,000",
          "12,000",
          "9,000,000",
          "24,931,000"
         ],
         "yaxis": "y"
        },
        {
         "alignmentgroup": "True",
         "hovertemplate": "受款單位=國立苑裡高級中學<br>執行日期=%{x}<br>金額 =%{y}<extra></extra>",
         "legendgroup": "國立苑裡高級中學",
         "marker": {
          "color": "#FECB52",
          "pattern": {
           "shape": ""
          }
         },
         "name": "國立苑裡高級中學",
         "offsetgroup": "國立苑裡高級中學",
         "orientation": "v",
         "showlegend": true,
         "textposition": "auto",
         "type": "bar",
         "x": [
          "112/01/05",
          "112/01/10",
          "112/01/10",
          "112/01/01",
          "112/01/03"
         ],
         "xaxis": "x",
         "y": [
          "715,000",
          "341,712",
          "13,500",
          "8,711,000",
          "22,916,000"
         ],
         "yaxis": "y"
        },
        {
         "alignmentgroup": "True",
         "hovertemplate": "受款單位=國立新港藝術高級中學<br>執行日期=%{x}<br>金額 =%{y}<extra></extra>",
         "legendgroup": "國立新港藝術高級中學",
         "marker": {
          "color": "#636efa",
          "pattern": {
           "shape": ""
          }
         },
         "name": "國立新港藝術高級中學",
         "offsetgroup": "國立新港藝術高級中學",
         "orientation": "v",
         "showlegend": true,
         "textposition": "auto",
         "type": "bar",
         "x": [
          "112/01/05",
          "112/01/10",
          "112/01/01",
          "112/01/03"
         ],
         "xaxis": "x",
         "y": [
          "333,000",
          "13,500",
          "3,926,000",
          "10,345,000"
         ],
         "yaxis": "y"
        },
        {
         "alignmentgroup": "True",
         "hovertemplate": "受款單位=國立中山大學附屬國光高級中學<br>執行日期=%{x}<br>金額 =%{y}<extra></extra>",
         "legendgroup": "國立中山大學附屬國光高級中學",
         "marker": {
          "color": "#EF553B",
          "pattern": {
           "shape": ""
          }
         },
         "name": "國立中山大學附屬國光高級中學",
         "offsetgroup": "國立中山大學附屬國光高級中學",
         "orientation": "v",
         "showlegend": true,
         "textposition": "auto",
         "type": "bar",
         "x": [
          "112/01/05",
          "112/01/10",
          "112/01/13",
          "112/01/17",
          "112/01/01",
          "112/01/03"
         ],
         "xaxis": "x",
         "y": [
          "995,000",
          "12,000",
          "298,100",
          "1,050,000",
          "10,000,000",
          "23,000,000"
         ],
         "yaxis": "y"
        },
        {
         "alignmentgroup": "True",
         "hovertemplate": "受款單位=國立彰化高級中學<br>執行日期=%{x}<br>金額 =%{y}<extra></extra>",
         "legendgroup": "國立彰化高級中學",
         "marker": {
          "color": "#00cc96",
          "pattern": {
           "shape": ""
          }
         },
         "name": "國立彰化高級中學",
         "offsetgroup": "國立彰化高級中學",
         "orientation": "v",
         "showlegend": true,
         "textposition": "auto",
         "type": "bar",
         "x": [
          "112/01/05",
          "112/01/12",
          "112/01/12",
          "112/01/12",
          "112/01/13",
          "112/01/16",
          "112/01/17",
          "112/01/19",
          "112/01/01",
          "112/01/03"
         ],
         "xaxis": "x",
         "y": [
          "768,000",
          "616,120",
          "1,848,360",
          "863,508",
          "285,768",
          "150,000",
          "100,000",
          "2,500,000",
          "15,752,000",
          "44,907,000"
         ],
         "yaxis": "y"
        },
        {
         "alignmentgroup": "True",
         "hovertemplate": "受款單位=國立鳳新高級中學<br>執行日期=%{x}<br>金額 =%{y}<extra></extra>",
         "legendgroup": "國立鳳新高級中學",
         "marker": {
          "color": "#ab63fa",
          "pattern": {
           "shape": ""
          }
         },
         "name": "國立鳳新高級中學",
         "offsetgroup": "國立鳳新高級中學",
         "orientation": "v",
         "showlegend": true,
         "textposition": "auto",
         "type": "bar",
         "x": [
          "112/01/05",
          "112/01/10",
          "112/01/13",
          "112/01/17",
          "112/01/01",
          "112/01/03"
         ],
         "xaxis": "x",
         "y": [
          "794,000",
          "13,500",
          "517,718",
          "348,760",
          "12,216,000",
          "36,614,000"
         ],
         "yaxis": "y"
        },
        {
         "alignmentgroup": "True",
         "hovertemplate": "受款單位=國立臺灣師範大學附屬高級中學<br>執行日期=%{x}<br>金額 =%{y}<extra></extra>",
         "legendgroup": "國立臺灣師範大學附屬高級中學",
         "marker": {
          "color": "#FFA15A",
          "pattern": {
           "shape": ""
          }
         },
         "name": "國立臺灣師範大學附屬高級中學",
         "offsetgroup": "國立臺灣師範大學附屬高級中學",
         "orientation": "v",
         "showlegend": true,
         "textposition": "auto",
         "type": "bar",
         "x": [
          "112/01/05",
          "112/01/13",
          "112/01/17",
          "112/01/17",
          "112/01/01",
          "112/01/03"
         ],
         "xaxis": "x",
         "y": [
          "750,000",
          "750,141",
          "1,050,000",
          "385,776",
          "22,800,000",
          "61,452,000"
         ],
         "yaxis": "y"
        },
        {
         "alignmentgroup": "True",
         "hovertemplate": "受款單位=國立潮州高級中學<br>執行日期=%{x}<br>金額 =%{y}<extra></extra>",
         "legendgroup": "國立潮州高級中學",
         "marker": {
          "color": "#19d3f3",
          "pattern": {
           "shape": ""
          }
         },
         "name": "國立潮州高級中學",
         "offsetgroup": "國立潮州高級中學",
         "orientation": "v",
         "showlegend": true,
         "textposition": "auto",
         "type": "bar",
         "x": [
          "112/01/05",
          "112/01/10",
          "112/01/17",
          "112/01/17",
          "112/01/19",
          "112/01/01",
          "112/01/03"
         ],
         "xaxis": "x",
         "y": [
          "753,000",
          "12,000",
          "1,050,000",
          "600,000",
          "264,600",
          "8,690,000",
          "23,987,000"
         ],
         "yaxis": "y"
        },
        {
         "alignmentgroup": "True",
         "hovertemplate": "受款單位=國立竹山高級中學<br>執行日期=%{x}<br>金額 =%{y}<extra></extra>",
         "legendgroup": "國立竹山高級中學",
         "marker": {
          "color": "#FF6692",
          "pattern": {
           "shape": ""
          }
         },
         "name": "國立竹山高級中學",
         "offsetgroup": "國立竹山高級中學",
         "orientation": "v",
         "showlegend": true,
         "textposition": "auto",
         "type": "bar",
         "x": [
          "112/01/05",
          "112/01/10",
          "112/01/12",
          "112/01/13",
          "112/01/17",
          "112/01/01",
          "112/01/03"
         ],
         "xaxis": "x",
         "y": [
          "675,000",
          "13,500",
          "1,050,000",
          "404,838",
          "382,531",
          "10,370,000",
          "23,666,000"
         ],
         "yaxis": "y"
        },
        {
         "alignmentgroup": "True",
         "hovertemplate": "受款單位=國立中央大學附屬中壢高級中學<br>執行日期=%{x}<br>金額 =%{y}<extra></extra>",
         "legendgroup": "國立中央大學附屬中壢高級中學",
         "marker": {
          "color": "#B6E880",
          "pattern": {
           "shape": ""
          }
         },
         "name": "國立中央大學附屬中壢高級中學",
         "offsetgroup": "國立中央大學附屬中壢高級中學",
         "orientation": "v",
         "showlegend": true,
         "textposition": "auto",
         "type": "bar",
         "x": [
          "112/01/05",
          "112/01/13",
          "112/01/17",
          "112/01/19",
          "112/01/01",
          "112/01/03"
         ],
         "xaxis": "x",
         "y": [
          "750,000",
          "845,397",
          "405,243",
          "14,000",
          "13,083,000",
          "38,355,000"
         ],
         "yaxis": "y"
        },
        {
         "alignmentgroup": "True",
         "hovertemplate": "受款單位=國立鳳山高級中學<br>執行日期=%{x}<br>金額 =%{y}<extra></extra>",
         "legendgroup": "國立鳳山高級中學",
         "marker": {
          "color": "#FF97FF",
          "pattern": {
           "shape": ""
          }
         },
         "name": "國立鳳山高級中學",
         "offsetgroup": "國立鳳山高級中學",
         "orientation": "v",
         "showlegend": true,
         "textposition": "auto",
         "type": "bar",
         "x": [
          "112/01/05",
          "112/01/10",
          "112/01/10",
          "112/01/12",
          "112/01/13",
          "112/01/17",
          "112/01/01",
          "112/01/03"
         ],
         "xaxis": "x",
         "y": [
          "637,000",
          "700,000",
          "14,000",
          "407,000",
          "392,931",
          "405,243",
          "13,500,000",
          "34,150,000"
         ],
         "yaxis": "y"
        },
        {
         "alignmentgroup": "True",
         "hovertemplate": "受款單位=國立善化高級中學<br>執行日期=%{x}<br>金額 =%{y}<extra></extra>",
         "legendgroup": "國立善化高級中學",
         "marker": {
          "color": "#FECB52",
          "pattern": {
           "shape": ""
          }
         },
         "name": "國立善化高級中學",
         "offsetgroup": "國立善化高級中學",
         "orientation": "v",
         "showlegend": true,
         "textposition": "auto",
         "type": "bar",
         "x": [
          "112/01/05",
          "112/01/10",
          "112/01/01",
          "112/01/03"
         ],
         "xaxis": "x",
         "y": [
          "805,000",
          "14,000",
          "7,455,000",
          "18,545,000"
         ],
         "yaxis": "y"
        },
        {
         "alignmentgroup": "True",
         "hovertemplate": "受款單位=國立鹿港高級中學<br>執行日期=%{x}<br>金額 =%{y}<extra></extra>",
         "legendgroup": "國立鹿港高級中學",
         "marker": {
          "color": "#636efa",
          "pattern": {
           "shape": ""
          }
         },
         "name": "國立鹿港高級中學",
         "offsetgroup": "國立鹿港高級中學",
         "orientation": "v",
         "showlegend": true,
         "textposition": "auto",
         "type": "bar",
         "x": [
          "112/01/05",
          "112/01/10",
          "112/01/10",
          "112/01/10",
          "112/01/01",
          "112/01/03"
         ],
         "xaxis": "x",
         "y": [
          "612,000",
          "269,892",
          "13,500",
          "13,500",
          "10,550,000",
          "28,172,000"
         ],
         "yaxis": "y"
        },
        {
         "alignmentgroup": "True",
         "hovertemplate": "受款單位=國立中興高級中學<br>執行日期=%{x}<br>金額 =%{y}<extra></extra>",
         "legendgroup": "國立中興高級中學",
         "marker": {
          "color": "#EF553B",
          "pattern": {
           "shape": ""
          }
         },
         "name": "國立中興高級中學",
         "offsetgroup": "國立中興高級中學",
         "orientation": "v",
         "showlegend": true,
         "textposition": "auto",
         "type": "bar",
         "x": [
          "112/01/07",
          "112/01/10",
          "112/01/10",
          "112/01/10",
          "112/01/10",
          "112/01/12",
          "112/01/12",
          "112/01/01",
          "112/01/03"
         ],
         "xaxis": "x",
         "y": [
          "198,591",
          "2,131,656",
          "50,000",
          "503,000",
          "13,500",
          "623,658",
          "641,522",
          "8,678,000",
          "25,991,000"
         ],
         "yaxis": "y"
        },
        {
         "alignmentgroup": "True",
         "hovertemplate": "受款單位=國立西螺高級農工職業學校<br>執行日期=%{x}<br>金額 =%{y}<extra></extra>",
         "legendgroup": "國立西螺高級農工職業學校",
         "marker": {
          "color": "#00cc96",
          "pattern": {
           "shape": ""
          }
         },
         "name": "國立西螺高級農工職業學校",
         "offsetgroup": "國立西螺高級農工職業學校",
         "orientation": "v",
         "showlegend": true,
         "textposition": "auto",
         "type": "bar",
         "x": [
          "112/01/07",
          "112/01/16",
          "112/01/17",
          "112/01/01",
          "112/01/03"
         ],
         "xaxis": "x",
         "y": [
          "405,720",
          "2,000,000",
          "4,000,000",
          "12,011,000",
          "35,353,000"
         ],
         "yaxis": "y"
        },
        {
         "alignmentgroup": "True",
         "hovertemplate": "受款單位=國立東石高級中學<br>執行日期=%{x}<br>金額 =%{y}<extra></extra>",
         "legendgroup": "國立東石高級中學",
         "marker": {
          "color": "#ab63fa",
          "pattern": {
           "shape": ""
          }
         },
         "name": "國立東石高級中學",
         "offsetgroup": "國立東石高級中學",
         "orientation": "v",
         "showlegend": true,
         "textposition": "auto",
         "type": "bar",
         "x": [
          "112/01/07",
          "112/01/10",
          "112/01/10",
          "112/01/12",
          "112/01/01",
          "112/01/03"
         ],
         "xaxis": "x",
         "y": [
          "285,768",
          "568,000",
          "12,000",
          "238,000",
          "9,656,000",
          "28,786,000"
         ],
         "yaxis": "y"
        },
        {
         "alignmentgroup": "True",
         "hovertemplate": "受款單位=國立曾文高級農工職業學校<br>執行日期=%{x}<br>金額 =%{y}<extra></extra>",
         "legendgroup": "國立曾文高級農工職業學校",
         "marker": {
          "color": "#FFA15A",
          "pattern": {
           "shape": ""
          }
         },
         "name": "國立曾文高級農工職業學校",
         "offsetgroup": "國立曾文高級農工職業學校",
         "orientation": "v",
         "showlegend": true,
         "textposition": "auto",
         "type": "bar",
         "x": [
          "112/01/07",
          "112/01/10",
          "112/01/10",
          "112/01/12",
          "112/01/17",
          "112/01/01",
          "112/01/03"
         ],
         "xaxis": "x",
         "y": [
          "186,543",
          "733,000",
          "12,000",
          "384,000",
          "405,243",
          "13,400,000",
          "34,000,000"
         ],
         "yaxis": "y"
        },
        {
         "alignmentgroup": "True",
         "hovertemplate": "受款單位=國立澎湖高級海事水產職業學校<br>執行日期=%{x}<br>金額 =%{y}<extra></extra>",
         "legendgroup": "國立澎湖高級海事水產職業學校",
         "marker": {
          "color": "#19d3f3",
          "pattern": {
           "shape": ""
          }
         },
         "name": "國立澎湖高級海事水產職業學校",
         "offsetgroup": "國立澎湖高級海事水產職業學校",
         "orientation": "v",
         "showlegend": true,
         "textposition": "auto",
         "type": "bar",
         "x": [
          "112/01/07",
          "112/01/10",
          "112/01/16",
          "112/01/17",
          "112/01/17",
          "112/01/01",
          "112/01/03"
         ],
         "xaxis": "x",
         "y": [
          "84,672",
          "14,000",
          "750,000",
          "100,000",
          "405,243",
          "12,509,000",
          "32,046,000"
         ],
         "yaxis": "y"
        },
        {
         "alignmentgroup": "True",
         "hovertemplate": "受款單位=國立苗栗高級農工職業學校<br>執行日期=%{x}<br>金額 =%{y}<extra></extra>",
         "legendgroup": "國立苗栗高級農工職業學校",
         "marker": {
          "color": "#FF6692",
          "pattern": {
           "shape": ""
          }
         },
         "name": "國立苗栗高級農工職業學校",
         "offsetgroup": "國立苗栗高級農工職業學校",
         "orientation": "v",
         "showlegend": true,
         "textposition": "auto",
         "type": "bar",
         "x": [
          "112/01/10",
          "112/01/10",
          "112/01/12",
          "112/01/12",
          "112/01/19",
          "112/01/01",
          "112/01/03"
         ],
         "xaxis": "x",
         "y": [
          "863,508",
          "12,000",
          "180,000",
          "623,658",
          "261,954",
          "13,906,000",
          "40,074,000"
         ],
         "yaxis": "y"
        },
        {
         "alignmentgroup": "True",
         "hovertemplate": "受款單位=國立斗六高級家事商業職業學校<br>執行日期=%{x}<br>金額 =%{y}<extra></extra>",
         "legendgroup": "國立斗六高級家事商業職業學校",
         "marker": {
          "color": "#B6E880",
          "pattern": {
           "shape": ""
          }
         },
         "name": "國立斗六高級家事商業職業學校",
         "offsetgroup": "國立斗六高級家事商業職業學校",
         "orientation": "v",
         "showlegend": true,
         "textposition": "auto",
         "type": "bar",
         "x": [
          "112/01/10",
          "112/01/10",
          "112/01/10",
          "112/01/10",
          "112/01/10",
          "112/01/12",
          "112/01/12",
          "112/01/13",
          "112/01/17",
          "112/01/17",
          "112/01/01",
          "112/01/03"
         ],
         "xaxis": "x",
         "y": [
          "863,508",
          "662,000",
          "277,830",
          "13,500",
          "12,000",
          "302,000",
          "623,658",
          "525,000",
          "2,500,000",
          "405,243",
          "7,795,000",
          "21,325,000"
         ],
         "yaxis": "y"
        },
        {
         "alignmentgroup": "True",
         "hovertemplate": "受款單位=國立台南第一高級中學<br>執行日期=%{x}<br>金額 =%{y}<extra></extra>",
         "legendgroup": "國立台南第一高級中學",
         "marker": {
          "color": "#FF97FF",
          "pattern": {
           "shape": ""
          }
         },
         "name": "國立台南第一高級中學",
         "offsetgroup": "國立台南第一高級中學",
         "orientation": "v",
         "showlegend": true,
         "textposition": "auto",
         "type": "bar",
         "x": [
          "112/01/10",
          "112/01/10",
          "112/01/12",
          "112/01/12",
          "112/01/12",
          "112/01/19",
          "112/01/19",
          "112/01/19",
          "112/01/01",
          "112/01/03"
         ],
         "xaxis": "x",
         "y": [
          "863,508",
          "13,500",
          "580,368",
          "1,050,000",
          "840,000",
          "4,400,000",
          "4,000,000",
          "556,227",
          "13,319,000",
          "36,630,000"
         ],
         "yaxis": "y"
        },
        {
         "alignmentgroup": "True",
         "hovertemplate": "受款單位=國立曾文高級家事商業職業學校<br>執行日期=%{x}<br>金額 =%{y}<extra></extra>",
         "legendgroup": "國立曾文高級家事商業職業學校",
         "marker": {
          "color": "#FECB52",
          "pattern": {
           "shape": ""
          }
         },
         "name": "國立曾文高級家事商業職業學校",
         "offsetgroup": "國立曾文高級家事商業職業學校",
         "orientation": "v",
         "showlegend": true,
         "textposition": "auto",
         "type": "bar",
         "x": [
          "112/01/10",
          "112/01/12",
          "112/01/13",
          "112/01/19",
          "112/01/01",
          "112/01/03"
         ],
         "xaxis": "x",
         "y": [
          "863,508",
          "710,133",
          "67,473",
          "14,000",
          "8,000,000",
          "21,500,000"
         ],
         "yaxis": "y"
        },
        {
         "alignmentgroup": "True",
         "hovertemplate": "受款單位=國立屏東女子高級中學<br>執行日期=%{x}<br>金額 =%{y}<extra></extra>",
         "legendgroup": "國立屏東女子高級中學",
         "marker": {
          "color": "#636efa",
          "pattern": {
           "shape": ""
          }
         },
         "name": "國立屏東女子高級中學",
         "offsetgroup": "國立屏東女子高級中學",
         "orientation": "v",
         "showlegend": true,
         "textposition": "auto",
         "type": "bar",
         "x": [
          "112/01/10",
          "112/01/10",
          "112/01/10",
          "112/01/10",
          "112/01/12",
          "112/01/13",
          "112/01/01",
          "112/01/03"
         ],
         "xaxis": "x",
         "y": [
          "741,776",
          "654,000",
          "604,989",
          "12,000",
          "641,522",
          "899,500",
          "13,800,000",
          "35,024,000"
         ],
         "yaxis": "y"
        },
        {
         "alignmentgroup": "True",
         "hovertemplate": "受款單位=國立臺南特殊教育學校<br>執行日期=%{x}<br>金額 =%{y}<extra></extra>",
         "legendgroup": "國立臺南特殊教育學校",
         "marker": {
          "color": "#EF553B",
          "pattern": {
           "shape": ""
          }
         },
         "name": "國立臺南特殊教育學校",
         "offsetgroup": "國立臺南特殊教育學校",
         "orientation": "v",
         "showlegend": true,
         "textposition": "auto",
         "type": "bar",
         "x": [
          "112/01/10",
          "112/01/12",
          "112/01/17",
          "112/01/19",
          "112/01/01",
          "112/01/03"
         ],
         "xaxis": "x",
         "y": [
          "980,000",
          "980,000",
          "1,255,039",
          "576,939",
          "8,632,000",
          "23,283,000"
         ],
         "yaxis": "y"
        },
        {
         "alignmentgroup": "True",
         "hovertemplate": "受款單位=國立秀水高級工業職業學校<br>執行日期=%{x}<br>金額 =%{y}<extra></extra>",
         "legendgroup": "國立秀水高級工業職業學校",
         "marker": {
          "color": "#00cc96",
          "pattern": {
           "shape": ""
          }
         },
         "name": "國立秀水高級工業職業學校",
         "offsetgroup": "國立秀水高級工業職業學校",
         "orientation": "v",
         "showlegend": true,
         "textposition": "auto",
         "type": "bar",
         "x": [
          "112/01/10",
          "112/01/10",
          "112/01/10",
          "112/01/10",
          "112/01/01",
          "112/01/03"
         ],
         "xaxis": "x",
         "y": [
          "20,000",
          "102,312",
          "13,500",
          "13,500",
          "12,147,000",
          "36,321,000"
         ],
         "yaxis": "y"
        },
        {
         "alignmentgroup": "True",
         "hovertemplate": "受款單位=國立二林高級工商職業學校<br>執行日期=%{x}<br>金額 =%{y}<extra></extra>",
         "legendgroup": "國立二林高級工商職業學校",
         "marker": {
          "color": "#ab63fa",
          "pattern": {
           "shape": ""
          }
         },
         "name": "國立二林高級工商職業學校",
         "offsetgroup": "國立二林高級工商職業學校",
         "orientation": "v",
         "showlegend": true,
         "textposition": "auto",
         "type": "bar",
         "x": [
          "112/01/10",
          "112/01/10",
          "112/01/10",
          "112/01/10",
          "112/01/17",
          "112/01/01",
          "112/01/03"
         ],
         "xaxis": "x",
         "y": [
          "30,000",
          "349,272",
          "14,000",
          "14,000",
          "405,243",
          "13,636,000",
          "33,762,000"
         ],
         "yaxis": "y"
        },
        {
         "alignmentgroup": "True",
         "hovertemplate": "受款單位=國立彰化高級商業職業學校<br>執行日期=%{x}<br>金額 =%{y}<extra></extra>",
         "legendgroup": "國立彰化高級商業職業學校",
         "marker": {
          "color": "#FFA15A",
          "pattern": {
           "shape": ""
          }
         },
         "name": "國立彰化高級商業職業學校",
         "offsetgroup": "國立彰化高級商業職業學校",
         "orientation": "v",
         "showlegend": true,
         "textposition": "auto",
         "type": "bar",
         "x": [
          "112/01/10",
          "112/01/10",
          "112/01/10",
          "112/01/12",
          "112/01/13",
          "112/01/01",
          "112/01/03"
         ],
         "xaxis": "x",
         "y": [
          "15,000",
          "711,000",
          "12,000",
          "399,000",
          "430,416",
          "16,000,000",
          "45,360,000"
         ],
         "yaxis": "y"
        },
        {
         "alignmentgroup": "True",
         "hovertemplate": "受款單位=國立台南高級海事水產職業學校<br>執行日期=%{x}<br>金額 =%{y}<extra></extra>",
         "legendgroup": "國立台南高級海事水產職業學校",
         "marker": {
          "color": "#19d3f3",
          "pattern": {
           "shape": ""
          }
         },
         "name": "國立台南高級海事水產職業學校",
         "offsetgroup": "國立台南高級海事水產職業學校",
         "orientation": "v",
         "showlegend": true,
         "textposition": "auto",
         "type": "bar",
         "x": [
          "112/01/10",
          "112/01/10",
          "112/01/12",
          "112/01/13",
          "112/01/17",
          "112/01/01",
          "112/01/03"
         ],
         "xaxis": "x",
         "y": [
          "678,000",
          "14,000",
          "311,000",
          "128,331",
          "405,243",
          "8,350,000",
          "22,666,000"
         ],
         "yaxis": "y"
        },
        {
         "alignmentgroup": "True",
         "hovertemplate": "受款單位=國立新竹高級商業職業學校<br>執行日期=%{x}<br>金額 =%{y}<extra></extra>",
         "legendgroup": "國立新竹高級商業職業學校",
         "marker": {
          "color": "#FF6692",
          "pattern": {
           "shape": ""
          }
         },
         "name": "國立新竹高級商業職業學校",
         "offsetgroup": "國立新竹高級商業職業學校",
         "orientation": "v",
         "showlegend": true,
         "textposition": "auto",
         "type": "bar",
         "x": [
          "112/01/10",
          "112/01/10",
          "112/01/12",
          "112/01/13",
          "112/01/16",
          "112/01/01",
          "112/01/03"
         ],
         "xaxis": "x",
         "y": [
          "566,000",
          "12,000",
          "235,000",
          "293,706",
          "2,500,000",
          "9,600,000",
          "27,455,000"
         ],
         "yaxis": "y"
        },
        {
         "alignmentgroup": "True",
         "hovertemplate": "受款單位=國立基隆高級商工職業學校<br>執行日期=%{x}<br>金額 =%{y}<extra></extra>",
         "legendgroup": "國立基隆高級商工職業學校",
         "marker": {
          "color": "#B6E880",
          "pattern": {
           "shape": ""
          }
         },
         "name": "國立基隆高級商工職業學校",
         "offsetgroup": "國立基隆高級商工職業學校",
         "orientation": "v",
         "showlegend": true,
         "textposition": "auto",
         "type": "bar",
         "x": [
          "112/01/10",
          "112/01/10",
          "112/01/10",
          "112/01/12",
          "112/01/13",
          "112/01/01",
          "112/01/03"
         ],
         "xaxis": "x",
         "y": [
          "657,000",
          "14,000",
          "14,000",
          "208,000",
          "202,419",
          "14,000,000",
          "39,904,000"
         ],
         "yaxis": "y"
        },
        {
         "alignmentgroup": "True",
         "hovertemplate": "受款單位=國立花蓮高級農業職業學校<br>執行日期=%{x}<br>金額 =%{y}<extra></extra>",
         "legendgroup": "國立花蓮高級農業職業學校",
         "marker": {
          "color": "#FF97FF",
          "pattern": {
           "shape": ""
          }
         },
         "name": "國立花蓮高級農業職業學校",
         "offsetgroup": "國立花蓮高級農業職業學校",
         "orientation": "v",
         "showlegend": true,
         "textposition": "auto",
         "type": "bar",
         "x": [
          "112/01/10",
          "112/01/10",
          "112/01/12",
          "112/01/13",
          "112/01/18",
          "112/01/01",
          "112/01/03"
         ],
         "xaxis": "x",
         "y": [
          "657,000",
          "12,000",
          "294,000",
          "87,318",
          "750,000",
          "11,000,000",
          "29,000,000"
         ],
         "yaxis": "y"
        },
        {
         "alignmentgroup": "True",
         "hovertemplate": "受款單位=國立嘉義高級中學<br>執行日期=%{x}<br>金額 =%{y}<extra></extra>",
         "legendgroup": "國立嘉義高級中學",
         "marker": {
          "color": "#FECB52",
          "pattern": {
           "shape": ""
          }
         },
         "name": "國立嘉義高級中學",
         "offsetgroup": "國立嘉義高級中學",
         "orientation": "v",
         "showlegend": true,
         "textposition": "auto",
         "type": "bar",
         "x": [
          "112/01/10",
          "112/01/10",
          "112/01/10",
          "112/01/12",
          "112/01/13",
          "112/01/16",
          "112/01/01",
          "112/01/03"
         ],
         "xaxis": "x",
         "y": [
          "578,000",
          "500,000",
          "13,500",
          "244,000",
          "643,167",
          "10,000",
          "14,011,000",
          "37,313,000"
         ],
         "yaxis": "y"
        },
        {
         "alignmentgroup": "True",
         "hovertemplate": "受款單位=國立屏東高級工業職業學校<br>執行日期=%{x}<br>金額 =%{y}<extra></extra>",
         "legendgroup": "國立屏東高級工業職業學校",
         "marker": {
          "color": "#636efa",
          "pattern": {
           "shape": ""
          }
         },
         "name": "國立屏東高級工業職業學校",
         "offsetgroup": "國立屏東高級工業職業學校",
         "orientation": "v",
         "showlegend": true,
         "textposition": "auto",
         "type": "bar",
         "x": [
          "112/01/10",
          "112/01/10",
          "112/01/12",
          "112/01/17",
          "112/01/01",
          "112/01/03"
         ],
         "xaxis": "x",
         "y": [
          "754,000",
          "214,326",
          "354,000",
          "100,000",
          "16,100,000",
          "47,600,000"
         ],
         "yaxis": "y"
        },
        {
         "alignmentgroup": "True",
         "hovertemplate": "受款單位=國立臺東大學附屬體育高級中學<br>執行日期=%{x}<br>金額 =%{y}<extra></extra>",
         "legendgroup": "國立臺東大學附屬體育高級中學",
         "marker": {
          "color": "#EF553B",
          "pattern": {
           "shape": ""
          }
         },
         "name": "國立臺東大學附屬體育高級中學",
         "offsetgroup": "國立臺東大學附屬體育高級中學",
         "orientation": "v",
         "showlegend": true,
         "textposition": "auto",
         "type": "bar",
         "x": [
          "112/01/10",
          "112/01/13",
          "112/01/13",
          "112/01/17",
          "112/01/19",
          "112/01/01",
          "112/01/03"
         ],
         "xaxis": "x",
         "y": [
          "900,794",
          "925,000",
          "15,876",
          "3,000,000",
          "14,000",
          "5,800,000",
          "16,000,000"
         ],
         "yaxis": "y"
        },
        {
         "alignmentgroup": "True",
         "hovertemplate": "受款單位=國立花蓮高級工業職業學校<br>執行日期=%{x}<br>金額 =%{y}<extra></extra>",
         "legendgroup": "國立花蓮高級工業職業學校",
         "marker": {
          "color": "#00cc96",
          "pattern": {
           "shape": ""
          }
         },
         "name": "國立花蓮高級工業職業學校",
         "offsetgroup": "國立花蓮高級工業職業學校",
         "orientation": "v",
         "showlegend": true,
         "textposition": "auto",
         "type": "bar",
         "x": [
          "112/01/10",
          "112/01/10",
          "112/01/13",
          "112/01/18",
          "112/01/01",
          "112/01/03"
         ],
         "xaxis": "x",
         "y": [
          "153,461",
          "14,000",
          "750,000",
          "265,923",
          "12,922,000",
          "34,338,000"
         ],
         "yaxis": "y"
        },
        {
         "alignmentgroup": "True",
         "hovertemplate": "受款單位=國立北斗高級家事商業職業學校<br>執行日期=%{x}<br>金額 =%{y}<extra></extra>",
         "legendgroup": "國立北斗高級家事商業職業學校",
         "marker": {
          "color": "#ab63fa",
          "pattern": {
           "shape": ""
          }
         },
         "name": "國立北斗高級家事商業職業學校",
         "offsetgroup": "國立北斗高級家事商業職業學校",
         "orientation": "v",
         "showlegend": true,
         "textposition": "auto",
         "type": "bar",
         "x": [
          "112/01/10",
          "112/01/10",
          "112/01/10",
          "112/01/10",
          "112/01/17",
          "112/01/17",
          "112/01/01",
          "112/01/03"
         ],
         "xaxis": "x",
         "y": [
          "180,000",
          "123,039",
          "12,000",
          "12,000",
          "456,605",
          "382,531",
          "10,590,000",
          "27,871,000"
         ],
         "yaxis": "y"
        },
        {
         "alignmentgroup": "True",
         "hovertemplate": "受款單位=國立佳冬高級農業職業學校<br>執行日期=%{x}<br>金額 =%{y}<extra></extra>",
         "legendgroup": "國立佳冬高級農業職業學校",
         "marker": {
          "color": "#FFA15A",
          "pattern": {
           "shape": ""
          }
         },
         "name": "國立佳冬高級農業職業學校",
         "offsetgroup": "國立佳冬高級農業職業學校",
         "orientation": "v",
         "showlegend": true,
         "textposition": "auto",
         "type": "bar",
         "x": [
          "112/01/10",
          "112/01/10",
          "112/01/10",
          "112/01/01",
          "112/01/03"
         ],
         "xaxis": "x",
         "y": [
          "5,319,000",
          "269,892",
          "24,000",
          "10,000,000",
          "27,000,000"
         ],
         "yaxis": "y"
        },
        {
         "alignmentgroup": "True",
         "hovertemplate": "受款單位=國立土庫高級商工職業學校<br>執行日期=%{x}<br>金額 =%{y}<extra></extra>",
         "legendgroup": "國立土庫高級商工職業學校",
         "marker": {
          "color": "#19d3f3",
          "pattern": {
           "shape": ""
          }
         },
         "name": "國立土庫高級商工職業學校",
         "offsetgroup": "國立土庫高級商工職業學校",
         "orientation": "v",
         "showlegend": true,
         "textposition": "auto",
         "type": "bar",
         "x": [
          "112/01/10",
          "112/01/10",
          "112/01/13",
          "112/01/17",
          "112/01/01",
          "112/01/03"
         ],
         "xaxis": "x",
         "y": [
          "5,893,404",
          "12,000",
          "123,039",
          "405,243",
          "8,048,000",
          "22,128,000"
         ],
         "yaxis": "y"
        },
        {
         "alignmentgroup": "True",
         "hovertemplate": "受款單位=國立旗山高級農工職業學校<br>執行日期=%{x}<br>金額 =%{y}<extra></extra>",
         "legendgroup": "國立旗山高級農工職業學校",
         "marker": {
          "color": "#FF6692",
          "pattern": {
           "shape": ""
          }
         },
         "name": "國立旗山高級農工職業學校",
         "offsetgroup": "國立旗山高級農工職業學校",
         "orientation": "v",
         "showlegend": true,
         "textposition": "auto",
         "type": "bar",
         "x": [
          "112/01/10",
          "112/01/10",
          "112/01/10",
          "112/01/17",
          "112/01/01",
          "112/01/03"
         ],
         "xaxis": "x",
         "y": [
          "4,521,000",
          "129,654",
          "12,000",
          "500,000",
          "12,500,000",
          "29,500,000"
         ],
         "yaxis": "y"
        },
        {
         "alignmentgroup": "True",
         "hovertemplate": "受款單位=國立溪湖高級中學<br>執行日期=%{x}<br>金額 =%{y}<extra></extra>",
         "legendgroup": "國立溪湖高級中學",
         "marker": {
          "color": "#B6E880",
          "pattern": {
           "shape": ""
          }
         },
         "name": "國立溪湖高級中學",
         "offsetgroup": "國立溪湖高級中學",
         "orientation": "v",
         "showlegend": true,
         "textposition": "auto",
         "type": "bar",
         "x": [
          "112/01/10",
          "112/01/10",
          "112/01/12",
          "112/01/13",
          "112/01/01",
          "112/01/03"
         ],
         "xaxis": "x",
         "y": [
          "785,000",
          "13,500",
          "1,050,000",
          "552,825",
          "10,647,000",
          "30,042,000"
         ],
         "yaxis": "y"
        },
        {
         "alignmentgroup": "True",
         "hovertemplate": "受款單位=國立屏北高級中學<br>執行日期=%{x}<br>金額 =%{y}<extra></extra>",
         "legendgroup": "國立屏北高級中學",
         "marker": {
          "color": "#FF97FF",
          "pattern": {
           "shape": ""
          }
         },
         "name": "國立屏北高級中學",
         "offsetgroup": "國立屏北高級中學",
         "orientation": "v",
         "showlegend": true,
         "textposition": "auto",
         "type": "bar",
         "x": [
          "112/01/10",
          "112/01/10",
          "112/01/13",
          "112/01/01",
          "112/01/03"
         ],
         "xaxis": "x",
         "y": [
          "898,000",
          "14,000",
          "229,320",
          "8,000,000",
          "20,000,000"
         ],
         "yaxis": "y"
        },
        {
         "alignmentgroup": "True",
         "hovertemplate": "受款單位=國立新竹女子高級中學<br>執行日期=%{x}<br>金額 =%{y}<extra></extra>",
         "legendgroup": "國立新竹女子高級中學",
         "marker": {
          "color": "#FECB52",
          "pattern": {
           "shape": ""
          }
         },
         "name": "國立新竹女子高級中學",
         "offsetgroup": "國立新竹女子高級中學",
         "orientation": "v",
         "showlegend": true,
         "textposition": "auto",
         "type": "bar",
         "x": [
          "112/01/10",
          "112/01/10",
          "112/01/13",
          "112/01/13",
          "112/01/16",
          "112/01/17",
          "112/01/17",
          "112/01/01",
          "112/01/03"
         ],
         "xaxis": "x",
         "y": [
          "650,000",
          "243,432",
          "710,133",
          "548,536",
          "1,000,000",
          "100,000",
          "2,559,315",
          "13,250,000",
          "33,623,000"
         ],
         "yaxis": "y"
        },
        {
         "alignmentgroup": "True",
         "hovertemplate": "受款單位=國立羅東高級中學<br>執行日期=%{x}<br>金額 =%{y}<extra></extra>",
         "legendgroup": "國立羅東高級中學",
         "marker": {
          "color": "#636efa",
          "pattern": {
           "shape": ""
          }
         },
         "name": "國立羅東高級中學",
         "offsetgroup": "國立羅東高級中學",
         "orientation": "v",
         "showlegend": true,
         "textposition": "auto",
         "type": "bar",
         "x": [
          "112/01/10",
          "112/01/10",
          "112/01/16",
          "112/01/17",
          "112/01/01",
          "112/01/03"
         ],
         "xaxis": "x",
         "y": [
          "751,000",
          "12,000",
          "436,590",
          "1,050,000",
          "9,945,000",
          "32,415,000"
         ],
         "yaxis": "y"
        },
        {
         "alignmentgroup": "True",
         "hovertemplate": "受款單位=國立屏東高級中學<br>執行日期=%{x}<br>金額 =%{y}<extra></extra>",
         "legendgroup": "國立屏東高級中學",
         "marker": {
          "color": "#EF553B",
          "pattern": {
           "shape": ""
          }
         },
         "name": "國立屏東高級中學",
         "offsetgroup": "國立屏東高級中學",
         "orientation": "v",
         "showlegend": true,
         "textposition": "auto",
         "type": "bar",
         "x": [
          "112/01/10",
          "112/01/16",
          "112/01/01",
          "112/01/03"
         ],
         "xaxis": "x",
         "y": [
          "795,000",
          "40,000",
          "13,896,000",
          "38,702,000"
         ],
         "yaxis": "y"
        },
        {
         "alignmentgroup": "True",
         "hovertemplate": "受款單位=國立北門高級中學<br>執行日期=%{x}<br>金額 =%{y}<extra></extra>",
         "legendgroup": "國立北門高級中學",
         "marker": {
          "color": "#00cc96",
          "pattern": {
           "shape": ""
          }
         },
         "name": "國立北門高級中學",
         "offsetgroup": "國立北門高級中學",
         "orientation": "v",
         "showlegend": true,
         "textposition": "auto",
         "type": "bar",
         "x": [
          "112/01/10",
          "112/01/13",
          "112/01/16",
          "112/01/16",
          "112/01/17",
          "112/01/19",
          "112/01/01",
          "112/01/03"
         ],
         "xaxis": "x",
         "y": [
          "548,000",
          "414,666",
          "2,124,320",
          "2,580,000",
          "414,711",
          "14,000",
          "7,200,000",
          "18,500,000"
         ],
         "yaxis": "y"
        },
        {
         "alignmentgroup": "True",
         "hovertemplate": "受款單位=國立華僑高級中學<br>執行日期=%{x}<br>金額 =%{y}<extra></extra>",
         "legendgroup": "國立華僑高級中學",
         "marker": {
          "color": "#ab63fa",
          "pattern": {
           "shape": ""
          }
         },
         "name": "國立華僑高級中學",
         "offsetgroup": "國立華僑高級中學",
         "orientation": "v",
         "showlegend": true,
         "textposition": "auto",
         "type": "bar",
         "x": [
          "112/01/10",
          "112/01/10",
          "112/01/16",
          "112/01/17",
          "112/01/01",
          "112/01/03"
         ],
         "xaxis": "x",
         "y": [
          "580,000",
          "12,000",
          "216,000",
          "382,531",
          "13,000,000",
          "32,725,000"
         ],
         "yaxis": "y"
        },
        {
         "alignmentgroup": "True",
         "hovertemplate": "受款單位=國立斗六高級中學<br>執行日期=%{x}<br>金額 =%{y}<extra></extra>",
         "legendgroup": "國立斗六高級中學",
         "marker": {
          "color": "#FFA15A",
          "pattern": {
           "shape": ""
          }
         },
         "name": "國立斗六高級中學",
         "offsetgroup": "國立斗六高級中學",
         "orientation": "v",
         "showlegend": true,
         "textposition": "auto",
         "type": "bar",
         "x": [
          "112/01/10",
          "112/01/10",
          "112/01/13",
          "112/01/17",
          "112/01/01",
          "112/01/03"
         ],
         "xaxis": "x",
         "y": [
          "680,000",
          "14,000",
          "206,388",
          "2,600,000",
          "10,826,000",
          "31,284,000"
         ],
         "yaxis": "y"
        },
        {
         "alignmentgroup": "True",
         "hovertemplate": "受款單位=國立花蓮女子高級中學<br>執行日期=%{x}<br>金額 =%{y}<extra></extra>",
         "legendgroup": "國立花蓮女子高級中學",
         "marker": {
          "color": "#19d3f3",
          "pattern": {
           "shape": ""
          }
         },
         "name": "國立花蓮女子高級中學",
         "offsetgroup": "國立花蓮女子高級中學",
         "orientation": "v",
         "showlegend": true,
         "textposition": "auto",
         "type": "bar",
         "x": [
          "112/01/10",
          "112/01/12",
          "112/01/12",
          "112/01/13",
          "112/01/13",
          "112/01/16",
          "112/01/19",
          "112/01/01",
          "112/01/03"
         ],
         "xaxis": "x",
         "y": [
          "738,000",
          "741,546",
          "1,727,016",
          "538,131",
          "118,125",
          "30,000",
          "14,000",
          "7,600,000",
          "21,998,000"
         ],
         "yaxis": "y"
        },
        {
         "alignmentgroup": "True",
         "hovertemplate": "受款單位=國立高雄餐旅大學附屬餐旅高級中等學校<br>執行日期=%{x}<br>金額 =%{y}<extra></extra>",
         "legendgroup": "國立高雄餐旅大學附屬餐旅高級中等學校",
         "marker": {
          "color": "#FF6692",
          "pattern": {
           "shape": ""
          }
         },
         "name": "國立高雄餐旅大學附屬餐旅高級中等學校",
         "offsetgroup": "國立高雄餐旅大學附屬餐旅高級中等學校",
         "orientation": "v",
         "showlegend": true,
         "textposition": "auto",
         "type": "bar",
         "x": [
          "112/01/10",
          "112/01/16",
          "112/01/01",
          "112/01/03"
         ],
         "xaxis": "x",
         "y": [
          "63,504",
          "2,500,000",
          "3,830,000",
          "10,653,000"
         ],
         "yaxis": "y"
        },
        {
         "alignmentgroup": "True",
         "hovertemplate": "受款單位=國立蘭陽女子高級中學<br>執行日期=%{x}<br>金額 =%{y}<extra></extra>",
         "legendgroup": "國立蘭陽女子高級中學",
         "marker": {
          "color": "#B6E880",
          "pattern": {
           "shape": ""
          }
         },
         "name": "國立蘭陽女子高級中學",
         "offsetgroup": "國立蘭陽女子高級中學",
         "orientation": "v",
         "showlegend": true,
         "textposition": "auto",
         "type": "bar",
         "x": [
          "112/01/10",
          "112/01/17",
          "112/01/01",
          "112/01/03"
         ],
         "xaxis": "x",
         "y": [
          "496,125",
          "1,050,000",
          "11,500,000",
          "23,691,000"
         ],
         "yaxis": "y"
        },
        {
         "alignmentgroup": "True",
         "hovertemplate": "受款單位=國立虎尾高級中學<br>執行日期=%{x}<br>金額 =%{y}<extra></extra>",
         "legendgroup": "國立虎尾高級中學",
         "marker": {
          "color": "#FF97FF",
          "pattern": {
           "shape": ""
          }
         },
         "name": "國立虎尾高級中學",
         "offsetgroup": "國立虎尾高級中學",
         "orientation": "v",
         "showlegend": true,
         "textposition": "auto",
         "type": "bar",
         "x": [
          "112/01/10",
          "112/01/10",
          "112/01/12",
          "112/01/01",
          "112/01/03"
         ],
         "xaxis": "x",
         "y": [
          "486,722",
          "14,000",
          "730,000",
          "9,000,000",
          "26,082,000"
         ],
         "yaxis": "y"
        },
        {
         "alignmentgroup": "True",
         "hovertemplate": "受款單位=國立嘉義高級商業職業學校<br>執行日期=%{x}<br>金額 =%{y}<extra></extra>",
         "legendgroup": "國立嘉義高級商業職業學校",
         "marker": {
          "color": "#FECB52",
          "pattern": {
           "shape": ""
          }
         },
         "name": "國立嘉義高級商業職業學校",
         "offsetgroup": "國立嘉義高級商業職業學校",
         "orientation": "v",
         "showlegend": true,
         "textposition": "auto",
         "type": "bar",
         "x": [
          "112/01/10",
          "112/01/17",
          "112/01/19",
          "112/01/01",
          "112/01/03"
         ],
         "xaxis": "x",
         "y": [
          "341,334",
          "382,531",
          "25,500",
          "12,640,000",
          "29,267,000"
         ],
         "yaxis": "y"
        },
        {
         "alignmentgroup": "True",
         "hovertemplate": "受款單位=國立華南高級商業職業學校<br>執行日期=%{x}<br>金額 =%{y}<extra></extra>",
         "legendgroup": "國立華南高級商業職業學校",
         "marker": {
          "color": "#636efa",
          "pattern": {
           "shape": ""
          }
         },
         "name": "國立華南高級商業職業學校",
         "offsetgroup": "國立華南高級商業職業學校",
         "orientation": "v",
         "showlegend": true,
         "textposition": "auto",
         "type": "bar",
         "x": [
          "112/01/10",
          "112/01/10",
          "112/01/01",
          "112/01/03"
         ],
         "xaxis": "x",
         "y": [
          "269,892",
          "12,000",
          "9,841,000",
          "26,215,000"
         ],
         "yaxis": "y"
        },
        {
         "alignmentgroup": "True",
         "hovertemplate": "受款單位=國立岡山高級中學<br>執行日期=%{x}<br>金額 =%{y}<extra></extra>",
         "legendgroup": "國立岡山高級中學",
         "marker": {
          "color": "#EF553B",
          "pattern": {
           "shape": ""
          }
         },
         "name": "國立岡山高級中學",
         "offsetgroup": "國立岡山高級中學",
         "orientation": "v",
         "showlegend": true,
         "textposition": "auto",
         "type": "bar",
         "x": [
          "112/01/10",
          "112/01/10",
          "112/01/12",
          "112/01/01",
          "112/01/03"
         ],
         "xaxis": "x",
         "y": [
          "127,008",
          "14,000",
          "635,000",
          "9,282,000",
          "26,740,000"
         ],
         "yaxis": "y"
        },
        {
         "alignmentgroup": "True",
         "hovertemplate": "受款單位=國立大湖高級農工職業學校<br>執行日期=%{x}<br>金額 =%{y}<extra></extra>",
         "legendgroup": "國立大湖高級農工職業學校",
         "marker": {
          "color": "#00cc96",
          "pattern": {
           "shape": ""
          }
         },
         "name": "國立大湖高級農工職業學校",
         "offsetgroup": "國立大湖高級農工職業學校",
         "orientation": "v",
         "showlegend": true,
         "textposition": "auto",
         "type": "bar",
         "x": [
          "112/01/10",
          "112/01/10",
          "112/01/17",
          "112/01/01",
          "112/01/03"
         ],
         "xaxis": "x",
         "y": [
          "134,946",
          "12,000",
          "1,800,000",
          "8,200,000",
          "20,820,000"
         ],
         "yaxis": "y"
        },
        {
         "alignmentgroup": "True",
         "hovertemplate": "受款單位=國立和美實驗學校<br>執行日期=%{x}<br>金額 =%{y}<extra></extra>",
         "legendgroup": "國立和美實驗學校",
         "marker": {
          "color": "#ab63fa",
          "pattern": {
           "shape": ""
          }
         },
         "name": "國立和美實驗學校",
         "offsetgroup": "國立和美實驗學校",
         "orientation": "v",
         "showlegend": true,
         "textposition": "auto",
         "type": "bar",
         "x": [
          "112/01/10",
          "112/01/10",
          "112/01/12",
          "112/01/12",
          "112/01/17",
          "112/01/01",
          "112/01/03"
         ],
         "xaxis": "x",
         "y": [
          "261,954",
          "13,500",
          "790,000",
          "350,000",
          "819,804",
          "10,200,000",
          "29,200,000"
         ],
         "yaxis": "y"
        },
        {
         "alignmentgroup": "True",
         "hovertemplate": "受款單位=國立南投高級商業職業學校<br>執行日期=%{x}<br>金額 =%{y}<extra></extra>",
         "legendgroup": "國立南投高級商業職業學校",
         "marker": {
          "color": "#FFA15A",
          "pattern": {
           "shape": ""
          }
         },
         "name": "國立南投高級商業職業學校",
         "offsetgroup": "國立南投高級商業職業學校",
         "orientation": "v",
         "showlegend": true,
         "textposition": "auto",
         "type": "bar",
         "x": [
          "112/01/10",
          "112/01/01",
          "112/01/03"
         ],
         "xaxis": "x",
         "y": [
          "103,194",
          "9,000,000",
          "26,589,000"
         ],
         "yaxis": "y"
        },
        {
         "alignmentgroup": "True",
         "hovertemplate": "受款單位=國立中興大學附屬高級中學<br>執行日期=%{x}<br>金額 =%{y}<extra></extra>",
         "legendgroup": "國立中興大學附屬高級中學",
         "marker": {
          "color": "#19d3f3",
          "pattern": {
           "shape": ""
          }
         },
         "name": "國立中興大學附屬高級中學",
         "offsetgroup": "國立中興大學附屬高級中學",
         "orientation": "v",
         "showlegend": true,
         "textposition": "auto",
         "type": "bar",
         "x": [
          "112/01/10",
          "112/01/10",
          "112/01/12",
          "112/01/01",
          "112/01/03"
         ],
         "xaxis": "x",
         "y": [
          "289,737",
          "12,000",
          "579,000",
          "12,000,000",
          "34,297,000"
         ],
         "yaxis": "y"
        },
        {
         "alignmentgroup": "True",
         "hovertemplate": "受款單位=國立玉里高級中學<br>執行日期=%{x}<br>金額 =%{y}<extra></extra>",
         "legendgroup": "國立玉里高級中學",
         "marker": {
          "color": "#FF6692",
          "pattern": {
           "shape": ""
          }
         },
         "name": "國立玉里高級中學",
         "offsetgroup": "國立玉里高級中學",
         "orientation": "v",
         "showlegend": true,
         "textposition": "auto",
         "type": "bar",
         "x": [
          "112/01/10",
          "112/01/17",
          "112/01/17",
          "112/01/01",
          "112/01/03"
         ],
         "xaxis": "x",
         "y": [
          "14,000",
          "100,000",
          "206,388",
          "8,750,000",
          "20,550,000"
         ],
         "yaxis": "y"
        },
        {
         "alignmentgroup": "True",
         "hovertemplate": "受款單位=國立花蓮高級商業職業學校<br>執行日期=%{x}<br>金額 =%{y}<extra></extra>",
         "legendgroup": "國立花蓮高級商業職業學校",
         "marker": {
          "color": "#B6E880",
          "pattern": {
           "shape": ""
          }
         },
         "name": "國立花蓮高級商業職業學校",
         "offsetgroup": "國立花蓮高級商業職業學校",
         "orientation": "v",
         "showlegend": true,
         "textposition": "auto",
         "type": "bar",
         "x": [
          "112/01/10",
          "112/01/13",
          "112/01/17",
          "112/01/01",
          "112/01/03"
         ],
         "xaxis": "x",
         "y": [
          "28,000",
          "109,368",
          "4,000,000",
          "8,500,000",
          "23,500,000"
         ],
         "yaxis": "y"
        },
        {
         "alignmentgroup": "True",
         "hovertemplate": "受款單位=國立頭城高級家事商業職業學校<br>執行日期=%{x}<br>金額 =%{y}<extra></extra>",
         "legendgroup": "國立頭城高級家事商業職業學校",
         "marker": {
          "color": "#FF97FF",
          "pattern": {
           "shape": ""
          }
         },
         "name": "國立頭城高級家事商業職業學校",
         "offsetgroup": "國立頭城高級家事商業職業學校",
         "orientation": "v",
         "showlegend": true,
         "textposition": "auto",
         "type": "bar",
         "x": [
          "112/01/10",
          "112/01/16",
          "112/01/01",
          "112/01/03"
         ],
         "xaxis": "x",
         "y": [
          "12,000",
          "95,256",
          "12,844,000",
          "27,344,000"
         ],
         "yaxis": "y"
        },
        {
         "alignmentgroup": "True",
         "hovertemplate": "受款單位=國立蘇澳高級海事水產職業學校<br>執行日期=%{x}<br>金額 =%{y}<extra></extra>",
         "legendgroup": "國立蘇澳高級海事水產職業學校",
         "marker": {
          "color": "#FECB52",
          "pattern": {
           "shape": ""
          }
         },
         "name": "國立蘇澳高級海事水產職業學校",
         "offsetgroup": "國立蘇澳高級海事水產職業學校",
         "orientation": "v",
         "showlegend": true,
         "textposition": "auto",
         "type": "bar",
         "x": [
          "112/01/10",
          "112/01/17",
          "112/01/01",
          "112/01/03"
         ],
         "xaxis": "x",
         "y": [
          "12,000",
          "100,000",
          "11,500,000",
          "29,086,000"
         ],
         "yaxis": "y"
        },
        {
         "alignmentgroup": "True",
         "hovertemplate": "受款單位=國立馬祖高級中學<br>執行日期=%{x}<br>金額 =%{y}<extra></extra>",
         "legendgroup": "國立馬祖高級中學",
         "marker": {
          "color": "#636efa",
          "pattern": {
           "shape": ""
          }
         },
         "name": "國立馬祖高級中學",
         "offsetgroup": "國立馬祖高級中學",
         "orientation": "v",
         "showlegend": true,
         "textposition": "auto",
         "type": "bar",
         "x": [
          "112/01/10",
          "112/01/01",
          "112/01/03"
         ],
         "xaxis": "x",
         "y": [
          "12,000",
          "5,355,000",
          "12,433,000"
         ],
         "yaxis": "y"
        },
        {
         "alignmentgroup": "True",
         "hovertemplate": "受款單位=國立臺灣海洋大學附屬基隆海事高級中等學校<br>執行日期=%{x}<br>金額 =%{y}<extra></extra>",
         "legendgroup": "國立臺灣海洋大學附屬基隆海事高級中等學校",
         "marker": {
          "color": "#EF553B",
          "pattern": {
           "shape": ""
          }
         },
         "name": "國立臺灣海洋大學附屬基隆海事高級中等學校",
         "offsetgroup": "國立臺灣海洋大學附屬基隆海事高級中等學校",
         "orientation": "v",
         "showlegend": true,
         "textposition": "auto",
         "type": "bar",
         "x": [
          "112/01/10",
          "112/01/13",
          "112/01/16",
          "112/01/17",
          "112/01/01",
          "112/01/03"
         ],
         "xaxis": "x",
         "y": [
          "14,000",
          "127,008",
          "180,000",
          "405,243",
          "14,000,000",
          "39,335,000"
         ],
         "yaxis": "y"
        },
        {
         "alignmentgroup": "True",
         "hovertemplate": "受款單位=國立臺北科技大學附屬桃園農工高級中等學校<br>執行日期=%{x}<br>金額 =%{y}<extra></extra>",
         "legendgroup": "國立臺北科技大學附屬桃園農工高級中等學校",
         "marker": {
          "color": "#00cc96",
          "pattern": {
           "shape": ""
          }
         },
         "name": "國立臺北科技大學附屬桃園農工高級中等學校",
         "offsetgroup": "國立臺北科技大學附屬桃園農工高級中等學校",
         "orientation": "v",
         "showlegend": true,
         "textposition": "auto",
         "type": "bar",
         "x": [
          "112/01/10",
          "112/01/13",
          "112/01/16",
          "112/01/18",
          "112/01/01",
          "112/01/03"
         ],
         "xaxis": "x",
         "y": [
          "14,000",
          "107,604",
          "40,000",
          "750,000",
          "19,344,000",
          "53,585,000"
         ],
         "yaxis": "y"
        },
        {
         "alignmentgroup": "True",
         "hovertemplate": "受款單位=國立新竹高級中學<br>執行日期=%{x}<br>金額 =%{y}<extra></extra>",
         "legendgroup": "國立新竹高級中學",
         "marker": {
          "color": "#ab63fa",
          "pattern": {
           "shape": ""
          }
         },
         "name": "國立新竹高級中學",
         "offsetgroup": "國立新竹高級中學",
         "orientation": "v",
         "showlegend": true,
         "textposition": "auto",
         "type": "bar",
         "x": [
          "112/01/10",
          "112/01/12",
          "112/01/13",
          "112/01/13",
          "112/01/01",
          "112/01/03"
         ],
         "xaxis": "x",
         "y": [
          "12,000",
          "300,000",
          "550,000",
          "579,474",
          "12,600,000",
          "34,304,000"
         ],
         "yaxis": "y"
        },
        {
         "alignmentgroup": "True",
         "hovertemplate": "受款單位=國立關西高級中學<br>執行日期=%{x}<br>金額 =%{y}<extra></extra>",
         "legendgroup": "國立關西高級中學",
         "marker": {
          "color": "#FFA15A",
          "pattern": {
           "shape": ""
          }
         },
         "name": "國立關西高級中學",
         "offsetgroup": "國立關西高級中學",
         "orientation": "v",
         "showlegend": true,
         "textposition": "auto",
         "type": "bar",
         "x": [
          "112/01/10",
          "112/01/13",
          "112/01/01",
          "112/01/03"
         ],
         "xaxis": "x",
         "y": [
          "12,000",
          "289,296",
          "7,600,000",
          "20,500,000"
         ],
         "yaxis": "y"
        },
        {
         "alignmentgroup": "True",
         "hovertemplate": "受款單位=國立卓蘭高級中等學校<br>執行日期=%{x}<br>金額 =%{y}<extra></extra>",
         "legendgroup": "國立卓蘭高級中等學校",
         "marker": {
          "color": "#19d3f3",
          "pattern": {
           "shape": ""
          }
         },
         "name": "國立卓蘭高級中等學校",
         "offsetgroup": "國立卓蘭高級中等學校",
         "orientation": "v",
         "showlegend": true,
         "textposition": "auto",
         "type": "bar",
         "x": [
          "112/01/10",
          "112/01/13",
          "112/01/17",
          "112/01/01",
          "112/01/03"
         ],
         "xaxis": "x",
         "y": [
          "13,500",
          "198,450",
          "3,900,000",
          "11,000,000",
          "28,500,000"
         ],
         "yaxis": "y"
        },
        {
         "alignmentgroup": "True",
         "hovertemplate": "受款單位=國立中興大學附屬台中高級農業職業學校<br>執行日期=%{x}<br>金額 =%{y}<extra></extra>",
         "legendgroup": "國立中興大學附屬台中高級農業職業學校",
         "marker": {
          "color": "#FF6692",
          "pattern": {
           "shape": ""
          }
         },
         "name": "國立中興大學附屬台中高級農業職業學校",
         "offsetgroup": "國立中興大學附屬台中高級農業職業學校",
         "orientation": "v",
         "showlegend": true,
         "textposition": "auto",
         "type": "bar",
         "x": [
          "112/01/10",
          "112/01/13",
          "112/01/17",
          "112/01/17",
          "112/01/01",
          "112/01/03"
         ],
         "xaxis": "x",
         "y": [
          "24,000",
          "303,408",
          "100,000",
          "5,000,000",
          "16,500,000",
          "48,522,000"
         ],
         "yaxis": "y"
        },
        {
         "alignmentgroup": "True",
         "hovertemplate": "受款單位=國立水里高級商工職業學校<br>執行日期=%{x}<br>金額 =%{y}<extra></extra>",
         "legendgroup": "國立水里高級商工職業學校",
         "marker": {
          "color": "#B6E880",
          "pattern": {
           "shape": ""
          }
         },
         "name": "國立水里高級商工職業學校",
         "offsetgroup": "國立水里高級商工職業學校",
         "orientation": "v",
         "showlegend": true,
         "textposition": "auto",
         "type": "bar",
         "x": [
          "112/01/10",
          "112/01/13",
          "112/01/17",
          "112/01/17",
          "112/01/17",
          "112/01/01",
          "112/01/03"
         ],
         "xaxis": "x",
         "y": [
          "13,500",
          "313,551",
          "3,500,000",
          "2,000,000",
          "405,243",
          "9,363,000",
          "23,802,000"
         ],
         "yaxis": "y"
        },
        {
         "alignmentgroup": "True",
         "hovertemplate": "受款單位=國立埔里高級工業職業學校<br>執行日期=%{x}<br>金額 =%{y}<extra></extra>",
         "legendgroup": "國立埔里高級工業職業學校",
         "marker": {
          "color": "#FF97FF",
          "pattern": {
           "shape": ""
          }
         },
         "name": "國立埔里高級工業職業學校",
         "offsetgroup": "國立埔里高級工業職業學校",
         "orientation": "v",
         "showlegend": true,
         "textposition": "auto",
         "type": "bar",
         "x": [
          "112/01/10",
          "112/01/13",
          "112/01/01",
          "112/01/03"
         ],
         "xaxis": "x",
         "y": [
          "13,500",
          "222,972",
          "9,685,000",
          "28,264,000"
         ],
         "yaxis": "y"
        },
        {
         "alignmentgroup": "True",
         "hovertemplate": "受款單位=國立草屯高級商工職業學校<br>執行日期=%{x}<br>金額 =%{y}<extra></extra>",
         "legendgroup": "國立草屯高級商工職業學校",
         "marker": {
          "color": "#FECB52",
          "pattern": {
           "shape": ""
          }
         },
         "name": "國立草屯高級商工職業學校",
         "offsetgroup": "國立草屯高級商工職業學校",
         "orientation": "v",
         "showlegend": true,
         "textposition": "auto",
         "type": "bar",
         "x": [
          "112/01/10",
          "112/01/13",
          "112/01/17",
          "112/01/01",
          "112/01/03"
         ],
         "xaxis": "x",
         "y": [
          "13,500",
          "142,884",
          "405,243",
          "12,588,000",
          "36,310,000"
         ],
         "yaxis": "y"
        },
        {
         "alignmentgroup": "True",
         "hovertemplate": "受款單位=國立仁愛高級農業職業學校<br>執行日期=%{x}<br>金額 =%{y}<extra></extra>",
         "legendgroup": "國立仁愛高級農業職業學校",
         "marker": {
          "color": "#636efa",
          "pattern": {
           "shape": ""
          }
         },
         "name": "國立仁愛高級農業職業學校",
         "offsetgroup": "國立仁愛高級農業職業學校",
         "orientation": "v",
         "showlegend": true,
         "textposition": "auto",
         "type": "bar",
         "x": [
          "112/01/10",
          "112/01/13",
          "112/01/01",
          "112/01/03"
         ],
         "xaxis": "x",
         "y": [
          "12,000",
          "37,044",
          "5,700,000",
          "14,000,000"
         ],
         "yaxis": "y"
        },
        {
         "alignmentgroup": "True",
         "hovertemplate": "受款單位=國立員林高級中學<br>執行日期=%{x}<br>金額 =%{y}<extra></extra>",
         "legendgroup": "國立員林高級中學",
         "marker": {
          "color": "#EF553B",
          "pattern": {
           "shape": ""
          }
         },
         "name": "國立員林高級中學",
         "offsetgroup": "國立員林高級中學",
         "orientation": "v",
         "showlegend": true,
         "textposition": "auto",
         "type": "bar",
         "x": [
          "112/01/10",
          "112/01/13",
          "112/01/13",
          "112/01/01",
          "112/01/03"
         ],
         "xaxis": "x",
         "y": [
          "13,500",
          "550,000",
          "353,241",
          "10,264,000",
          "28,663,000"
         ],
         "yaxis": "y"
        },
        {
         "alignmentgroup": "True",
         "hovertemplate": "受款單位=國立彰化女子高級中學<br>執行日期=%{x}<br>金額 =%{y}<extra></extra>",
         "legendgroup": "國立彰化女子高級中學",
         "marker": {
          "color": "#00cc96",
          "pattern": {
           "shape": ""
          }
         },
         "name": "國立彰化女子高級中學",
         "offsetgroup": "國立彰化女子高級中學",
         "orientation": "v",
         "showlegend": true,
         "textposition": "auto",
         "type": "bar",
         "x": [
          "112/01/10",
          "112/01/13",
          "112/01/13",
          "112/01/17",
          "112/01/01",
          "112/01/03"
         ],
         "xaxis": "x",
         "y": [
          "13,500",
          "550,000",
          "517,671",
          "3,000,000",
          "10,245,000",
          "27,572,000"
         ],
         "yaxis": "y"
        },
        {
         "alignmentgroup": "True",
         "hovertemplate": "受款單位=國立員林高級農工職業學校<br>執行日期=%{x}<br>金額 =%{y}<extra></extra>",
         "legendgroup": "國立員林高級農工職業學校",
         "marker": {
          "color": "#ab63fa",
          "pattern": {
           "shape": ""
          }
         },
         "name": "國立員林高級農工職業學校",
         "offsetgroup": "國立員林高級農工職業學校",
         "orientation": "v",
         "showlegend": true,
         "textposition": "auto",
         "type": "bar",
         "x": [
          "112/01/10",
          "112/01/10",
          "112/01/17",
          "112/01/01",
          "112/01/03"
         ],
         "xaxis": "x",
         "y": [
          "12,000",
          "12,000",
          "301,644",
          "12,000,000",
          "34,669,000"
         ],
         "yaxis": "y"
        },
        {
         "alignmentgroup": "True",
         "hovertemplate": "受款單位=國立虎尾高級農工職業學校<br>執行日期=%{x}<br>金額 =%{y}<extra></extra>",
         "legendgroup": "國立虎尾高級農工職業學校",
         "marker": {
          "color": "#FFA15A",
          "pattern": {
           "shape": ""
          }
         },
         "name": "國立虎尾高級農工職業學校",
         "offsetgroup": "國立虎尾高級農工職業學校",
         "orientation": "v",
         "showlegend": true,
         "textposition": "auto",
         "type": "bar",
         "x": [
          "112/01/10",
          "112/01/17",
          "112/01/01",
          "112/01/03"
         ],
         "xaxis": "x",
         "y": [
          "14,000",
          "405,243",
          "13,000,000",
          "32,410,000"
         ],
         "yaxis": "y"
        },
        {
         "alignmentgroup": "True",
         "hovertemplate": "受款單位=國立嘉義女子高級中學<br>執行日期=%{x}<br>金額 =%{y}<extra></extra>",
         "legendgroup": "國立嘉義女子高級中學",
         "marker": {
          "color": "#19d3f3",
          "pattern": {
           "shape": ""
          }
         },
         "name": "國立嘉義女子高級中學",
         "offsetgroup": "國立嘉義女子高級中學",
         "orientation": "v",
         "showlegend": true,
         "textposition": "auto",
         "type": "bar",
         "x": [
          "112/01/10",
          "112/01/12",
          "112/01/12",
          "112/01/13",
          "112/01/13",
          "112/01/13",
          "112/01/17",
          "112/01/17",
          "112/01/01",
          "112/01/03"
         ],
         "xaxis": "x",
         "y": [
          "13,500",
          "1,050,000",
          "750,000",
          "564,059",
          "623,658",
          "944,622",
          "100,000",
          "2,256,550",
          "11,600,000",
          "28,073,000"
         ],
         "yaxis": "y"
        },
        {
         "alignmentgroup": "True",
         "hovertemplate": "受款單位=國立嘉義高級工業職業學校<br>執行日期=%{x}<br>金額 =%{y}<extra></extra>",
         "legendgroup": "國立嘉義高級工業職業學校",
         "marker": {
          "color": "#FF6692",
          "pattern": {
           "shape": ""
          }
         },
         "name": "國立嘉義高級工業職業學校",
         "offsetgroup": "國立嘉義高級工業職業學校",
         "orientation": "v",
         "showlegend": true,
         "textposition": "auto",
         "type": "bar",
         "x": [
          "112/01/10",
          "112/01/10",
          "112/01/16",
          "112/01/17",
          "112/01/01",
          "112/01/03"
         ],
         "xaxis": "x",
         "y": [
          "12,000",
          "12,000",
          "289,737",
          "405,243",
          "21,595,000",
          "50,412,000"
         ],
         "yaxis": "y"
        },
        {
         "alignmentgroup": "True",
         "hovertemplate": "受款單位=國立民雄高級農工職業學校<br>執行日期=%{x}<br>金額 =%{y}<extra></extra>",
         "legendgroup": "國立民雄高級農工職業學校",
         "marker": {
          "color": "#B6E880",
          "pattern": {
           "shape": ""
          }
         },
         "name": "國立民雄高級農工職業學校",
         "offsetgroup": "國立民雄高級農工職業學校",
         "orientation": "v",
         "showlegend": true,
         "textposition": "auto",
         "type": "bar",
         "x": [
          "112/01/10",
          "112/01/13",
          "112/01/01",
          "112/01/03"
         ],
         "xaxis": "x",
         "y": [
          "13,500",
          "349,272",
          "10,897,000",
          "30,064,000"
         ],
         "yaxis": "y"
        },
        {
         "alignmentgroup": "True",
         "hovertemplate": "受款單位=國立臺南大學附屬啟聰學校<br>執行日期=%{x}<br>金額 =%{y}<extra></extra>",
         "legendgroup": "國立臺南大學附屬啟聰學校",
         "marker": {
          "color": "#FF97FF",
          "pattern": {
           "shape": ""
          }
         },
         "name": "國立臺南大學附屬啟聰學校",
         "offsetgroup": "國立臺南大學附屬啟聰學校",
         "orientation": "v",
         "showlegend": true,
         "textposition": "auto",
         "type": "bar",
         "x": [
          "112/01/10",
          "112/01/19",
          "112/01/01",
          "112/01/03"
         ],
         "xaxis": "x",
         "y": [
          "14,000",
          "271,020",
          "7,114,000",
          "21,108,000"
         ],
         "yaxis": "y"
        },
        {
         "alignmentgroup": "True",
         "hovertemplate": "受款單位=國立台南高級商業職業學校<br>執行日期=%{x}<br>金額 =%{y}<extra></extra>",
         "legendgroup": "國立台南高級商業職業學校",
         "marker": {
          "color": "#FECB52",
          "pattern": {
           "shape": ""
          }
         },
         "name": "國立台南高級商業職業學校",
         "offsetgroup": "國立台南高級商業職業學校",
         "orientation": "v",
         "showlegend": true,
         "textposition": "auto",
         "type": "bar",
         "x": [
          "112/01/10",
          "112/01/17",
          "112/01/18",
          "112/01/01",
          "112/01/03"
         ],
         "xaxis": "x",
         "y": [
          "14,000",
          "1,500,000",
          "321,489",
          "14,000,000",
          "38,000,000"
         ],
         "yaxis": "y"
        },
        {
         "alignmentgroup": "True",
         "hovertemplate": "受款單位=國立新化高級工業職業學校<br>執行日期=%{x}<br>金額 =%{y}<extra></extra>",
         "legendgroup": "國立新化高級工業職業學校",
         "marker": {
          "color": "#636efa",
          "pattern": {
           "shape": ""
          }
         },
         "name": "國立新化高級工業職業學校",
         "offsetgroup": "國立新化高級工業職業學校",
         "orientation": "v",
         "showlegend": true,
         "textposition": "auto",
         "type": "bar",
         "x": [
          "112/01/10",
          "112/01/10",
          "112/01/13",
          "112/01/17",
          "112/01/01",
          "112/01/03"
         ],
         "xaxis": "x",
         "y": [
          "13,500",
          "14,000",
          "142,884",
          "405,243",
          "10,374,000",
          "27,901,000"
         ],
         "yaxis": "y"
        },
        {
         "alignmentgroup": "True",
         "hovertemplate": "受款單位=國立新營高級中學<br>執行日期=%{x}<br>金額 =%{y}<extra></extra>",
         "legendgroup": "國立新營高級中學",
         "marker": {
          "color": "#EF553B",
          "pattern": {
           "shape": ""
          }
         },
         "name": "國立新營高級中學",
         "offsetgroup": "國立新營高級中學",
         "orientation": "v",
         "showlegend": true,
         "textposition": "auto",
         "type": "bar",
         "x": [
          "112/01/10",
          "112/01/12",
          "112/01/13",
          "112/01/01",
          "112/01/03"
         ],
         "xaxis": "x",
         "y": [
          "14,000",
          "633,000",
          "412,776",
          "9,647,000",
          "28,459,000"
         ],
         "yaxis": "y"
        },
        {
         "alignmentgroup": "True",
         "hovertemplate": "受款單位=國立白河高級商工職業學校<br>執行日期=%{x}<br>金額 =%{y}<extra></extra>",
         "legendgroup": "國立白河高級商工職業學校",
         "marker": {
          "color": "#00cc96",
          "pattern": {
           "shape": ""
          }
         },
         "name": "國立白河高級商工職業學校",
         "offsetgroup": "國立白河高級商工職業學校",
         "orientation": "v",
         "showlegend": true,
         "textposition": "auto",
         "type": "bar",
         "x": [
          "112/01/10",
          "112/01/17",
          "112/01/18",
          "112/01/19",
          "112/01/01",
          "112/01/03"
         ],
         "xaxis": "x",
         "y": [
          "13,500",
          "900,000",
          "18,522",
          "602,939",
          "8,000,000",
          "20,495,000"
         ],
         "yaxis": "y"
        },
        {
         "alignmentgroup": "True",
         "hovertemplate": "受款單位=國立玉井高級工商職業學校<br>執行日期=%{x}<br>金額 =%{y}<extra></extra>",
         "legendgroup": "國立玉井高級工商職業學校",
         "marker": {
          "color": "#ab63fa",
          "pattern": {
           "shape": ""
          }
         },
         "name": "國立玉井高級工商職業學校",
         "offsetgroup": "國立玉井高級工商職業學校",
         "orientation": "v",
         "showlegend": true,
         "textposition": "auto",
         "type": "bar",
         "x": [
          "112/01/10",
          "112/01/13",
          "112/01/01",
          "112/01/03"
         ],
         "xaxis": "x",
         "y": [
          "12,000",
          "97,949",
          "7,622,000",
          "20,000,000"
         ],
         "yaxis": "y"
        },
        {
         "alignmentgroup": "True",
         "hovertemplate": "受款單位=國立台南高級工業職業學校<br>執行日期=%{x}<br>金額 =%{y}<extra></extra>",
         "legendgroup": "國立台南高級工業職業學校",
         "marker": {
          "color": "#FFA15A",
          "pattern": {
           "shape": ""
          }
         },
         "name": "國立台南高級工業職業學校",
         "offsetgroup": "國立台南高級工業職業學校",
         "orientation": "v",
         "showlegend": true,
         "textposition": "auto",
         "type": "bar",
         "x": [
          "112/01/10",
          "112/01/17",
          "112/01/17",
          "112/01/17",
          "112/01/19",
          "112/01/01",
          "112/01/03"
         ],
         "xaxis": "x",
         "y": [
          "24,000",
          "349,272",
          "2,000,000",
          "405,243",
          "590,000",
          "20,257,000",
          "55,715,000"
         ],
         "yaxis": "y"
        },
        {
         "alignmentgroup": "True",
         "hovertemplate": "受款單位=國立新營高級工業職業學校<br>執行日期=%{x}<br>金額 =%{y}<extra></extra>",
         "legendgroup": "國立新營高級工業職業學校",
         "marker": {
          "color": "#19d3f3",
          "pattern": {
           "shape": ""
          }
         },
         "name": "國立新營高級工業職業學校",
         "offsetgroup": "國立新營高級工業職業學校",
         "orientation": "v",
         "showlegend": true,
         "textposition": "auto",
         "type": "bar",
         "x": [
          "112/01/10",
          "112/01/13",
          "112/01/17",
          "112/01/17",
          "112/01/01",
          "112/01/03"
         ],
         "xaxis": "x",
         "y": [
          "12,000",
          "321,489",
          "100,000",
          "2,000,000",
          "11,439,000",
          "26,410,000"
         ],
         "yaxis": "y"
        },
        {
         "alignmentgroup": "True",
         "hovertemplate": "受款單位=國立岡山高級農工職業學校<br>執行日期=%{x}<br>金額 =%{y}<extra></extra>",
         "legendgroup": "國立岡山高級農工職業學校",
         "marker": {
          "color": "#FF6692",
          "pattern": {
           "shape": ""
          }
         },
         "name": "國立岡山高級農工職業學校",
         "offsetgroup": "國立岡山高級農工職業學校",
         "orientation": "v",
         "showlegend": true,
         "textposition": "auto",
         "type": "bar",
         "x": [
          "112/01/10",
          "112/01/19",
          "112/01/01",
          "112/01/03"
         ],
         "xaxis": "x",
         "y": [
          "13,500",
          "600,120",
          "15,000,000",
          "38,900,000"
         ],
         "yaxis": "y"
        },
        {
         "alignmentgroup": "True",
         "hovertemplate": "受款單位=國立新竹科學園區實驗高級中等學校<br>執行日期=%{x}<br>金額 =%{y}<extra></extra>",
         "legendgroup": "國立新竹科學園區實驗高級中等學校",
         "marker": {
          "color": "#B6E880",
          "pattern": {
           "shape": ""
          }
         },
         "name": "國立新竹科學園區實驗高級中等學校",
         "offsetgroup": "國立新竹科學園區實驗高級中等學校",
         "orientation": "v",
         "showlegend": true,
         "textposition": "auto",
         "type": "bar",
         "x": [
          "112/01/10",
          "112/01/12",
          "112/01/13",
          "112/01/13",
          "112/01/13",
          "112/01/17"
         ],
         "xaxis": "x",
         "y": [
          "12,000",
          "362,058",
          "500,000",
          "500,000",
          "130,977",
          "100,000"
         ],
         "yaxis": "y"
        },
        {
         "alignmentgroup": "True",
         "hovertemplate": "受款單位=國立恆春高級工商職業學校<br>執行日期=%{x}<br>金額 =%{y}<extra></extra>",
         "legendgroup": "國立恆春高級工商職業學校",
         "marker": {
          "color": "#FF97FF",
          "pattern": {
           "shape": ""
          }
         },
         "name": "國立恆春高級工商職業學校",
         "offsetgroup": "國立恆春高級工商職業學校",
         "orientation": "v",
         "showlegend": true,
         "textposition": "auto",
         "type": "bar",
         "x": [
          "112/01/10",
          "112/01/13",
          "112/01/01",
          "112/01/03"
         ],
         "xaxis": "x",
         "y": [
          "14,000",
          "307,597",
          "9,015,000",
          "19,833,000"
         ],
         "yaxis": "y"
        },
        {
         "alignmentgroup": "True",
         "hovertemplate": "受款單位=國立東港高級海事水產職業學校<br>執行日期=%{x}<br>金額 =%{y}<extra></extra>",
         "legendgroup": "國立東港高級海事水產職業學校",
         "marker": {
          "color": "#FECB52",
          "pattern": {
           "shape": ""
          }
         },
         "name": "國立東港高級海事水產職業學校",
         "offsetgroup": "國立東港高級海事水產職業學校",
         "orientation": "v",
         "showlegend": true,
         "textposition": "auto",
         "type": "bar",
         "x": [
          "112/01/10",
          "112/01/16",
          "112/01/17",
          "112/01/17",
          "112/01/01",
          "112/01/03"
         ],
         "xaxis": "x",
         "y": [
          "13,500",
          "2,644,548",
          "87,318",
          "405,243",
          "9,116,000",
          "24,790,000"
         ],
         "yaxis": "y"
        },
        {
         "alignmentgroup": "True",
         "hovertemplate": "受款單位=國立內埔高級農工職業學校<br>執行日期=%{x}<br>金額 =%{y}<extra></extra>",
         "legendgroup": "國立內埔高級農工職業學校",
         "marker": {
          "color": "#636efa",
          "pattern": {
           "shape": ""
          }
         },
         "name": "國立內埔高級農工職業學校",
         "offsetgroup": "國立內埔高級農工職業學校",
         "orientation": "v",
         "showlegend": true,
         "textposition": "auto",
         "type": "bar",
         "x": [
          "112/01/10",
          "112/01/18",
          "112/01/19",
          "112/01/01",
          "112/01/03"
         ],
         "xaxis": "x",
         "y": [
          "12,000",
          "130,536",
          "2,800,000",
          "9,700,000",
          "25,656,000"
         ],
         "yaxis": "y"
        },
        {
         "alignmentgroup": "True",
         "hovertemplate": "受款單位=國立金門高級農工職業學校<br>執行日期=%{x}<br>金額 =%{y}<extra></extra>",
         "legendgroup": "國立金門高級農工職業學校",
         "marker": {
          "color": "#EF553B",
          "pattern": {
           "shape": ""
          }
         },
         "name": "國立金門高級農工職業學校",
         "offsetgroup": "國立金門高級農工職業學校",
         "orientation": "v",
         "showlegend": true,
         "textposition": "auto",
         "type": "bar",
         "x": [
          "112/01/12",
          "112/01/12",
          "112/01/17",
          "112/01/17",
          "112/01/19",
          "112/01/01",
          "112/01/03"
         ],
         "xaxis": "x",
         "y": [
          "148,000",
          "600,000",
          "43,218",
          "405,243",
          "24,000",
          "11,096,000",
          "30,328,000"
         ],
         "yaxis": "y"
        },
        {
         "alignmentgroup": "True",
         "hovertemplate": "受款單位=國立高雄師範大學附屬高級中學<br>執行日期=%{x}<br>金額 =%{y}<extra></extra>",
         "legendgroup": "國立高雄師範大學附屬高級中學",
         "marker": {
          "color": "#00cc96",
          "pattern": {
           "shape": ""
          }
         },
         "name": "國立高雄師範大學附屬高級中學",
         "offsetgroup": "國立高雄師範大學附屬高級中學",
         "orientation": "v",
         "showlegend": true,
         "textposition": "auto",
         "type": "bar",
         "x": [
          "112/01/12",
          "112/01/13",
          "112/01/01",
          "112/01/03"
         ],
         "xaxis": "x",
         "y": [
          "939,000",
          "333,963",
          "9,300,000",
          "25,861,000"
         ],
         "yaxis": "y"
        },
        {
         "alignmentgroup": "True",
         "hovertemplate": "受款單位=國立花蓮高級中學<br>執行日期=%{x}<br>金額 =%{y}<extra></extra>",
         "legendgroup": "國立花蓮高級中學",
         "marker": {
          "color": "#ab63fa",
          "pattern": {
           "shape": ""
          }
         },
         "name": "國立花蓮高級中學",
         "offsetgroup": "國立花蓮高級中學",
         "orientation": "v",
         "showlegend": true,
         "textposition": "auto",
         "type": "bar",
         "x": [
          "112/01/12",
          "112/01/13",
          "112/01/01",
          "112/01/03"
         ],
         "xaxis": "x",
         "y": [
          "660,000",
          "218,295",
          "8,372,000",
          "24,128,000"
         ],
         "yaxis": "y"
        },
        {
         "alignmentgroup": "True",
         "hovertemplate": "受款單位=國立政治大學附屬高級中學<br>執行日期=%{x}<br>金額 =%{y}<extra></extra>",
         "legendgroup": "國立政治大學附屬高級中學",
         "marker": {
          "color": "#FFA15A",
          "pattern": {
           "shape": ""
          }
         },
         "name": "國立政治大學附屬高級中學",
         "offsetgroup": "國立政治大學附屬高級中學",
         "orientation": "v",
         "showlegend": true,
         "textposition": "auto",
         "type": "bar",
         "x": [
          "112/01/12",
          "112/01/18",
          "112/01/01",
          "112/01/03"
         ],
         "xaxis": "x",
         "y": [
          "725,000",
          "20,000",
          "7,500,000",
          "20,600,000"
         ],
         "yaxis": "y"
        },
        {
         "alignmentgroup": "True",
         "hovertemplate": "受款單位=國立台東專科學校校務基金<br>執行日期=%{x}<br>金額 =%{y}<extra></extra>",
         "legendgroup": "國立台東專科學校校務基金",
         "marker": {
          "color": "#19d3f3",
          "pattern": {
           "shape": ""
          }
         },
         "name": "國立台東專科學校校務基金",
         "offsetgroup": "國立台東專科學校校務基金",
         "orientation": "v",
         "showlegend": true,
         "textposition": "auto",
         "type": "bar",
         "x": [
          "112/01/12",
          "112/01/12",
          "112/01/17",
          "112/01/19"
         ],
         "xaxis": "x",
         "y": [
          "405,243",
          "1,046,237",
          "45,864",
          "14,000"
         ],
         "yaxis": "y"
        },
        {
         "alignmentgroup": "True",
         "hovertemplate": "受款單位=國立新竹特殊教育學校<br>執行日期=%{x}<br>金額 =%{y}<extra></extra>",
         "legendgroup": "國立新竹特殊教育學校",
         "marker": {
          "color": "#FF6692",
          "pattern": {
           "shape": ""
          }
         },
         "name": "國立新竹特殊教育學校",
         "offsetgroup": "國立新竹特殊教育學校",
         "orientation": "v",
         "showlegend": true,
         "textposition": "auto",
         "type": "bar",
         "x": [
          "112/01/12",
          "112/01/16",
          "112/01/01",
          "112/01/03"
         ],
         "xaxis": "x",
         "y": [
          "18,444",
          "1,045,117",
          "5,524,000",
          "16,150,000"
         ],
         "yaxis": "y"
        },
        {
         "alignmentgroup": "True",
         "hovertemplate": "受款單位=國立南科國際實驗高級中學<br>執行日期=%{x}<br>金額 =%{y}<extra></extra>",
         "legendgroup": "國立南科國際實驗高級中學",
         "marker": {
          "color": "#B6E880",
          "pattern": {
           "shape": ""
          }
         },
         "name": "國立南科國際實驗高級中學",
         "offsetgroup": "國立南科國際實驗高級中學",
         "orientation": "v",
         "showlegend": true,
         "textposition": "auto",
         "type": "bar",
         "x": [
          "112/01/13",
          "112/01/13",
          "112/01/18"
         ],
         "xaxis": "x",
         "y": [
          "695,000",
          "154,791",
          "40,000"
         ],
         "yaxis": "y"
        },
        {
         "alignmentgroup": "True",
         "hovertemplate": "受款單位=國立旗美高級中學<br>執行日期=%{x}<br>金額 =%{y}<extra></extra>",
         "legendgroup": "國立旗美高級中學",
         "marker": {
          "color": "#FF97FF",
          "pattern": {
           "shape": ""
          }
         },
         "name": "國立旗美高級中學",
         "offsetgroup": "國立旗美高級中學",
         "orientation": "v",
         "showlegend": true,
         "textposition": "auto",
         "type": "bar",
         "x": [
          "112/01/13",
          "112/01/16",
          "112/01/16",
          "112/01/01",
          "112/01/03"
         ],
         "xaxis": "x",
         "y": [
          "536,000",
          "3,298,020",
          "285,768",
          "6,400,000",
          "18,826,000"
         ],
         "yaxis": "y"
        },
        {
         "alignmentgroup": "True",
         "hovertemplate": "受款單位=國立金門高級中學<br>執行日期=%{x}<br>金額 =%{y}<extra></extra>",
         "legendgroup": "國立金門高級中學",
         "marker": {
          "color": "#FECB52",
          "pattern": {
           "shape": ""
          }
         },
         "name": "國立金門高級中學",
         "offsetgroup": "國立金門高級中學",
         "orientation": "v",
         "showlegend": true,
         "textposition": "auto",
         "type": "bar",
         "x": [
          "112/01/13",
          "112/01/16",
          "112/01/17",
          "112/01/01",
          "112/01/03"
         ],
         "xaxis": "x",
         "y": [
          "499,000",
          "557,255",
          "3,000,000",
          "8,790,000",
          "22,727,000"
         ],
         "yaxis": "y"
        },
        {
         "alignmentgroup": "True",
         "hovertemplate": "受款單位=國立北門高級農工職業學校<br>執行日期=%{x}<br>金額 =%{y}<extra></extra>",
         "legendgroup": "國立北門高級農工職業學校",
         "marker": {
          "color": "#636efa",
          "pattern": {
           "shape": ""
          }
         },
         "name": "國立北門高級農工職業學校",
         "offsetgroup": "國立北門高級農工職業學校",
         "orientation": "v",
         "showlegend": true,
         "textposition": "auto",
         "type": "bar",
         "x": [
          "112/01/13",
          "112/01/16",
          "112/01/16",
          "112/01/18",
          "112/01/01",
          "112/01/03"
         ],
         "xaxis": "x",
         "y": [
          "123,795",
          "4,173,444",
          "2,000,000",
          "800,000",
          "13,670,000",
          "36,710,000"
         ],
         "yaxis": "y"
        },
        {
         "alignmentgroup": "True",
         "hovertemplate": "受款單位=國立中科實驗高級中學<br>執行日期=%{x}<br>金額 =%{y}<extra></extra>",
         "legendgroup": "國立中科實驗高級中學",
         "marker": {
          "color": "#EF553B",
          "pattern": {
           "shape": ""
          }
         },
         "name": "國立中科實驗高級中學",
         "offsetgroup": "國立中科實驗高級中學",
         "orientation": "v",
         "showlegend": true,
         "textposition": "auto",
         "type": "bar",
         "x": [
          "112/01/13"
         ],
         "xaxis": "x",
         "y": [
          "217,444"
         ],
         "yaxis": "y"
        },
        {
         "alignmentgroup": "True",
         "hovertemplate": "受款單位=國立永靖高級工業職業學校<br>執行日期=%{x}<br>金額 =%{y}<extra></extra>",
         "legendgroup": "國立永靖高級工業職業學校",
         "marker": {
          "color": "#00cc96",
          "pattern": {
           "shape": ""
          }
         },
         "name": "國立永靖高級工業職業學校",
         "offsetgroup": "國立永靖高級工業職業學校",
         "orientation": "v",
         "showlegend": true,
         "textposition": "auto",
         "type": "bar",
         "x": [
          "112/01/13",
          "112/01/16",
          "112/01/01",
          "112/01/03"
         ],
         "xaxis": "x",
         "y": [
          "111,132",
          "550,000",
          "10,500,000",
          "28,000,000"
         ],
         "yaxis": "y"
        },
        {
         "alignmentgroup": "True",
         "hovertemplate": "受款單位=國立北港高級農工職業學校<br>執行日期=%{x}<br>金額 =%{y}<extra></extra>",
         "legendgroup": "國立北港高級農工職業學校",
         "marker": {
          "color": "#ab63fa",
          "pattern": {
           "shape": ""
          }
         },
         "name": "國立北港高級農工職業學校",
         "offsetgroup": "國立北港高級農工職業學校",
         "orientation": "v",
         "showlegend": true,
         "textposition": "auto",
         "type": "bar",
         "x": [
          "112/01/13",
          "112/01/17",
          "112/01/19",
          "112/01/19",
          "112/01/01",
          "112/01/03"
         ],
         "xaxis": "x",
         "y": [
          "313,551",
          "405,243",
          "3,000,000",
          "13,500",
          "8,600,000",
          "22,400,000"
         ],
         "yaxis": "y"
        },
        {
         "alignmentgroup": "True",
         "hovertemplate": "受款單位=國立臺南大學附設實小<br>執行日期=%{x}<br>金額 =%{y}<extra></extra>",
         "legendgroup": "國立臺南大學附設實小",
         "marker": {
          "color": "#FFA15A",
          "pattern": {
           "shape": ""
          }
         },
         "name": "國立臺南大學附設實小",
         "offsetgroup": "國立臺南大學附設實小",
         "orientation": "v",
         "showlegend": true,
         "textposition": "auto",
         "type": "bar",
         "x": [
          "112/01/16"
         ],
         "xaxis": "x",
         "y": [
          "20,000"
         ],
         "yaxis": "y"
        },
        {
         "alignmentgroup": "True",
         "hovertemplate": "受款單位=國立彰化特殊教育學校<br>執行日期=%{x}<br>金額 =%{y}<extra></extra>",
         "legendgroup": "國立彰化特殊教育學校",
         "marker": {
          "color": "#19d3f3",
          "pattern": {
           "shape": ""
          }
         },
         "name": "國立彰化特殊教育學校",
         "offsetgroup": "國立彰化特殊教育學校",
         "orientation": "v",
         "showlegend": true,
         "textposition": "auto",
         "type": "bar",
         "x": [
          "112/01/16",
          "112/01/01",
          "112/01/03"
         ],
         "xaxis": "x",
         "y": [
          "801,656",
          "10,050,000",
          "28,422,000"
         ],
         "yaxis": "y"
        },
        {
         "alignmentgroup": "True",
         "hovertemplate": "受款單位=國立基隆特殊教育學校<br>執行日期=%{x}<br>金額 =%{y}<extra></extra>",
         "legendgroup": "國立基隆特殊教育學校",
         "marker": {
          "color": "#FF6692",
          "pattern": {
           "shape": ""
          }
         },
         "name": "國立基隆特殊教育學校",
         "offsetgroup": "國立基隆特殊教育學校",
         "orientation": "v",
         "showlegend": true,
         "textposition": "auto",
         "type": "bar",
         "x": [
          "112/01/17",
          "112/01/01",
          "112/01/03"
         ],
         "xaxis": "x",
         "y": [
          "357,950",
          "4,800,000",
          "11,000,000"
         ],
         "yaxis": "y"
        },
        {
         "alignmentgroup": "True",
         "hovertemplate": "受款單位=國立雲林特殊教育學校<br>執行日期=%{x}<br>金額 =%{y}<extra></extra>",
         "legendgroup": "國立雲林特殊教育學校",
         "marker": {
          "color": "#B6E880",
          "pattern": {
           "shape": ""
          }
         },
         "name": "國立雲林特殊教育學校",
         "offsetgroup": "國立雲林特殊教育學校",
         "orientation": "v",
         "showlegend": true,
         "textposition": "auto",
         "type": "bar",
         "x": [
          "112/01/17",
          "112/01/01",
          "112/01/03"
         ],
         "xaxis": "x",
         "y": [
          "1,127,669",
          "5,819,000",
          "17,253,000"
         ],
         "yaxis": "y"
        },
        {
         "alignmentgroup": "True",
         "hovertemplate": "受款單位=國立屏東特殊教育學校<br>執行日期=%{x}<br>金額 =%{y}<extra></extra>",
         "legendgroup": "國立屏東特殊教育學校",
         "marker": {
          "color": "#FF97FF",
          "pattern": {
           "shape": ""
          }
         },
         "name": "國立屏東特殊教育學校",
         "offsetgroup": "國立屏東特殊教育學校",
         "orientation": "v",
         "showlegend": true,
         "textposition": "auto",
         "type": "bar",
         "x": [
          "112/01/17",
          "112/01/01",
          "112/01/03"
         ],
         "xaxis": "x",
         "y": [
          "392,943",
          "4,500,000",
          "10,095,000"
         ],
         "yaxis": "y"
        },
        {
         "alignmentgroup": "True",
         "hovertemplate": "受款單位=國立臺東大學附屬特殊教育學校<br>執行日期=%{x}<br>金額 =%{y}<extra></extra>",
         "legendgroup": "國立臺東大學附屬特殊教育學校",
         "marker": {
          "color": "#FECB52",
          "pattern": {
           "shape": ""
          }
         },
         "name": "國立臺東大學附屬特殊教育學校",
         "offsetgroup": "國立臺東大學附屬特殊教育學校",
         "orientation": "v",
         "showlegend": true,
         "textposition": "auto",
         "type": "bar",
         "x": [
          "112/01/17",
          "112/01/01",
          "112/01/03"
         ],
         "xaxis": "x",
         "y": [
          "258,809",
          "3,628,000",
          "10,869,000"
         ],
         "yaxis": "y"
        },
        {
         "alignmentgroup": "True",
         "hovertemplate": "受款單位=國立關山高級工商職業學校<br>執行日期=%{x}<br>金額 =%{y}<extra></extra>",
         "legendgroup": "國立關山高級工商職業學校",
         "marker": {
          "color": "#636efa",
          "pattern": {
           "shape": ""
          }
         },
         "name": "國立關山高級工商職業學校",
         "offsetgroup": "國立關山高級工商職業學校",
         "orientation": "v",
         "showlegend": true,
         "textposition": "auto",
         "type": "bar",
         "x": [
          "112/01/17",
          "112/01/01",
          "112/01/03"
         ],
         "xaxis": "x",
         "y": [
          "2,200,000",
          "6,200,000",
          "18,278,000"
         ],
         "yaxis": "y"
        },
        {
         "alignmentgroup": "True",
         "hovertemplate": "受款單位=教育部<br>執行日期=%{x}<br>金額 =%{y}<extra></extra>",
         "legendgroup": "教育部",
         "marker": {
          "color": "#EF553B",
          "pattern": {
           "shape": ""
          }
         },
         "name": "教育部",
         "offsetgroup": "教育部",
         "orientation": "v",
         "showlegend": true,
         "textposition": "auto",
         "type": "bar",
         "x": [
          "112/01/17"
         ],
         "xaxis": "x",
         "y": [
          "3,000,000"
         ],
         "yaxis": "y"
        },
        {
         "alignmentgroup": "True",
         "hovertemplate": "受款單位=國立屏東大學附設實驗國民小學<br>執行日期=%{x}<br>金額 =%{y}<extra></extra>",
         "legendgroup": "國立屏東大學附設實驗國民小學",
         "marker": {
          "color": "#00cc96",
          "pattern": {
           "shape": ""
          }
         },
         "name": "國立屏東大學附設實驗國民小學",
         "offsetgroup": "國立屏東大學附設實驗國民小學",
         "orientation": "v",
         "showlegend": true,
         "textposition": "auto",
         "type": "bar",
         "x": [
          "112/01/18"
         ],
         "xaxis": "x",
         "y": [
          "20,000"
         ],
         "yaxis": "y"
        },
        {
         "alignmentgroup": "True",
         "hovertemplate": "受款單位=國立臺灣戲曲學院<br>執行日期=%{x}<br>金額 =%{y}<extra></extra>",
         "legendgroup": "國立臺灣戲曲學院",
         "marker": {
          "color": "#ab63fa",
          "pattern": {
           "shape": ""
          }
         },
         "name": "國立臺灣戲曲學院",
         "offsetgroup": "國立臺灣戲曲學院",
         "orientation": "v",
         "showlegend": true,
         "textposition": "auto",
         "type": "bar",
         "x": [
          "112/01/18"
         ],
         "xaxis": "x",
         "y": [
          "20,000"
         ],
         "yaxis": "y"
        },
        {
         "alignmentgroup": "True",
         "hovertemplate": "受款單位=國家科學及技術委員會南部科學園區管理局<br>執行日期=%{x}<br>金額 =%{y}<extra></extra>",
         "legendgroup": "國家科學及技術委員會南部科學園區管理局",
         "marker": {
          "color": "#FFA15A",
          "pattern": {
           "shape": ""
          }
         },
         "name": "國家科學及技術委員會南部科學園區管理局",
         "offsetgroup": "國家科學及技術委員會南部科學園區管理局",
         "orientation": "v",
         "showlegend": true,
         "textposition": "auto",
         "type": "bar",
         "x": [
          "112/01/18"
         ],
         "xaxis": "x",
         "y": [
          "200,000"
         ],
         "yaxis": "y"
        },
        {
         "alignmentgroup": "True",
         "hovertemplate": "受款單位=國立嘉義特教學校<br>執行日期=%{x}<br>金額 =%{y}<extra></extra>",
         "legendgroup": "國立嘉義特教學校",
         "marker": {
          "color": "#19d3f3",
          "pattern": {
           "shape": ""
          }
         },
         "name": "國立嘉義特教學校",
         "offsetgroup": "國立嘉義特教學校",
         "orientation": "v",
         "showlegend": true,
         "textposition": "auto",
         "type": "bar",
         "x": [
          "112/01/19",
          "112/01/01",
          "112/01/03"
         ],
         "xaxis": "x",
         "y": [
          "1,126,779",
          "7,505,000",
          "22,226,000"
         ],
         "yaxis": "y"
        },
        {
         "alignmentgroup": "True",
         "hovertemplate": "受款單位=國立花蓮特殊教育學校<br>執行日期=%{x}<br>金額 =%{y}<extra></extra>",
         "legendgroup": "國立花蓮特殊教育學校",
         "marker": {
          "color": "#FF6692",
          "pattern": {
           "shape": ""
          }
         },
         "name": "國立花蓮特殊教育學校",
         "offsetgroup": "國立花蓮特殊教育學校",
         "orientation": "v",
         "showlegend": true,
         "textposition": "auto",
         "type": "bar",
         "x": [
          "112/01/19",
          "112/01/01",
          "112/01/03"
         ],
         "xaxis": "x",
         "y": [
          "711,556",
          "5,250,000",
          "13,000,000"
         ],
         "yaxis": "y"
        },
        {
         "alignmentgroup": "True",
         "hovertemplate": "受款單位=國立成功大學<br>執行日期=%{x}<br>金額 =%{y}<extra></extra>",
         "legendgroup": "國立成功大學",
         "marker": {
          "color": "#B6E880",
          "pattern": {
           "shape": ""
          }
         },
         "name": "國立成功大學",
         "offsetgroup": "國立成功大學",
         "orientation": "v",
         "showlegend": true,
         "textposition": "auto",
         "type": "bar",
         "x": [
          "112/01/19"
         ],
         "xaxis": "x",
         "y": [
          "12,000"
         ],
         "yaxis": "y"
        },
        {
         "alignmentgroup": "True",
         "hovertemplate": "受款單位=國立光復高級商工職業學校<br>執行日期=%{x}<br>金額 =%{y}<extra></extra>",
         "legendgroup": "國立光復高級商工職業學校",
         "marker": {
          "color": "#FF97FF",
          "pattern": {
           "shape": ""
          }
         },
         "name": "國立光復高級商工職業學校",
         "offsetgroup": "國立光復高級商工職業學校",
         "orientation": "v",
         "showlegend": true,
         "textposition": "auto",
         "type": "bar",
         "x": [
          "112/01/01",
          "112/01/03"
         ],
         "xaxis": "x",
         "y": [
          "5,200,000",
          "13,500,000"
         ],
         "yaxis": "y"
        },
        {
         "alignmentgroup": "True",
         "hovertemplate": "受款單位=國立宜蘭特殊教育學校<br>執行日期=%{x}<br>金額 =%{y}<extra></extra>",
         "legendgroup": "國立宜蘭特殊教育學校",
         "marker": {
          "color": "#FECB52",
          "pattern": {
           "shape": ""
          }
         },
         "name": "國立宜蘭特殊教育學校",
         "offsetgroup": "國立宜蘭特殊教育學校",
         "orientation": "v",
         "showlegend": true,
         "textposition": "auto",
         "type": "bar",
         "x": [
          "112/01/01",
          "112/01/03"
         ],
         "xaxis": "x",
         "y": [
          "4,500,000",
          "12,512,000"
         ],
         "yaxis": "y"
        },
        {
         "alignmentgroup": "True",
         "hovertemplate": "受款單位=國立苗栗特殊教育學校<br>執行日期=%{x}<br>金額 =%{y}<extra></extra>",
         "legendgroup": "國立苗栗特殊教育學校",
         "marker": {
          "color": "#636efa",
          "pattern": {
           "shape": ""
          }
         },
         "name": "國立苗栗特殊教育學校",
         "offsetgroup": "國立苗栗特殊教育學校",
         "orientation": "v",
         "showlegend": true,
         "textposition": "auto",
         "type": "bar",
         "x": [
          "112/01/01",
          "112/01/03"
         ],
         "xaxis": "x",
         "y": [
          "4,637,000",
          "10,030,000"
         ],
         "yaxis": "y"
        },
        {
         "alignmentgroup": "True",
         "hovertemplate": "受款單位=國立南投特殊教育學校<br>執行日期=%{x}<br>金額 =%{y}<extra></extra>",
         "legendgroup": "國立南投特殊教育學校",
         "marker": {
          "color": "#EF553B",
          "pattern": {
           "shape": ""
          }
         },
         "name": "國立南投特殊教育學校",
         "offsetgroup": "國立南投特殊教育學校",
         "orientation": "v",
         "showlegend": true,
         "textposition": "auto",
         "type": "bar",
         "x": [
          "112/01/01",
          "112/01/03"
         ],
         "xaxis": "x",
         "y": [
          "5,000,000",
          "10,460,000"
         ],
         "yaxis": "y"
        }
       ],
       "layout": {
        "barmode": "group",
        "legend": {
         "title": {
          "text": "受款單位"
         },
         "tracegroupgap": 0
        },
        "margin": {
         "t": 60
        },
        "template": {
         "data": {
          "bar": [
           {
            "error_x": {
             "color": "#2a3f5f"
            },
            "error_y": {
             "color": "#2a3f5f"
            },
            "marker": {
             "line": {
              "color": "#E5ECF6",
              "width": 0.5
             },
             "pattern": {
              "fillmode": "overlay",
              "size": 10,
              "solidity": 0.2
             }
            },
            "type": "bar"
           }
          ],
          "barpolar": [
           {
            "marker": {
             "line": {
              "color": "#E5ECF6",
              "width": 0.5
             },
             "pattern": {
              "fillmode": "overlay",
              "size": 10,
              "solidity": 0.2
             }
            },
            "type": "barpolar"
           }
          ],
          "carpet": [
           {
            "aaxis": {
             "endlinecolor": "#2a3f5f",
             "gridcolor": "white",
             "linecolor": "white",
             "minorgridcolor": "white",
             "startlinecolor": "#2a3f5f"
            },
            "baxis": {
             "endlinecolor": "#2a3f5f",
             "gridcolor": "white",
             "linecolor": "white",
             "minorgridcolor": "white",
             "startlinecolor": "#2a3f5f"
            },
            "type": "carpet"
           }
          ],
          "choropleth": [
           {
            "colorbar": {
             "outlinewidth": 0,
             "ticks": ""
            },
            "type": "choropleth"
           }
          ],
          "contour": [
           {
            "colorbar": {
             "outlinewidth": 0,
             "ticks": ""
            },
            "colorscale": [
             [
              0,
              "#0d0887"
             ],
             [
              0.1111111111111111,
              "#46039f"
             ],
             [
              0.2222222222222222,
              "#7201a8"
             ],
             [
              0.3333333333333333,
              "#9c179e"
             ],
             [
              0.4444444444444444,
              "#bd3786"
             ],
             [
              0.5555555555555556,
              "#d8576b"
             ],
             [
              0.6666666666666666,
              "#ed7953"
             ],
             [
              0.7777777777777778,
              "#fb9f3a"
             ],
             [
              0.8888888888888888,
              "#fdca26"
             ],
             [
              1,
              "#f0f921"
             ]
            ],
            "type": "contour"
           }
          ],
          "contourcarpet": [
           {
            "colorbar": {
             "outlinewidth": 0,
             "ticks": ""
            },
            "type": "contourcarpet"
           }
          ],
          "heatmap": [
           {
            "colorbar": {
             "outlinewidth": 0,
             "ticks": ""
            },
            "colorscale": [
             [
              0,
              "#0d0887"
             ],
             [
              0.1111111111111111,
              "#46039f"
             ],
             [
              0.2222222222222222,
              "#7201a8"
             ],
             [
              0.3333333333333333,
              "#9c179e"
             ],
             [
              0.4444444444444444,
              "#bd3786"
             ],
             [
              0.5555555555555556,
              "#d8576b"
             ],
             [
              0.6666666666666666,
              "#ed7953"
             ],
             [
              0.7777777777777778,
              "#fb9f3a"
             ],
             [
              0.8888888888888888,
              "#fdca26"
             ],
             [
              1,
              "#f0f921"
             ]
            ],
            "type": "heatmap"
           }
          ],
          "heatmapgl": [
           {
            "colorbar": {
             "outlinewidth": 0,
             "ticks": ""
            },
            "colorscale": [
             [
              0,
              "#0d0887"
             ],
             [
              0.1111111111111111,
              "#46039f"
             ],
             [
              0.2222222222222222,
              "#7201a8"
             ],
             [
              0.3333333333333333,
              "#9c179e"
             ],
             [
              0.4444444444444444,
              "#bd3786"
             ],
             [
              0.5555555555555556,
              "#d8576b"
             ],
             [
              0.6666666666666666,
              "#ed7953"
             ],
             [
              0.7777777777777778,
              "#fb9f3a"
             ],
             [
              0.8888888888888888,
              "#fdca26"
             ],
             [
              1,
              "#f0f921"
             ]
            ],
            "type": "heatmapgl"
           }
          ],
          "histogram": [
           {
            "marker": {
             "pattern": {
              "fillmode": "overlay",
              "size": 10,
              "solidity": 0.2
             }
            },
            "type": "histogram"
           }
          ],
          "histogram2d": [
           {
            "colorbar": {
             "outlinewidth": 0,
             "ticks": ""
            },
            "colorscale": [
             [
              0,
              "#0d0887"
             ],
             [
              0.1111111111111111,
              "#46039f"
             ],
             [
              0.2222222222222222,
              "#7201a8"
             ],
             [
              0.3333333333333333,
              "#9c179e"
             ],
             [
              0.4444444444444444,
              "#bd3786"
             ],
             [
              0.5555555555555556,
              "#d8576b"
             ],
             [
              0.6666666666666666,
              "#ed7953"
             ],
             [
              0.7777777777777778,
              "#fb9f3a"
             ],
             [
              0.8888888888888888,
              "#fdca26"
             ],
             [
              1,
              "#f0f921"
             ]
            ],
            "type": "histogram2d"
           }
          ],
          "histogram2dcontour": [
           {
            "colorbar": {
             "outlinewidth": 0,
             "ticks": ""
            },
            "colorscale": [
             [
              0,
              "#0d0887"
             ],
             [
              0.1111111111111111,
              "#46039f"
             ],
             [
              0.2222222222222222,
              "#7201a8"
             ],
             [
              0.3333333333333333,
              "#9c179e"
             ],
             [
              0.4444444444444444,
              "#bd3786"
             ],
             [
              0.5555555555555556,
              "#d8576b"
             ],
             [
              0.6666666666666666,
              "#ed7953"
             ],
             [
              0.7777777777777778,
              "#fb9f3a"
             ],
             [
              0.8888888888888888,
              "#fdca26"
             ],
             [
              1,
              "#f0f921"
             ]
            ],
            "type": "histogram2dcontour"
           }
          ],
          "mesh3d": [
           {
            "colorbar": {
             "outlinewidth": 0,
             "ticks": ""
            },
            "type": "mesh3d"
           }
          ],
          "parcoords": [
           {
            "line": {
             "colorbar": {
              "outlinewidth": 0,
              "ticks": ""
             }
            },
            "type": "parcoords"
           }
          ],
          "pie": [
           {
            "automargin": true,
            "type": "pie"
           }
          ],
          "scatter": [
           {
            "fillpattern": {
             "fillmode": "overlay",
             "size": 10,
             "solidity": 0.2
            },
            "type": "scatter"
           }
          ],
          "scatter3d": [
           {
            "line": {
             "colorbar": {
              "outlinewidth": 0,
              "ticks": ""
             }
            },
            "marker": {
             "colorbar": {
              "outlinewidth": 0,
              "ticks": ""
             }
            },
            "type": "scatter3d"
           }
          ],
          "scattercarpet": [
           {
            "marker": {
             "colorbar": {
              "outlinewidth": 0,
              "ticks": ""
             }
            },
            "type": "scattercarpet"
           }
          ],
          "scattergeo": [
           {
            "marker": {
             "colorbar": {
              "outlinewidth": 0,
              "ticks": ""
             }
            },
            "type": "scattergeo"
           }
          ],
          "scattergl": [
           {
            "marker": {
             "colorbar": {
              "outlinewidth": 0,
              "ticks": ""
             }
            },
            "type": "scattergl"
           }
          ],
          "scattermapbox": [
           {
            "marker": {
             "colorbar": {
              "outlinewidth": 0,
              "ticks": ""
             }
            },
            "type": "scattermapbox"
           }
          ],
          "scatterpolar": [
           {
            "marker": {
             "colorbar": {
              "outlinewidth": 0,
              "ticks": ""
             }
            },
            "type": "scatterpolar"
           }
          ],
          "scatterpolargl": [
           {
            "marker": {
             "colorbar": {
              "outlinewidth": 0,
              "ticks": ""
             }
            },
            "type": "scatterpolargl"
           }
          ],
          "scatterternary": [
           {
            "marker": {
             "colorbar": {
              "outlinewidth": 0,
              "ticks": ""
             }
            },
            "type": "scatterternary"
           }
          ],
          "surface": [
           {
            "colorbar": {
             "outlinewidth": 0,
             "ticks": ""
            },
            "colorscale": [
             [
              0,
              "#0d0887"
             ],
             [
              0.1111111111111111,
              "#46039f"
             ],
             [
              0.2222222222222222,
              "#7201a8"
             ],
             [
              0.3333333333333333,
              "#9c179e"
             ],
             [
              0.4444444444444444,
              "#bd3786"
             ],
             [
              0.5555555555555556,
              "#d8576b"
             ],
             [
              0.6666666666666666,
              "#ed7953"
             ],
             [
              0.7777777777777778,
              "#fb9f3a"
             ],
             [
              0.8888888888888888,
              "#fdca26"
             ],
             [
              1,
              "#f0f921"
             ]
            ],
            "type": "surface"
           }
          ],
          "table": [
           {
            "cells": {
             "fill": {
              "color": "#EBF0F8"
             },
             "line": {
              "color": "white"
             }
            },
            "header": {
             "fill": {
              "color": "#C8D4E3"
             },
             "line": {
              "color": "white"
             }
            },
            "type": "table"
           }
          ]
         },
         "layout": {
          "annotationdefaults": {
           "arrowcolor": "#2a3f5f",
           "arrowhead": 0,
           "arrowwidth": 1
          },
          "autotypenumbers": "strict",
          "coloraxis": {
           "colorbar": {
            "outlinewidth": 0,
            "ticks": ""
           }
          },
          "colorscale": {
           "diverging": [
            [
             0,
             "#8e0152"
            ],
            [
             0.1,
             "#c51b7d"
            ],
            [
             0.2,
             "#de77ae"
            ],
            [
             0.3,
             "#f1b6da"
            ],
            [
             0.4,
             "#fde0ef"
            ],
            [
             0.5,
             "#f7f7f7"
            ],
            [
             0.6,
             "#e6f5d0"
            ],
            [
             0.7,
             "#b8e186"
            ],
            [
             0.8,
             "#7fbc41"
            ],
            [
             0.9,
             "#4d9221"
            ],
            [
             1,
             "#276419"
            ]
           ],
           "sequential": [
            [
             0,
             "#0d0887"
            ],
            [
             0.1111111111111111,
             "#46039f"
            ],
            [
             0.2222222222222222,
             "#7201a8"
            ],
            [
             0.3333333333333333,
             "#9c179e"
            ],
            [
             0.4444444444444444,
             "#bd3786"
            ],
            [
             0.5555555555555556,
             "#d8576b"
            ],
            [
             0.6666666666666666,
             "#ed7953"
            ],
            [
             0.7777777777777778,
             "#fb9f3a"
            ],
            [
             0.8888888888888888,
             "#fdca26"
            ],
            [
             1,
             "#f0f921"
            ]
           ],
           "sequentialminus": [
            [
             0,
             "#0d0887"
            ],
            [
             0.1111111111111111,
             "#46039f"
            ],
            [
             0.2222222222222222,
             "#7201a8"
            ],
            [
             0.3333333333333333,
             "#9c179e"
            ],
            [
             0.4444444444444444,
             "#bd3786"
            ],
            [
             0.5555555555555556,
             "#d8576b"
            ],
            [
             0.6666666666666666,
             "#ed7953"
            ],
            [
             0.7777777777777778,
             "#fb9f3a"
            ],
            [
             0.8888888888888888,
             "#fdca26"
            ],
            [
             1,
             "#f0f921"
            ]
           ]
          },
          "colorway": [
           "#636efa",
           "#EF553B",
           "#00cc96",
           "#ab63fa",
           "#FFA15A",
           "#19d3f3",
           "#FF6692",
           "#B6E880",
           "#FF97FF",
           "#FECB52"
          ],
          "font": {
           "color": "#2a3f5f"
          },
          "geo": {
           "bgcolor": "white",
           "lakecolor": "white",
           "landcolor": "#E5ECF6",
           "showlakes": true,
           "showland": true,
           "subunitcolor": "white"
          },
          "hoverlabel": {
           "align": "left"
          },
          "hovermode": "closest",
          "mapbox": {
           "style": "light"
          },
          "paper_bgcolor": "white",
          "plot_bgcolor": "#E5ECF6",
          "polar": {
           "angularaxis": {
            "gridcolor": "white",
            "linecolor": "white",
            "ticks": ""
           },
           "bgcolor": "#E5ECF6",
           "radialaxis": {
            "gridcolor": "white",
            "linecolor": "white",
            "ticks": ""
           }
          },
          "scene": {
           "xaxis": {
            "backgroundcolor": "#E5ECF6",
            "gridcolor": "white",
            "gridwidth": 2,
            "linecolor": "white",
            "showbackground": true,
            "ticks": "",
            "zerolinecolor": "white"
           },
           "yaxis": {
            "backgroundcolor": "#E5ECF6",
            "gridcolor": "white",
            "gridwidth": 2,
            "linecolor": "white",
            "showbackground": true,
            "ticks": "",
            "zerolinecolor": "white"
           },
           "zaxis": {
            "backgroundcolor": "#E5ECF6",
            "gridcolor": "white",
            "gridwidth": 2,
            "linecolor": "white",
            "showbackground": true,
            "ticks": "",
            "zerolinecolor": "white"
           }
          },
          "shapedefaults": {
           "line": {
            "color": "#2a3f5f"
           }
          },
          "ternary": {
           "aaxis": {
            "gridcolor": "white",
            "linecolor": "white",
            "ticks": ""
           },
           "baxis": {
            "gridcolor": "white",
            "linecolor": "white",
            "ticks": ""
           },
           "bgcolor": "#E5ECF6",
           "caxis": {
            "gridcolor": "white",
            "linecolor": "white",
            "ticks": ""
           }
          },
          "title": {
           "x": 0.05
          },
          "xaxis": {
           "automargin": true,
           "gridcolor": "white",
           "linecolor": "white",
           "ticks": "",
           "title": {
            "standoff": 15
           },
           "zerolinecolor": "white",
           "zerolinewidth": 2
          },
          "yaxis": {
           "automargin": true,
           "gridcolor": "white",
           "linecolor": "white",
           "ticks": "",
           "title": {
            "standoff": 15
           },
           "zerolinecolor": "white",
           "zerolinewidth": 2
          }
         }
        },
        "xaxis": {
         "anchor": "y",
         "domain": [
          0,
          1
         ],
         "title": {
          "text": "執行日期"
         }
        },
        "yaxis": {
         "anchor": "x",
         "domain": [
          0,
          1
         ],
         "title": {
          "text": "金額 "
         }
        }
       }
      }
     },
     "metadata": {},
     "output_type": "display_data"
    },
    {
     "data": {
      "image/png": "[encoded data removed]",
      "text/plain": [
       "<IPython.core.display.Image object>"
      ]
     },
     "execution_count": 12,
     "metadata": {},
     "output_type": "execute_result"
    }
   ],
   "source": [
    "# 將所有資料化為長條圖表 y軸為金額 x軸為日期 查看相對應的受款單位：\n",
    "\n",
    "import plotly.express as px\n",
    "from IPython.display import Image\n",
    "fig = px.bar(file, x= '執行日期', y= '金額 ', color= '受款單位', barmode='group')\n",
    "fig.show()\n",
    "Image(filename='長條圖.png')"
   ]
  },
  {
   "cell_type": "code",
   "execution_count": 8,
   "metadata": {},
   "outputs": [
    {
     "data": {
      "application/vnd.plotly.v1+json": {
       "config": {
        "plotlyServerURL": "https://plot.ly"
       },
       "data": [
        {
         "alignmentgroup": "True",
         "box": {
          "visible": true
         },
         "customdata": [
          [
           "國民及學前教育行政及督導",
           "112年度補助置專輔人員計畫經費",
           "高雄市政府教育局"
          ],
          [
           "國民及學前教育行政及督導",
           "大額通報教補1月12日-非營利幼兒園111學年度學費差額補助第2期款",
           "高雄市政府教育局"
          ],
          [
           "國民及學前教育行政及督導",
           "111學年度國民中小學學生學習扶助計畫第2期款",
           "高雄市政府教育局"
          ],
          [
           "國民及學前教育行政及督導",
           "111學年度技術型及綜合型高級中等學校十二年國民基本教育課程綱要前導學校工作計畫",
           "高雄市政府教育局"
          ],
          [
           "國民及學前教育行政及督導",
           "111學年度十二年國民基本教育課程綱要普通型前導學校計畫",
           "高雄市政府教育局"
          ],
          [
           "國民及學前教育行政及督導",
           "111學年度實施十二年國民基本教育課程預估新增鐘點費",
           "高雄市政府教育局"
          ],
          [
           "國民及學前教育行政及督導",
           "112年度僑生輔導經費",
           "高雄市政府教育局"
          ],
          [
           "國民及學前教育行政及督導",
           "111學年度第2學期高中優質化輔助方案",
           "高雄市政府教育局"
          ],
          [
           "國民及學前教育行政及督導",
           "111學年度第2學期高中優質化輔助方案",
           "高雄市政府教育局"
          ],
          [
           "國民及學前教育行政及督導",
           "大額通報教補1月18日-111學年度輔導教師人力運用計畫第2期款",
           "高雄市政府教育局"
          ],
          [
           "國民及學前教育行政及督導",
           "112年度機構安置高關懷學齡兒少就讀學校輔導工作計畫",
           "高雄市政府教育局"
          ],
          [
           "國民及學前教育行政及督導",
           "112年度反毒教育行動車入校宣導實施計畫",
           "高雄市政府教育局"
          ],
          [
           "國民及學前教育行政及督導",
           "112年校園拒毒萌芽推廣實施計畫反毒活動經費",
           "高雄市政府教育局"
          ],
          [
           "國民及學前教育行政及督導",
           "111學年度「允文允武」閱讀暨運動達人競賽經費",
           "高雄市政府教育局"
          ],
          [
           "國民及學前教育行政及督導",
           "大額通報教補1月30日-111學年度我國少子女化對策計畫之各項幼生就學補助及育兒津貼等經費第3期款",
           "高雄市政府教育局"
          ],
          [
           "國民及學前教育行政及督導",
           "蔡文國小111年度充實設施設備-校園前庭地坪及周邊環境整修工程第2期款",
           "高雄市政府教育局"
          ],
          [
           "國民及學前教育行政及督導",
           "111學年度國民中小學媒體素養教育基地學校計畫第2期款",
           "高雄市政府教育局"
          ],
          [
           "國民及學前教育行政及督導",
           "111學年度實施戶外教育與海洋教育計畫第2期款",
           "高雄市政府教育局"
          ],
          [
           "國民及學前教育行政及督導",
           "111學年度實施戶外教育與海洋教育計畫第2期款",
           "高雄市政府教育局"
          ],
          [
           "國民及學前教育行政及督導",
           "111學年度下學期中央課程與教學輔導諮詢教師團隊代理代課費暨課程與教學補助經費第2期款",
           "高雄市政府教育局"
          ]
         ],
         "hovertemplate": "科目名稱=%{customdata[0]}<br>執行日期=%{x}<br>金額 =%{y}<br>摘要=%{customdata[1]}<br>受款單位=%{customdata[2]}<extra></extra>",
         "legendgroup": "國民及學前教育行政及督導",
         "marker": {
          "color": "#636efa"
         },
         "name": "國民及學前教育行政及督導",
         "offsetgroup": "國民及學前教育行政及督導",
         "orientation": "v",
         "points": "all",
         "scalegroup": "True",
         "showlegend": true,
         "type": "violin",
         "x": [
          "112/01/10",
          "112/01/10",
          "112/01/12",
          "112/01/13",
          "112/01/13",
          "112/01/13",
          "112/01/16",
          "112/01/16",
          "112/01/16",
          "112/01/16",
          "112/01/17",
          "112/01/17",
          "112/01/18",
          "112/01/18",
          "112/01/18",
          "112/01/19",
          "112/01/19",
          "112/01/19",
          "112/01/19",
          "112/01/19"
         ],
         "x0": " ",
         "xaxis": "x",
         "y": [
          "29,172,000",
          "320,977,308",
          "37,120,309",
          "1,146,202",
          "5,544,000",
          "6,048,223",
          "329,280",
          "9,136,900",
          "3,525,000",
          "102,010,172",
          "393,600",
          "398,605",
          "274,489",
          "370,000",
          "1,234,329,000",
          "1,346,900",
          "102,000",
          "4,303,654",
          "302,544",
          "2,459,400"
         ],
         "y0": " ",
         "yaxis": "y"
        }
       ],
       "layout": {
        "legend": {
         "title": {
          "text": "科目名稱"
         },
         "tracegroupgap": 0
        },
        "margin": {
         "t": 60
        },
        "template": {
         "data": {
          "bar": [
           {
            "error_x": {
             "color": "#2a3f5f"
            },
            "error_y": {
             "color": "#2a3f5f"
            },
            "marker": {
             "line": {
              "color": "#E5ECF6",
              "width": 0.5
             },
             "pattern": {
              "fillmode": "overlay",
              "size": 10,
              "solidity": 0.2
             }
            },
            "type": "bar"
           }
          ],
          "barpolar": [
           {
            "marker": {
             "line": {
              "color": "#E5ECF6",
              "width": 0.5
             },
             "pattern": {
              "fillmode": "overlay",
              "size": 10,
              "solidity": 0.2
             }
            },
            "type": "barpolar"
           }
          ],
          "carpet": [
           {
            "aaxis": {
             "endlinecolor": "#2a3f5f",
             "gridcolor": "white",
             "linecolor": "white",
             "minorgridcolor": "white",
             "startlinecolor": "#2a3f5f"
            },
            "baxis": {
             "endlinecolor": "#2a3f5f",
             "gridcolor": "white",
             "linecolor": "white",
             "minorgridcolor": "white",
             "startlinecolor": "#2a3f5f"
            },
            "type": "carpet"
           }
          ],
          "choropleth": [
           {
            "colorbar": {
             "outlinewidth": 0,
             "ticks": ""
            },
            "type": "choropleth"
           }
          ],
          "contour": [
           {
            "colorbar": {
             "outlinewidth": 0,
             "ticks": ""
            },
            "colorscale": [
             [
              0,
              "#0d0887"
             ],
             [
              0.1111111111111111,
              "#46039f"
             ],
             [
              0.2222222222222222,
              "#7201a8"
             ],
             [
              0.3333333333333333,
              "#9c179e"
             ],
             [
              0.4444444444444444,
              "#bd3786"
             ],
             [
              0.5555555555555556,
              "#d8576b"
             ],
             [
              0.6666666666666666,
              "#ed7953"
             ],
             [
              0.7777777777777778,
              "#fb9f3a"
             ],
             [
              0.8888888888888888,
              "#fdca26"
             ],
             [
              1,
              "#f0f921"
             ]
            ],
            "type": "contour"
           }
          ],
          "contourcarpet": [
           {
            "colorbar": {
             "outlinewidth": 0,
             "ticks": ""
            },
            "type": "contourcarpet"
           }
          ],
          "heatmap": [
           {
            "colorbar": {
             "outlinewidth": 0,
             "ticks": ""
            },
            "colorscale": [
             [
              0,
              "#0d0887"
             ],
             [
              0.1111111111111111,
              "#46039f"
             ],
             [
              0.2222222222222222,
              "#7201a8"
             ],
             [
              0.3333333333333333,
              "#9c179e"
             ],
             [
              0.4444444444444444,
              "#bd3786"
             ],
             [
              0.5555555555555556,
              "#d8576b"
             ],
             [
              0.6666666666666666,
              "#ed7953"
             ],
             [
              0.7777777777777778,
              "#fb9f3a"
             ],
             [
              0.8888888888888888,
              "#fdca26"
             ],
             [
              1,
              "#f0f921"
             ]
            ],
            "type": "heatmap"
           }
          ],
          "heatmapgl": [
           {
            "colorbar": {
             "outlinewidth": 0,
             "ticks": ""
            },
            "colorscale": [
             [
              0,
              "#0d0887"
             ],
             [
              0.1111111111111111,
              "#46039f"
             ],
             [
              0.2222222222222222,
              "#7201a8"
             ],
             [
              0.3333333333333333,
              "#9c179e"
             ],
             [
              0.4444444444444444,
              "#bd3786"
             ],
             [
              0.5555555555555556,
              "#d8576b"
             ],
             [
              0.6666666666666666,
              "#ed7953"
             ],
             [
              0.7777777777777778,
              "#fb9f3a"
             ],
             [
              0.8888888888888888,
              "#fdca26"
             ],
             [
              1,
              "#f0f921"
             ]
            ],
            "type": "heatmapgl"
           }
          ],
          "histogram": [
           {
            "marker": {
             "pattern": {
              "fillmode": "overlay",
              "size": 10,
              "solidity": 0.2
             }
            },
            "type": "histogram"
           }
          ],
          "histogram2d": [
           {
            "colorbar": {
             "outlinewidth": 0,
             "ticks": ""
            },
            "colorscale": [
             [
              0,
              "#0d0887"
             ],
             [
              0.1111111111111111,
              "#46039f"
             ],
             [
              0.2222222222222222,
              "#7201a8"
             ],
             [
              0.3333333333333333,
              "#9c179e"
             ],
             [
              0.4444444444444444,
              "#bd3786"
             ],
             [
              0.5555555555555556,
              "#d8576b"
             ],
             [
              0.6666666666666666,
              "#ed7953"
             ],
             [
              0.7777777777777778,
              "#fb9f3a"
             ],
             [
              0.8888888888888888,
              "#fdca26"
             ],
             [
              1,
              "#f0f921"
             ]
            ],
            "type": "histogram2d"
           }
          ],
          "histogram2dcontour": [
           {
            "colorbar": {
             "outlinewidth": 0,
             "ticks": ""
            },
            "colorscale": [
             [
              0,
              "#0d0887"
             ],
             [
              0.1111111111111111,
              "#46039f"
             ],
             [
              0.2222222222222222,
              "#7201a8"
             ],
             [
              0.3333333333333333,
              "#9c179e"
             ],
             [
              0.4444444444444444,
              "#bd3786"
             ],
             [
              0.5555555555555556,
              "#d8576b"
             ],
             [
              0.6666666666666666,
              "#ed7953"
             ],
             [
              0.7777777777777778,
              "#fb9f3a"
             ],
             [
              0.8888888888888888,
              "#fdca26"
             ],
             [
              1,
              "#f0f921"
             ]
            ],
            "type": "histogram2dcontour"
           }
          ],
          "mesh3d": [
           {
            "colorbar": {
             "outlinewidth": 0,
             "ticks": ""
            },
            "type": "mesh3d"
           }
          ],
          "parcoords": [
           {
            "line": {
             "colorbar": {
              "outlinewidth": 0,
              "ticks": ""
             }
            },
            "type": "parcoords"
           }
          ],
          "pie": [
           {
            "automargin": true,
            "type": "pie"
           }
          ],
          "scatter": [
           {
            "fillpattern": {
             "fillmode": "overlay",
             "size": 10,
             "solidity": 0.2
            },
            "type": "scatter"
           }
          ],
          "scatter3d": [
           {
            "line": {
             "colorbar": {
              "outlinewidth": 0,
              "ticks": ""
             }
            },
            "marker": {
             "colorbar": {
              "outlinewidth": 0,
              "ticks": ""
             }
            },
            "type": "scatter3d"
           }
          ],
          "scattercarpet": [
           {
            "marker": {
             "colorbar": {
              "outlinewidth": 0,
              "ticks": ""
             }
            },
            "type": "scattercarpet"
           }
          ],
          "scattergeo": [
           {
            "marker": {
             "colorbar": {
              "outlinewidth": 0,
              "ticks": ""
             }
            },
            "type": "scattergeo"
           }
          ],
          "scattergl": [
           {
            "marker": {
             "colorbar": {
              "outlinewidth": 0,
              "ticks": ""
             }
            },
            "type": "scattergl"
           }
          ],
          "scattermapbox": [
           {
            "marker": {
             "colorbar": {
              "outlinewidth": 0,
              "ticks": ""
             }
            },
            "type": "scattermapbox"
           }
          ],
          "scatterpolar": [
           {
            "marker": {
             "colorbar": {
              "outlinewidth": 0,
              "ticks": ""
             }
            },
            "type": "scatterpolar"
           }
          ],
          "scatterpolargl": [
           {
            "marker": {
             "colorbar": {
              "outlinewidth": 0,
              "ticks": ""
             }
            },
            "type": "scatterpolargl"
           }
          ],
          "scatterternary": [
           {
            "marker": {
             "colorbar": {
              "outlinewidth": 0,
              "ticks": ""
             }
            },
            "type": "scatterternary"
           }
          ],
          "surface": [
           {
            "colorbar": {
             "outlinewidth": 0,
             "ticks": ""
            },
            "colorscale": [
             [
              0,
              "#0d0887"
             ],
             [
              0.1111111111111111,
              "#46039f"
             ],
             [
              0.2222222222222222,
              "#7201a8"
             ],
             [
              0.3333333333333333,
              "#9c179e"
             ],
             [
              0.4444444444444444,
              "#bd3786"
             ],
             [
              0.5555555555555556,
              "#d8576b"
             ],
             [
              0.6666666666666666,
              "#ed7953"
             ],
             [
              0.7777777777777778,
              "#fb9f3a"
             ],
             [
              0.8888888888888888,
              "#fdca26"
             ],
             [
              1,
              "#f0f921"
             ]
            ],
            "type": "surface"
           }
          ],
          "table": [
           {
            "cells": {
             "fill": {
              "color": "#EBF0F8"
             },
             "line": {
              "color": "white"
             }
            },
            "header": {
             "fill": {
              "color": "#C8D4E3"
             },
             "line": {
              "color": "white"
             }
            },
            "type": "table"
           }
          ]
         },
         "layout": {
          "annotationdefaults": {
           "arrowcolor": "#2a3f5f",
           "arrowhead": 0,
           "arrowwidth": 1
          },
          "autotypenumbers": "strict",
          "coloraxis": {
           "colorbar": {
            "outlinewidth": 0,
            "ticks": ""
           }
          },
          "colorscale": {
           "diverging": [
            [
             0,
             "#8e0152"
            ],
            [
             0.1,
             "#c51b7d"
            ],
            [
             0.2,
             "#de77ae"
            ],
            [
             0.3,
             "#f1b6da"
            ],
            [
             0.4,
             "#fde0ef"
            ],
            [
             0.5,
             "#f7f7f7"
            ],
            [
             0.6,
             "#e6f5d0"
            ],
            [
             0.7,
             "#b8e186"
            ],
            [
             0.8,
             "#7fbc41"
            ],
            [
             0.9,
             "#4d9221"
            ],
            [
             1,
             "#276419"
            ]
           ],
           "sequential": [
            [
             0,
             "#0d0887"
            ],
            [
             0.1111111111111111,
             "#46039f"
            ],
            [
             0.2222222222222222,
             "#7201a8"
            ],
            [
             0.3333333333333333,
             "#9c179e"
            ],
            [
             0.4444444444444444,
             "#bd3786"
            ],
            [
             0.5555555555555556,
             "#d8576b"
            ],
            [
             0.6666666666666666,
             "#ed7953"
            ],
            [
             0.7777777777777778,
             "#fb9f3a"
            ],
            [
             0.8888888888888888,
             "#fdca26"
            ],
            [
             1,
             "#f0f921"
            ]
           ],
           "sequentialminus": [
            [
             0,
             "#0d0887"
            ],
            [
             0.1111111111111111,
             "#46039f"
            ],
            [
             0.2222222222222222,
             "#7201a8"
            ],
            [
             0.3333333333333333,
             "#9c179e"
            ],
            [
             0.4444444444444444,
             "#bd3786"
            ],
            [
             0.5555555555555556,
             "#d8576b"
            ],
            [
             0.6666666666666666,
             "#ed7953"
            ],
            [
             0.7777777777777778,
             "#fb9f3a"
            ],
            [
             0.8888888888888888,
             "#fdca26"
            ],
            [
             1,
             "#f0f921"
            ]
           ]
          },
          "colorway": [
           "#636efa",
           "#EF553B",
           "#00cc96",
           "#ab63fa",
           "#FFA15A",
           "#19d3f3",
           "#FF6692",
           "#B6E880",
           "#FF97FF",
           "#FECB52"
          ],
          "font": {
           "color": "#2a3f5f"
          },
          "geo": {
           "bgcolor": "white",
           "lakecolor": "white",
           "landcolor": "#E5ECF6",
           "showlakes": true,
           "showland": true,
           "subunitcolor": "white"
          },
          "hoverlabel": {
           "align": "left"
          },
          "hovermode": "closest",
          "mapbox": {
           "style": "light"
          },
          "paper_bgcolor": "white",
          "plot_bgcolor": "#E5ECF6",
          "polar": {
           "angularaxis": {
            "gridcolor": "white",
            "linecolor": "white",
            "ticks": ""
           },
           "bgcolor": "#E5ECF6",
           "radialaxis": {
            "gridcolor": "white",
            "linecolor": "white",
            "ticks": ""
           }
          },
          "scene": {
           "xaxis": {
            "backgroundcolor": "#E5ECF6",
            "gridcolor": "white",
            "gridwidth": 2,
            "linecolor": "white",
            "showbackground": true,
            "ticks": "",
            "zerolinecolor": "white"
           },
           "yaxis": {
            "backgroundcolor": "#E5ECF6",
            "gridcolor": "white",
            "gridwidth": 2,
            "linecolor": "white",
            "showbackground": true,
            "ticks": "",
            "zerolinecolor": "white"
           },
           "zaxis": {
            "backgroundcolor": "#E5ECF6",
            "gridcolor": "white",
            "gridwidth": 2,
            "linecolor": "white",
            "showbackground": true,
            "ticks": "",
            "zerolinecolor": "white"
           }
          },
          "shapedefaults": {
           "line": {
            "color": "#2a3f5f"
           }
          },
          "ternary": {
           "aaxis": {
            "gridcolor": "white",
            "linecolor": "white",
            "ticks": ""
           },
           "baxis": {
            "gridcolor": "white",
            "linecolor": "white",
            "ticks": ""
           },
           "bgcolor": "#E5ECF6",
           "caxis": {
            "gridcolor": "white",
            "linecolor": "white",
            "ticks": ""
           }
          },
          "title": {
           "x": 0.05
          },
          "xaxis": {
           "automargin": true,
           "gridcolor": "white",
           "linecolor": "white",
           "ticks": "",
           "title": {
            "standoff": 15
           },
           "zerolinecolor": "white",
           "zerolinewidth": 2
          },
          "yaxis": {
           "automargin": true,
           "gridcolor": "white",
           "linecolor": "white",
           "ticks": "",
           "title": {
            "standoff": 15
           },
           "zerolinecolor": "white",
           "zerolinewidth": 2
          }
         }
        },
        "violinmode": "group",
        "xaxis": {
         "anchor": "y",
         "domain": [
          0,
          1
         ],
         "title": {
          "text": "執行日期"
         }
        },
        "yaxis": {
         "anchor": "x",
         "domain": [
          0,
          1
         ],
         "title": {
          "text": "金額 "
         }
        }
       }
      }
     },
     "metadata": {},
     "output_type": "display_data"
    },
    {
     "data": {
      "image/png": "[encoded data removed]",
      "text/plain": [
       "<IPython.core.display.Image object>"
      ]
     },
     "execution_count": 8,
     "metadata": {},
     "output_type": "execute_result"
    }
   ],
   "source": [
    "\n",
    "# 對受款單位為高雄政府教育局的資料做小提琴圖：\n",
    "\n",
    "import plotly.express as px\n",
    "from IPython.display import Image\n",
    "filtered_file_kaohsiung = file.loc[file['受款單位'] == '高雄市政府教育局']\n",
    "filtered_file_kaohsiung.to_csv('filtered_file_kaohsiung', index=False)\n",
    "kaohsiung_file = pd.read_csv('filtered_file_kaohsiung', encoding= 'utf-8')\n",
    "\n",
    "fig = px.violin(kaohsiung_file, x= '執行日期', y= '金額 ', color= '科目名稱', box= True, points='all', hover_data= kaohsiung_file.columns)\n",
    "fig.show()\n",
    "\n",
    "Image(filename='小提琴圖.png')"
   ]
  },
  {
   "attachments": {},
   "cell_type": "markdown",
   "metadata": {},
   "source": [
    "### 問問題：\n",
    "\n",
    "##### Q1 : 112/01/05 哪個受款單位給予最高受款？\n",
    "##### A1 : 由長條圖可知為 國立台南女子高級中學\n",
    "\n",
    "##### Q2 : 在112/01/03 的平均首款金額為多少？\n",
    "##### A2 : 由小提琴圖可知為  5,544,000\n",
    "\n",
    "##### Q3 : 112/01/18 所收到的最高級最低金額為多少？\n",
    "##### A3 : 由小提琴圖可知 最高：1,234,329,000 ; 最低：274,489"
   ]
  }
 ],
 "metadata": {
  "kernelspec": {
   "display_name": "Python 3",
   "language": "python",
   "name": "python3"
  },
  "language_info": {
   "codemirror_mode": {
    "name": "ipython",
    "version": 3
   },
   "file_extension": ".py",
   "mimetype": "text/x-python",
   "name": "python",
   "nbconvert_exporter": "python",
   "pygments_lexer": "ipython3",
   "version": "3.10.7"
  },
  "orig_nbformat": 4
 },
 "nbformat": 4,
 "nbformat_minor": 2
}
