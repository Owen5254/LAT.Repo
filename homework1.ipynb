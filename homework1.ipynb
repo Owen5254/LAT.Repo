{
 "cells": [
  {
   "cell_type": "code",
   "execution_count": 60,
   "metadata": {},
   "outputs": [
    {
     "data": {
      "text/plain": [
       "{'encoding': 'UTF-8-SIG', 'confidence': 1.0, 'language': ''}"
      ]
     },
     "execution_count": 60,
     "metadata": {},
     "output_type": "execute_result"
    }
   ],
   "source": [
    "with open(\"aducate.csv\", 'rb') as rawdata:\n",
    "    result = chardet.detect(rawdata.read(100000))\n",
    "result "
   ]
  },
  {
   "cell_type": "code",
   "execution_count": 61,
   "metadata": {},
   "outputs": [],
   "source": [
    "# pandas 讀檔\n",
    "file = pd.read_csv('aducate.csv', encoding= 'utf-8')"
   ]
  },
  {
   "cell_type": "code",
   "execution_count": 62,
   "metadata": {},
   "outputs": [
    {
     "name": "stdout",
     "output_type": "stream",
     "text": [
      "1100\n"
     ]
    }
   ],
   "source": [
    "# 總資料數：\n",
    "print(len(file))"
   ]
  },
  {
   "cell_type": "code",
   "execution_count": 84,
   "metadata": {},
   "outputs": [
    {
     "name": "stdout",
     "output_type": "stream",
     "text": [
      "共有： 5 件受款來自臺北市政府教育局\n",
      "共有： 14 件受款來自臺北市政府教育局\n",
      "共有： 19 件受款來自臺中市政府教育局\n",
      "共有： 20 件受款來自桃園市政府\n",
      "共有： 16 件受款來自台南市政府教育局\n",
      "共有： 20 件受款來自高雄市政府教育局\n"
     ]
    }
   ],
   "source": [
    "# Q1~Q6 ： 共有幾件款項 分別來自 台北市 新北市 台中市 桃園市 台南市 高雄市 ：\n",
    "\n",
    "filtered_file_taipei = file.loc[file['受款單位'] == '臺北市政府教育局']\n",
    "filtered_file_newtaipei = file.loc[file['受款單位'] == '新北市政府教育局']\n",
    "filtered_file_taichung = file.loc[file['受款單位'] == '臺中市政府教育局']\n",
    "filtered_file_taoyuan = file.loc[file['受款單位'] == '桃園市政府']\n",
    "filtered_file_kaohsiung = file.loc[file['受款單位'] == '高雄市政府教育局']\n",
    "filtered_file_tainan = file.loc[file['受款單位'] == '臺南市政府教育局']\n",
    "\n",
    "print('共有：', len(filtered_file_taipei),'件受款來自臺北市政府教育局')\n",
    "print('共有：', len(filtered_file_newtaipei),'件受款來自臺北市政府教育局')\n",
    "print('共有：', len(filtered_file_taichung),'件受款來自臺中市政府教育局')\n",
    "print('共有：', len(filtered_file_taoyuan),'件受款來自桃園市政府')\n",
    "print('共有：', len(filtered_file_tainan),'件受款來自台南市政府教育局')\n",
    "print('共有：', len(filtered_file_kaohsiung),'件受款來自高雄市政府教育局')\n",
    "\n"
   ]
  },
  {
   "cell_type": "code",
   "execution_count": 85,
   "metadata": {},
   "outputs": [
    {
     "name": "stdout",
     "output_type": "stream",
     "text": [
      "共有： 810 件科目為國民及學前教育行政及督導\n",
      "共有： 290 件科目為國立高級中等學校教學與訓輔輔助\n"
     ]
    }
   ],
   "source": [
    "# Q7: 有幾件科目為'國民及學前教育行政及督導'\n",
    "# Q8: 有幾件科目為'國立高級中等學校教學與訓輔輔助'\n",
    "\n",
    "filtered_file_sub1 = file.loc[file['科目名稱'] == '國民及學前教育行政及督導']\n",
    "filtered_file_sub2 = file.loc[file['科目名稱'] == '國立高級中等學校教學與訓輔輔助']\n",
    "\n",
    "print('共有：', len(filtered_file_sub1),'件科目為國民及學前教育行政及督導')\n",
    "print('共有：', len(filtered_file_sub2),'件科目為國立高級中等學校教學與訓輔輔助')"
   ]
  },
  {
   "cell_type": "code",
   "execution_count": 106,
   "metadata": {},
   "outputs": [
    {
     "name": "stdout",
     "output_type": "stream",
     "text": [
      "金額超過十億： 4 筆\n",
      "金額介於十億至一億： 25 筆\n",
      "金額低於一億： 1071 筆\n"
     ]
    }
   ],
   "source": [
    "# Q9：超過十億的金額有幾筆\n",
    "# Q10：金額介於十億至一億有幾筆\n",
    "# Q11: 金額低於一億有幾筆\n",
    "\n",
    "amount = [0,0,0]\n",
    "for index, row in file.iterrows():\n",
    "    money = int(row[4].replace(',',''))\n",
    "    if money >= 1000000000 :\n",
    "        amount[0] += 1\n",
    "    elif money >= 100000000 :\n",
    "        amount[1] += 1\n",
    "    else:\n",
    "        amount[2] += 1 \n",
    "        \n",
    "print('金額超過十億：',amount[0], '筆')\n",
    "print('金額介於十億至一億：',amount[1], '筆')\n",
    "print('金額低於一億：',amount[2], '筆')\n",
    "        \n"
   ]
  }
 ],
 "metadata": {
  "kernelspec": {
   "display_name": "Python 3",
   "language": "python",
   "name": "python3"
  },
  "language_info": {
   "codemirror_mode": {
    "name": "ipython",
    "version": 3
   },
   "file_extension": ".py",
   "mimetype": "text/x-python",
   "name": "python",
   "nbconvert_exporter": "python",
   "pygments_lexer": "ipython3",
   "version": "3.10.7"
  },
  "orig_nbformat": 4
 },
 "nbformat": 4,
 "nbformat_minor": 2
}
